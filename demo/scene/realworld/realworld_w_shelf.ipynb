{
 "cells": [
  {
   "cell_type": "code",
   "execution_count": 2,
   "metadata": {},
   "outputs": [
    {
     "name": "stdout",
     "output_type": "stream",
     "text": [
      "MuJoCo version:[2.3.7]\n"
     ]
    }
   ],
   "source": [
    "import copy\n",
    "import mujoco\n",
    "import numpy as np\n",
    "import matplotlib.pyplot as plt\n",
    "import sys\n",
    "sys.path.append(\"../../../\")\n",
    "from utils.mujoco_parser import MuJoCoParserClass\n",
    "from utils.util import sample_xyzs,rpy2r,r2quat\n",
    "np.set_printoptions(precision=2,suppress=True,linewidth=100)\n",
    "plt.rc('xtick',labelsize=6); plt.rc('ytick',labelsize=6)\n",
    "%config InlineBackend.figure_format = 'retina'\n",
    "%matplotlib inline\n",
    "print (\"MuJoCo version:[%s]\"%(mujoco.__version__))"
   ]
  },
  {
   "cell_type": "code",
   "execution_count": 3,
   "metadata": {},
   "outputs": [
    {
     "name": "stdout",
     "output_type": "stream",
     "text": [
      "window\n"
     ]
    },
    {
     "ename": "KeyError",
     "evalue": "\"Invalid name 'tray_gray'. Valid names: ['avoiding_object_table', 'base', 'base_table', 'camera_center', 'camera_mount', 'chocopie', 'cider', 'coke', 'd435i', 'fanta_grape', 'forearm_link', 'kitchen-bowl-blue', 'kitchen-bowl-red', 'left_object_table', 'pocky', 'pringles', 'redbullcan', 'rg2_gripper_base_link', 'rg2_gripper_finger1_finger_link', 'rg2_gripper_finger1_finger_tip_link', 'rg2_gripper_finger1_inner_knuckle_link', 'rg2_gripper_finger2_finger_link', 'rg2_gripper_finger2_finger_tip_link', 'rg2_gripper_finger2_inner_knuckle_link', 'right_object_table', 'shelf_back', 'shelf_column1', 'shelf_column2', 'shelf_row1', 'shelf_row2', 'shelf_row3', 'shoulder_link', 'tcp_link', 'tray', 'upper_arm_link', 'world', 'wrist_1_link', 'wrist_2_link', 'wrist_3_link', 'ycb-apple', 'ycb-apple-2', 'ycb-banana', 'ycb-banana-2', 'ycb-lemon', 'ycb-lemon-2', 'ycb-orange', 'ycb-orange-2']\"",
     "output_type": "error",
     "traceback": [
      "\u001b[0;31m---------------------------------------------------------------------------\u001b[0m",
      "\u001b[0;31mKeyError\u001b[0m                                  Traceback (most recent call last)",
      "Cell \u001b[0;32mIn[3], line 16\u001b[0m\n\u001b[1;32m     14\u001b[0m bowl_red_pos \u001b[39m=\u001b[39m np\u001b[39m.\u001b[39marray([ \u001b[39m0.9\u001b[39m, \u001b[39m0.3\u001b[39m, \u001b[39m0.8\u001b[39m])\n\u001b[1;32m     15\u001b[0m bowl_blue_pos \u001b[39m=\u001b[39m np\u001b[39m.\u001b[39marray([ \u001b[39m0.9\u001b[39m, \u001b[39m-\u001b[39m\u001b[39m0.3\u001b[39m, \u001b[39m0.8\u001b[39m])\n\u001b[0;32m---> 16\u001b[0m env\u001b[39m.\u001b[39mmodel\u001b[39m.\u001b[39mjoint(env\u001b[39m.\u001b[39;49mmodel\u001b[39m.\u001b[39;49mbody(\u001b[39m'\u001b[39;49m\u001b[39mtray_gray\u001b[39;49m\u001b[39m'\u001b[39;49m)\u001b[39m.\u001b[39mjntadr[\u001b[39m0\u001b[39m])\u001b[39m.\u001b[39mqpos0[:\u001b[39m3\u001b[39m] \u001b[39m=\u001b[39m tray_pos\n\u001b[1;32m     17\u001b[0m env\u001b[39m.\u001b[39mmodel\u001b[39m.\u001b[39mjoint(env\u001b[39m.\u001b[39mmodel\u001b[39m.\u001b[39mbody(\u001b[39m'\u001b[39m\u001b[39mkitchen-bowl-red\u001b[39m\u001b[39m'\u001b[39m)\u001b[39m.\u001b[39mjntadr[\u001b[39m0\u001b[39m])\u001b[39m.\u001b[39mqpos0[:\u001b[39m3\u001b[39m] \u001b[39m=\u001b[39m bowl_red_pos\n\u001b[1;32m     18\u001b[0m env\u001b[39m.\u001b[39mmodel\u001b[39m.\u001b[39mjoint(env\u001b[39m.\u001b[39mmodel\u001b[39m.\u001b[39mbody(\u001b[39m'\u001b[39m\u001b[39mkitchen-bowl-blue\u001b[39m\u001b[39m'\u001b[39m)\u001b[39m.\u001b[39mjntadr[\u001b[39m0\u001b[39m])\u001b[39m.\u001b[39mqpos0[:\u001b[39m3\u001b[39m] \u001b[39m=\u001b[39m bowl_blue_pos\n",
      "\u001b[0;31mKeyError\u001b[0m: \"Invalid name 'tray_gray'. Valid names: ['avoiding_object_table', 'base', 'base_table', 'camera_center', 'camera_mount', 'chocopie', 'cider', 'coke', 'd435i', 'fanta_grape', 'forearm_link', 'kitchen-bowl-blue', 'kitchen-bowl-red', 'left_object_table', 'pocky', 'pringles', 'redbullcan', 'rg2_gripper_base_link', 'rg2_gripper_finger1_finger_link', 'rg2_gripper_finger1_finger_tip_link', 'rg2_gripper_finger1_inner_knuckle_link', 'rg2_gripper_finger2_finger_link', 'rg2_gripper_finger2_finger_tip_link', 'rg2_gripper_finger2_inner_knuckle_link', 'right_object_table', 'shelf_back', 'shelf_column1', 'shelf_column2', 'shelf_row1', 'shelf_row2', 'shelf_row3', 'shoulder_link', 'tcp_link', 'tray', 'upper_arm_link', 'world', 'wrist_1_link', 'wrist_2_link', 'wrist_3_link', 'ycb-apple', 'ycb-apple-2', 'ycb-banana', 'ycb-banana-2', 'ycb-lemon', 'ycb-lemon-2', 'ycb-orange', 'ycb-orange-2']\""
     ]
    }
   ],
   "source": [
    "xml_path = '../../../asset/scene_realworld_w_shelf_category.xml'\n",
    "env = MuJoCoParserClass(name='Place task scene: Office table',rel_xml_path=xml_path,VERBOSE=False, MODE='window')\n",
    "print(env.MODE)\n",
    "\n",
    "# Move tables and robot base\n",
    "env.model.body('base_table').pos = np.array([0,0,0])\n",
    "env.model.body('avoiding_object_table').pos = np.array([0.38+0.45,0,0])\n",
    "env.model.body('base').pos = np.array([-0.18,0,0.79])\n",
    "env.model.body('right_object_table').pos = np.array([-0.05,-0.80,0])\n",
    "env.model.body('left_object_table').pos = np.array([-0.05,0.80,0])\n",
    "\n",
    "# Place objects\n",
    "tray_pos = np.array([ 0.9, 0.0, 0.8])\n",
    "bowl_red_pos = np.array([ 0.9, 0.3, 0.8])\n",
    "bowl_blue_pos = np.array([ 0.9, -0.3, 0.8])\n",
    "env.model.joint(env.model.body('tray_gray').jntadr[0]).qpos0[:3] = tray_pos\n",
    "env.model.joint(env.model.body('kitchen-bowl-red').jntadr[0]).qpos0[:3] = bowl_red_pos\n",
    "env.model.joint(env.model.body('kitchen-bowl-blue').jntadr[0]).qpos0[:3] = bowl_blue_pos\n",
    "\n",
    "env.model.joint(env.model.body('ycb-apple-2').jntadr[0]).qpos0[:3] = bowl_red_pos + np.array([0.0,0.0,0.02])\n",
    "env.model.joint(env.model.body('ycb-banana-2').jntadr[0]).qpos0[:3] = tray_pos + np.array([0.0,0.03,0.2])\n",
    "env.model.joint(env.model.body('ycb-banana-2').jntadr[0]).qpos0[3:] = r2quat(rpy2r(np.radians([0, 0, 90])))\n",
    "env.model.joint(env.model.body('ycb-lemon-2').jntadr[0]).qpos0[:3] = tray_pos + np.array([-0.03,-0.07,0.02])\n",
    "env.model.joint(env.model.body('ycb-orange-2').jntadr[0]).qpos0[:3] = bowl_blue_pos + np.array([0.0,0.0,0.02])\n",
    "\n",
    "# Target objects\n",
    "env.model.joint(env.model.body('ycb-apple').jntadr[0]).qpos0[:3] = np.array([0.1, -0.6, 0.8])\n",
    "env.model.joint(env.model.body('ycb-banana').jntadr[0]).qpos0[:3] = np.array([-5.0,-1.5,0.2])\n",
    "env.model.joint(env.model.body('ycb-lemon').jntadr[0]).qpos0[:3] = np.array([0.0, -0.6, 0.8])\n",
    "env.model.joint(env.model.body('ycb-orange').jntadr[0]).qpos0[:3] = np.array([-0.1, -0.6, 0.8])\n",
    "\n",
    "joint_names = env.rev_joint_names[:6]\n",
    "idxs_forward = [env.model.joint(joint_name).qposadr[0] for joint_name in env.joint_names[:6]]\n",
    "idxs_jacobian = [env.model.joint(joint_name).dofadr[0] for joint_name in env.joint_names[:6]]\n",
    "list1, list2 = env.ctrl_joint_idxs, idxs_forward\n",
    "idxs_step = []\n",
    "for i in range(len(list2)):\n",
    "    if list2[i] in list1:\n",
    "        idxs_step.append(list1.index(list2[i]))"
   ]
  },
  {
   "cell_type": "code",
   "execution_count": null,
   "metadata": {},
   "outputs": [],
   "source": []
  }
 ],
 "metadata": {
  "kernelspec": {
   "display_name": "llm",
   "language": "python",
   "name": "python3"
  },
  "language_info": {
   "codemirror_mode": {
    "name": "ipython",
    "version": 3
   },
   "file_extension": ".py",
   "mimetype": "text/x-python",
   "name": "python",
   "nbconvert_exporter": "python",
   "pygments_lexer": "ipython3",
   "version": "3.8.13"
  },
  "orig_nbformat": 4
 },
 "nbformat": 4,
 "nbformat_minor": 2
}
