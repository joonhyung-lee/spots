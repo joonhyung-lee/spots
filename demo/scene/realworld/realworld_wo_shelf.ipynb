{
 "cells": [
  {
   "cell_type": "markdown",
   "metadata": {},
   "source": [
    "### Semi-autonomous Teleoperation Demo : Place task in `Office` scene"
   ]
  },
  {
   "cell_type": "markdown",
   "metadata": {},
   "source": [
    "### Parse `Realistic Scene`"
   ]
  },
  {
   "cell_type": "code",
   "execution_count": 1,
   "metadata": {},
   "outputs": [
    {
     "name": "stdout",
     "output_type": "stream",
     "text": [
      "MuJoCo version:[2.3.7]\n"
     ]
    }
   ],
   "source": [
    "import mujoco,cv2,pyvista\n",
    "import numpy as np\n",
    "import matplotlib.pyplot as plt\n",
    "import sys\n",
    "sys.path.append('../../../')\n",
    "from utils.mujoco_parser import MuJoCoParserClass\n",
    "from utils.util import sample_xyzs,rpy2r,r2rpy,r2quat,compute_view_params,get_interp_const_vel_traj, printmd\n",
    "np.set_printoptions(precision=2,suppress=True,linewidth=100)\n",
    "plt.rc('xtick',labelsize=6); plt.rc('ytick',labelsize=6)\n",
    "%config InlineBackend.figure_format = 'retina'\n",
    "%matplotlib inline\n",
    "print (\"MuJoCo version:[%s]\"%(mujoco.__version__))"
   ]
  },
  {
   "cell_type": "code",
   "execution_count": 2,
   "metadata": {},
   "outputs": [
    {
     "name": "stdout",
     "output_type": "stream",
     "text": [
      "window\n"
     ]
    }
   ],
   "source": [
    "xml_path = '../../../asset/scene_realworld_wo_shelf.xml'\n",
    "env = MuJoCoParserClass(name='Place task scene: Office table',rel_xml_path=xml_path,VERBOSE=False, MODE='window')\n",
    "print(env.MODE)\n",
    "\n",
    "# Move tables and robot base\n",
    "env.model.body('base_table').pos = np.array([0,0,0])\n",
    "env.model.body('avoiding_object_table').pos = np.array([0.38+0.45,0,0])\n",
    "env.model.body('base').pos = np.array([0.18,0,0.79])\n",
    "env.model.body('right_object_table').pos = np.array([-0.05,-0.80,0])\n",
    "env.model.body('left_object_table').pos = np.array([-0.05,0.80,0])\n",
    "\n",
    "# Place objects\n",
    "tray_pos = np.array([ 0.9, 0.0, 0.8])\n",
    "bowl_red_pos = np.array([ 0.9, 0.3, 0.8])\n",
    "bowl_blue_pos = np.array([ 0.9, -0.3, 0.8])\n",
    "env.model.joint(env.model.body('tray_gray').jntadr[0]).qpos0[:3] = tray_pos\n",
    "env.model.joint(env.model.body('kitchen-bowl-red').jntadr[0]).qpos0[:3] = bowl_red_pos\n",
    "env.model.joint(env.model.body('kitchen-bowl-blue').jntadr[0]).qpos0[:3] = bowl_blue_pos\n",
    "\n",
    "env.model.joint(env.model.body('ycb-apple-2').jntadr[0]).qpos0[:3] = bowl_red_pos + np.array([0.0,0.0,0.02])\n",
    "env.model.joint(env.model.body('ycb-banana-2').jntadr[0]).qpos0[:3] = tray_pos + np.array([0.0,0.03,0.2])\n",
    "env.model.joint(env.model.body('ycb-banana-2').jntadr[0]).qpos0[3:] = r2quat(rpy2r(np.radians([0, 0, 90])))\n",
    "env.model.joint(env.model.body('ycb-lemon-2').jntadr[0]).qpos0[:3] = tray_pos + np.array([-0.03,-0.07,0.02])\n",
    "env.model.joint(env.model.body('ycb-orange-2').jntadr[0]).qpos0[:3] = bowl_blue_pos + np.array([0.0,0.0,0.02])\n",
    "\n",
    "# Target objects\n",
    "env.model.joint(env.model.body('ycb-apple').jntadr[0]).qpos0[:3] = np.array([0.1, -0.6, 0.8])\n",
    "env.model.joint(env.model.body('ycb-lemon').jntadr[0]).qpos0[:3] = np.array([0.0, -0.6, 0.8])\n",
    "env.model.joint(env.model.body('ycb-orange').jntadr[0]).qpos0[:3] = np.array([-0.1, -0.6, 0.8])\n"
   ]
  },
  {
   "cell_type": "code",
   "execution_count": 5,
   "metadata": {},
   "outputs": [
    {
     "name": "stdout",
     "output_type": "stream",
     "text": [
      "[ 0.35 -0.13  1.16]\n",
      "Pressed ESC\n",
      "Quitting.\n"
     ]
    }
   ],
   "source": [
    "\n",
    "# Init viewer\n",
    "env.init_viewer(viewer_title='UR5e with RG2 gripper',viewer_width=1200,viewer_height=800,\n",
    "                viewer_hide_menus=True, MODE='window')\n",
    "env.update_viewer(azimuth=30,distance=3.0,elevation=-30,lookat=[1.0,0.0,0.71],\n",
    "                  VIS_TRANSPARENT=False,VIS_CONTACTPOINT=False,\n",
    "                  contactwidth=0.05,contactheight=0.05,contactrgba=np.array([1,0,0,1]),\n",
    "                  VIS_JOINT=False,jointlength=0.25,jointwidth=0.05,jointrgba=[0.2,0.6,0.8,0.6])\n",
    "\n",
    "pcd_tick = 0\n",
    "\n",
    "# Reset\n",
    "env.reset()\n",
    "\n",
    "# init_ur_q = np.array([np.deg2rad(-90), np.deg2rad(-130), np.deg2rad(120), np.deg2rad(100), np.deg2rad(45), np.deg2rad(-90)])\n",
    "init_ur_q = np.array([np.deg2rad(-180), np.deg2rad(-30), np.deg2rad(-120), np.deg2rad(125), np.deg2rad(-90), np.deg2rad(0)])\n",
    "\n",
    "env.forward(q=init_ur_q, joint_idxs=env.idxs_forward)\n",
    "initial_xyz = env.get_p_body('tcp_link')\n",
    "print(env.get_p_body('tcp_link'))\n",
    "tick,max_sec = 0,1000\n",
    "\n",
    "i = 0\n",
    "\n",
    "while env.get_sim_time() <= max_sec:    \n",
    "    env.step(ctrl=init_ur_q,ctrl_idxs=env.idxs_step)\n",
    "    # env.model.geom_size[env.model.body('obj_box_03').geomadr[0]] += np.array([0.0001,0.0001,0.0001])\n",
    "    if not env.is_viewer_alive(): break\n",
    "\n",
    "    # Render\n",
    "    if env.loop_every(HZ=20):\n",
    "        # Compute some poses\n",
    "        p_tcp,R_tcp = env.get_pR_body(body_name='tcp_link')\n",
    "        p_cam,R_cam = env.get_pR_body(body_name='camera_center')\n",
    "        p_base,R_base = env.get_pR_body(body_name='base')\n",
    "        # Get PCD from a specific view\n",
    "        p_ego  = p_cam\n",
    "        p_trgt = p_cam + R_cam[:,2] # + np.array([0,0,-0.2])\n",
    "        rgb_img,depth_img,pcd,xyz_img = env.get_egocentric_rgb_depth_pcd(\n",
    "            p_ego=p_ego,p_trgt=p_trgt,rsz_rate=40,fovy=45,BACKUP_AND_RESTORE_VIEW=True)\n",
    "        env.render(render_every=1)\n",
    "\n",
    "# Close viewer\n",
    "env.close_viewer()"
   ]
  },
  {
   "cell_type": "code",
   "execution_count": null,
   "metadata": {},
   "outputs": [
    {
     "name": "stdout",
     "output_type": "stream",
     "text": [
      "{'kitchen-drainer': {'position': array([0.9 , 0.35, 0.82]), 'size': array([0.17, 0.07, 0.28])}, 'tray': {'position': array([ 0.9, -0.3,  0.8]), 'size': array([0.11, 0.15, 0.01])}, 'mug_cup': {'position': array([ 0.9 , -0.3 ,  0.85]), 'size': array([0.05, 0.07, 0.1 ])}, 'kitchen-plate-2': {'position': array([0.9 , 0.29, 1.07]), 'size': array([0.1 , 0.1 , 0.01])}, 'kitchen-plate-3': {'position': array([0.9 , 0.23, 1.07]), 'size': array([0.1 , 0.1 , 0.01])}}\n",
      "['kitchen-drainer', 'tray', 'mug_cup', 'kitchen-plate-2', 'kitchen-plate-3']\n"
     ]
    }
   ],
   "source": [
    "env.reset()\n",
    "\n",
    "# object position lists on the table\n",
    "obj_pos_list_table = {}\n",
    "obj_pos_list_table['kitchen-drainer'] = {'position':env.get_p_body('kitchen-drainer'), 'size':np.array([0.17,0.07,0.28])}\n",
    "obj_pos_list_table['tray'] = {'position':env.get_p_body('tray'), 'size': np.array([0.11,0.15,0.01])}\n",
    "obj_pos_list_table['mug_cup'] = {'position':env.get_p_body('mug_cup'), 'size': np.array([0.05,0.07,0.1])}\n",
    "obj_pos_list_table['kitchen-plate-2'] = {'position':env.get_p_body('kitchen-plate-2'), 'size': np.array([0.1,0.1,0.01])}\n",
    "obj_pos_list_table['kitchen-plate-3'] = {'position':env.get_p_body('kitchen-plate-3'), 'size': np.array([0.1,0.1,0.01])}\n",
    "\n",
    "print(obj_pos_list_table)\n",
    "print(list(obj_pos_list_table.keys()))"
   ]
  },
  {
   "cell_type": "code",
   "execution_count": null,
   "metadata": {},
   "outputs": [],
   "source": []
  }
 ],
 "metadata": {
  "kernelspec": {
   "display_name": "llm",
   "language": "python",
   "name": "python3"
  },
  "language_info": {
   "codemirror_mode": {
    "name": "ipython",
    "version": 3
   },
   "file_extension": ".py",
   "mimetype": "text/x-python",
   "name": "python",
   "nbconvert_exporter": "python",
   "pygments_lexer": "ipython3",
   "version": "3.8.13"
  },
  "orig_nbformat": 4
 },
 "nbformat": 4,
 "nbformat_minor": 2
}
