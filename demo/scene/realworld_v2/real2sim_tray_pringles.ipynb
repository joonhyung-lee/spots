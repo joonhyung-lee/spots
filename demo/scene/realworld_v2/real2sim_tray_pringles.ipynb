{
 "cells": [
  {
   "cell_type": "code",
   "execution_count": 1,
   "metadata": {},
   "outputs": [],
   "source": [
    "import mujoco,cv2,pyvista\n",
    "import numpy as np\n",
    "import matplotlib.pyplot as plt\n",
    "import sys\n",
    "sys.path.append('../../../')\n",
    "from utils.mujoco_parser import MuJoCoParserClass\n",
    "from utils.util import sample_xyzs,rpy2r,r2rpy,r2quat,compute_view_params,get_interp_const_vel_traj, printmd\n",
    "np.set_printoptions(precision=2,suppress=True,linewidth=100)\n",
    "plt.rc('xtick',labelsize=6); plt.rc('ytick',labelsize=6)\n",
    "%config InlineBackend.figure_format = 'retina'\n",
    "%matplotlib inline\n"
   ]
  },
  {
   "cell_type": "code",
   "execution_count": 2,
   "metadata": {},
   "outputs": [
    {
     "name": "stdout",
     "output_type": "stream",
     "text": [
      "MuJoCo version:[2.3.7]\n",
      "window\n"
     ]
    }
   ],
   "source": [
    "print (\"MuJoCo version:[%s]\"%(mujoco.__version__))\n",
    "xml_path = '../../../asset/visualize_realworld_wo_shelf_pringles.xml'\n",
    "env = MuJoCoParserClass(name='Place task scene: Office table',rel_xml_path=xml_path,VERBOSE=False, MODE='window')\n",
    "print(env.MODE)\n",
    "\n",
    "# Move tables and robot base\n",
    "env.model.body('base_table').pos = np.array([0,0,0])\n",
    "env.model.body('avoiding_object_table').pos = np.array([0.38+0.45,0,0])\n",
    "env.model.body('base').pos = np.array([-10.18,0,0.79])\n",
    "env.model.body('right_object_table').pos = np.array([-0.05,-0.80,0])\n",
    "env.model.body('left_object_table').pos = np.array([-0.05,0.80,0])\n",
    "\n",
    "# Place objects\n",
    "tray_pos = np.array([ 0.9, 0.2, 0.75])\n",
    "tray_gray_pos = np.array([ 0.89, 0., 0.75])\n",
    "bowl_red_pos = np.array([ 0.82, -0.175, 0.75])\n",
    "env.model.joint(env.model.body('tray').jntadr[0]).qpos0[:3] = tray_pos\n",
    "env.model.joint(env.model.body('tray').jntadr[0]).qpos0[3:] = r2quat(rpy2r(np.radians([90, 0, 90])))\n",
    "env.model.joint(env.model.body('tray_gray').jntadr[0]).qpos0[:3] = tray_gray_pos\n",
    "env.model.joint(env.model.body('tray_gray').jntadr[0]).qpos0[3:] = r2quat(rpy2r(np.radians([90, 0, 90])))\n",
    "env.model.joint(env.model.body('kitchen-bowl-blue').jntadr[0]).qpos0[:3] = bowl_red_pos\n",
    "\n",
    "env.model.joint(env.model.body('ycb-apple-2').jntadr[0]).qpos0[:3] = bowl_red_pos + np.array([0,0,0.03])\n",
    "env.model.joint(env.model.body('mug_cup').jntadr[0]).qpos0[:3] = tray_pos + np.array([0.07,-0.01,0.0])\n",
    "env.model.joint(env.model.body('mug_cup').jntadr[0]).qpos0[3:] = r2quat(rpy2r(np.radians([0, 0, 90])))\n",
    "env.model.joint(env.model.body('hershey_cookie').jntadr[0]).qpos0[:3] = tray_gray_pos + np.array([0.12,0,0.05])\n",
    "env.model.joint(env.model.body('hershey_cookie').jntadr[0]).qpos0[3:] = r2quat(rpy2r(np.radians([90, -90, 0])))\n",
    "\n",
    "env.model.joint(env.model.body('kitchen-bowl-red').jntadr[0]).qpos0[:3] = np.array([-5,0,0.5])\n",
    "env.model.joint(env.model.body('ycb-banana-2').jntadr[0]).qpos0[:3] = np.array([-9,0,0]) # sorted_pose[2] + spawn_z_offset\n",
    "env.model.joint(env.model.body('ycb-lemon-2').jntadr[0]).qpos0[:3] = np.array([-5,0,0.5])\n",
    "env.model.joint(env.model.body('ycb-orange-2').jntadr[0]).qpos0[:3] = np.array([-5,0,0.5])\n",
    "\n",
    "# Target objects\n",
    "env.model.joint(env.model.body('pringles').jntadr[0]).qpos0[:3] = np.array([0.1, -0.6, 0.8])"
   ]
  },
  {
   "cell_type": "code",
   "execution_count": 3,
   "metadata": {},
   "outputs": [
    {
     "name": "stdout",
     "output_type": "stream",
     "text": [
      "Pressed ESC\n",
      "Quitting.\n"
     ]
    }
   ],
   "source": [
    "import time\n",
    "\n",
    "# Init viewer\n",
    "env.init_viewer(viewer_title='UR5e with RG2 gripper',viewer_width=1200,viewer_height=800,\n",
    "                viewer_hide_menus=True, MODE='window')\n",
    "env.update_viewer(azimuth=0,distance=0.7,elevation=-30,lookat=[0.7,0.0,1.01],\n",
    "                  VIS_TRANSPARENT=False,VIS_CONTACTPOINT=False,\n",
    "                  contactwidth=0.05,contactheight=0.05,contactrgba=np.array([1,0,0,1]),\n",
    "                  VIS_JOINT=False,jointlength=0.25,jointwidth=0.05,jointrgba=[0.2,0.6,0.8,0.6])\n",
    "\n",
    "# Reset\n",
    "env.reset()\n",
    "init_ur_q = np.array([-2.28, -1.03, -2.02,  2.43, -0.81,  0.46])\n",
    "env.forward(q=init_ur_q, joint_idxs=env.idxs_forward)\n",
    "\n",
    "for i in range(6):\n",
    "    if i == 1:      # Apple -> Left Tray\n",
    "        env.model.joint(env.model.body('ycb-apple-2').jntadr[0]).qpos0[:3] = np.array([0.80, 0.25, 0.75])\n",
    "    elif i == 2:    # Mug cup -> Center Tray\n",
    "        env.model.joint(env.model.body('mug_cup').jntadr[0]).qpos0[:3] = np.array([0.90, -0.05, 0.75])\n",
    "    elif i == 3:    # Hershey -> Left Tray\n",
    "        env.model.joint(env.model.body('hershey_cookie').jntadr[0]).qpos0[:3] = np.array([1.025, 0.21, 0.80])\n",
    "    elif i == 4:    # Apple -> Right Tray\n",
    "        env.model.joint(env.model.body('ycb-apple-2').jntadr[0]).qpos0[:3] = bowl_red_pos + np.array([0,0,0.03])\n",
    "    elif i == 5:    # Hershey -> Left Tray\n",
    "        env.model.joint(env.model.body('hershey_cookie').jntadr[0]).qpos0[:3] = np.array([0.85, 0.205, 0.80])\n",
    "\n",
    "    env.reset()\n",
    "    init_ur_q = np.array([-2.28, -1.03, -2.02,  2.43, -0.81,  0.46])\n",
    "    env.forward(q=init_ur_q, joint_idxs=env.idxs_forward)\n",
    "    start_t = time.time()\n",
    "    while time.time() - start_t < 3:\n",
    "        env.step(ctrl=init_ur_q,ctrl_idxs=env.idxs_step)\n",
    "        # env.step(ctrl=init_ur_q,ctrl_idxs=env.idxs_step)\n",
    "        # env.model.geom_size[env.model.body('obj_box_03').geomadr[0]] += np.array([0.0001,0.0001,0.0001])\n",
    "        if not env.is_viewer_alive(): break\n",
    "\n",
    "        # Render\n",
    "        if env.loop_every(HZ=200):\n",
    "            # Compute some poses\n",
    "            p_tcp,R_tcp = env.get_pR_body(body_name='tcp_link')\n",
    "            p_cam,R_cam = env.get_pR_body(body_name='camera_center')\n",
    "            p_base,R_base = env.get_pR_body(body_name='base')\n",
    "            # Get PCD from a specific view\n",
    "            p_ego  = p_cam\n",
    "            p_trgt = p_cam + R_cam[:,2] # + np.array([0,0,-0.2])\n",
    "            rgb_img,depth_img,pcd,xyz_img = env.get_egocentric_rgb_depth_pcd(\n",
    "                p_ego=p_ego,p_trgt=p_trgt,rsz_rate=40,fovy=45,BACKUP_AND_RESTORE_VIEW=True)\n",
    "            env.render(render_every=1)\n",
    "\n",
    "# Close viewer\n",
    "env.close_viewer()"
   ]
  },
  {
   "cell_type": "code",
   "execution_count": null,
   "metadata": {},
   "outputs": [],
   "source": []
  }
 ],
 "metadata": {
  "kernelspec": {
   "display_name": "llm",
   "language": "python",
   "name": "python3"
  },
  "language_info": {
   "codemirror_mode": {
    "name": "ipython",
    "version": 3
   },
   "file_extension": ".py",
   "mimetype": "text/x-python",
   "name": "python",
   "nbconvert_exporter": "python",
   "pygments_lexer": "ipython3",
   "version": "3.8.13"
  },
  "orig_nbformat": 4
 },
 "nbformat": 4,
 "nbformat_minor": 2
}
