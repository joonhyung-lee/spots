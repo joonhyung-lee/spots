{
 "cells": [
  {
   "cell_type": "markdown",
   "metadata": {},
   "source": [
    "### Semi-autonomous Teleoperation Demo : Place task in `Office` scene"
   ]
  },
  {
   "cell_type": "markdown",
   "metadata": {},
   "source": [
    "### Parse `Realistic Scene`"
   ]
  },
  {
   "cell_type": "code",
   "execution_count": 1,
   "metadata": {},
   "outputs": [
    {
     "name": "stdout",
     "output_type": "stream",
     "text": [
      "MuJoCo version:[2.3.7]\n"
     ]
    }
   ],
   "source": [
    "import mujoco,cv2,pyvista\n",
    "import numpy as np\n",
    "import matplotlib.pyplot as plt\n",
    "import sys\n",
    "sys.path.append('../../../')\n",
    "from utils.mujoco_parser import MuJoCoParserClass\n",
    "from utils.util import sample_xyzs,rpy2r,r2rpy,r2quat,compute_view_params,get_interp_const_vel_traj, printmd\n",
    "np.set_printoptions(precision=2,suppress=True,linewidth=100)\n",
    "plt.rc('xtick',labelsize=6); plt.rc('ytick',labelsize=6)\n",
    "%config InlineBackend.figure_format = 'retina'\n",
    "%matplotlib inline\n",
    "print (\"MuJoCo version:[%s]\"%(mujoco.__version__))"
   ]
  },
  {
   "cell_type": "code",
   "execution_count": 2,
   "metadata": {},
   "outputs": [
    {
     "name": "stdout",
     "output_type": "stream",
     "text": [
      "window\n"
     ]
    }
   ],
   "source": [
    "xml_path = '../../../asset/visualize_figure_bookshelf_genre.xml'\n",
    "env = MuJoCoParserClass(name='Place task scene: Office table',rel_xml_path=xml_path,VERBOSE=False, MODE='window')\n",
    "print(env.MODE)\n",
    "\n",
    "# Move tables and robot base\n",
    "env.model.body('base_table').pos = np.array([0,0,0])\n",
    "env.model.body('avoiding_object_table').pos = np.array([0.38+0.45,0,0])\n",
    "env.model.body('base').pos = np.array([-1.18,0,0.79])\n",
    "env.model.body('right_object_table').pos = np.array([-0.05,-0.80,0])\n",
    "env.model.body('left_object_table').pos = np.array([-5,0.80,0])\n",
    "\n",
    "shelf_pos = np.array([0.8,0.0,0.75])\n",
    "shelf_2nd_pos = shelf_pos + np.array([0.,0.,0.25])\n",
    "env.model.body('shelf_row1').pos = shelf_pos\n",
    "env.model.body('shelf_row1').quat = r2quat(rpy2r(np.radians([0, 0, 90])))\n",
    "\n",
    "obj_box_names = [body_name for body_name in env.body_names\n",
    "            if body_name is not None and (body_name.startswith(\"obj_box\"))]\n",
    "obj_wine_names = [body_name for body_name in env.body_names\n",
    "                if body_name is not None and (body_name.startswith(\"obj_wine\"))]\n",
    "obj_book_names = [body_name for body_name in env.body_names\n",
    "            if body_name is not None and (body_name.startswith(\"book\"))]\n",
    "\n",
    "# Place objects\n",
    "n_wine_obj = 2\n",
    "# env.place_objects_random(n_obj=n_wine_obj, obj_names=obj_wine_names, x_range=[0.80, 0.85], y_range=[-0.2, 0.2], z_range=[1.35,1.36], min_dist=0.05, COLORS=False, VERBOSE=True)\n",
    "env.model.joint(env.model.body('obj_wine_01').jntadr[0]).qpos0[:3] = shelf_2nd_pos + np.array([0.02, -0.10, 0.5])\n",
    "env.model.joint(env.model.body('obj_wine_02').jntadr[0]).qpos0[:3] = shelf_2nd_pos + np.array([-0.05, -0.18, 0.5])\n",
    "\n",
    "# Book1 is target_object\n",
    "env.model.joint(env.model.body('book2').jntadr[0]).qpos0[:3] = shelf_2nd_pos + np.array([0, 0.225, 0.02])\n",
    "env.model.joint(env.model.body('book3').jntadr[0]).qpos0[:3] = shelf_2nd_pos + np.array([0, 0.16, 0.02])\n",
    "env.model.joint(env.model.body('book4').jntadr[0]).qpos0[:3] = shelf_2nd_pos + np.array([0, 0.11, 0.02])\n",
    "env.model.joint(env.model.body('book6').jntadr[0]).qpos0[:3] = shelf_pos + np.array([0, -0.22, 0.02])\n",
    "env.model.joint(env.model.body('book7').jntadr[0]).qpos0[:3] = shelf_pos + np.array([0, -0.16, 0.02])\n",
    "env.model.joint(env.model.body('book8').jntadr[0]).qpos0[:3] = shelf_pos + np.array([0, -0.12, 0.02])\n",
    "env.model.joint(env.model.body('book9').jntadr[0]).qpos0[:3] = shelf_pos + np.array([0, -0.07, 0.02])\n",
    "\n",
    "env.model.joint(env.model.body('book1').jntadr[0]).qpos0[:3] = np.array([0.2, -0.4, 0.8])\n",
    "env.model.joint(env.model.body('book1').jntadr[0]).qpos0[3:] = r2quat(rpy2r(np.array([1.57, 0, 0])))\n"
   ]
  },
  {
   "cell_type": "code",
   "execution_count": 3,
   "metadata": {},
   "outputs": [
    {
     "name": "stdout",
     "output_type": "stream",
     "text": [
      "[-1.01 -0.13  1.16]\n",
      "Pressed ESC\n",
      "Quitting.\n"
     ]
    }
   ],
   "source": [
    "# Init viewer\n",
    "env.init_viewer(viewer_title='UR5e with RG2 gripper',viewer_width=1200,viewer_height=800,\n",
    "                viewer_hide_menus=True, MODE='window')\n",
    "env.update_viewer(azimuth=0,distance=3.0,elevation=-30,lookat=[0.4,0.0,0.81],\n",
    "                  VIS_TRANSPARENT=False,VIS_CONTACTPOINT=False,\n",
    "                  contactwidth=0.05,contactheight=0.05,contactrgba=np.array([1,0,0,1]),\n",
    "                  VIS_JOINT=False,jointlength=0.25,jointwidth=0.05,jointrgba=[0.2,0.6,0.8,0.6])\n",
    "\n",
    "pcd_tick = 0\n",
    "\n",
    "# Reset\n",
    "env.reset()\n",
    "\n",
    "# init_ur_q = np.array([np.deg2rad(-90), np.deg2rad(-130), np.deg2rad(120), np.deg2rad(100), np.deg2rad(45), np.deg2rad(-90)])\n",
    "init_ur_q = np.array([np.deg2rad(-180), np.deg2rad(-30), np.deg2rad(-120), np.deg2rad(125), np.deg2rad(-90), np.deg2rad(0)])\n",
    "\n",
    "env.forward(q=init_ur_q, joint_idxs=env.idxs_forward)\n",
    "initial_xyz = env.get_p_body('tcp_link')\n",
    "print(env.get_p_body('tcp_link'))\n",
    "tick,max_sec = 0,1000\n",
    "\n",
    "i = 0\n",
    "\n",
    "while env.get_sim_time() <= max_sec:    \n",
    "    env.step(ctrl=init_ur_q,ctrl_idxs=env.idxs_step)\n",
    "    # env.model.geom_size[env.model.body('obj_box_03').geomadr[0]] += np.array([0.0001,0.0001,0.0001])\n",
    "    if not env.is_viewer_alive(): break\n",
    "\n",
    "    # Render\n",
    "    if env.loop_every(HZ=500):\n",
    "        # Compute some poses\n",
    "        p_tcp,R_tcp = env.get_pR_body(body_name='tcp_link')\n",
    "        p_cam,R_cam = env.get_pR_body(body_name='camera_center')\n",
    "        p_base,R_base = env.get_pR_body(body_name='base')\n",
    "        # Get PCD from a specific view\n",
    "        p_ego  = p_cam\n",
    "        p_trgt = p_cam + R_cam[:,2] # + np.array([0,0,-0.2])\n",
    "        rgb_img,depth_img,pcd,xyz_img = env.get_egocentric_rgb_depth_pcd(\n",
    "            p_ego=p_ego,p_trgt=p_trgt,rsz_rate=40,fovy=45,BACKUP_AND_RESTORE_VIEW=True)\n",
    "        env.render(render_every=1)\n",
    "\n",
    "# Close viewer\n",
    "env.close_viewer()"
   ]
  },
  {
   "cell_type": "code",
   "execution_count": 4,
   "metadata": {},
   "outputs": [],
   "source": [
    "filtered_pcd = np.load('./data_bookshelf/genre/filtered_pcd.npy')\n",
    "feasible_pcd = np.load('./data_bookshelf/genre/feasible_pcd_20230914_c48_g4_worker48.npy')"
   ]
  },
  {
   "cell_type": "markdown",
   "metadata": {},
   "source": [
    "### LLM screening"
   ]
  },
  {
   "cell_type": "markdown",
   "metadata": {},
   "source": [
    "### Interact with GPT"
   ]
  },
  {
   "cell_type": "code",
   "execution_count": 5,
   "metadata": {},
   "outputs": [
    {
     "name": "stdout",
     "output_type": "stream",
     "text": [
      "openai version:[0.27.8]\n"
     ]
    }
   ],
   "source": [
    "import os\n",
    "import openai\n",
    "import sys\n",
    "sys.path.append('../../../')\n",
    "from utils.gpt_helper import set_openai_api_key_from_txt,GPTchatClass,printmd\n",
    "from utils.wiki_helper import wiki_search\n",
    "from utils.util import printmd,extract_quoted_words\n",
    "print (\"openai version:[%s]\"%(openai.__version__))"
   ]
  },
  {
   "cell_type": "code",
   "execution_count": 6,
   "metadata": {},
   "outputs": [],
   "source": [
    "import openai\n",
    "openai.api_key = 'your key' \n",
    "model_name = 'gpt-3.5-turbo'#'text-davinci-002' # CaP uses text-davinci-002\n",
    "\n",
    "class ChatGPT():\n",
    "    def __init__ (self, system_prompt, model_engine='text-davinci-003'):\n",
    "        self.model_engine = model_engine\n",
    "        self.system_prompt = system_prompt\n",
    "        self.msg_history_davinci = self.system_prompt\n",
    "        self.msg_history_turbo = [{\"role\": \"assistant\", \"content\": self.system_prompt}]\n",
    "        self.role = 'user'\n",
    "    \n",
    "    def reset(self):\n",
    "        self.msg_history_turbo = [{\"role\": \"assistant\", \"content\": self.system_prompt}]\n",
    "\n",
    "    def get_answer(self, prompt=None):\n",
    "        if self.model_engine == 'gpt-3.5-turbo':\n",
    "            self.msg_history_turbo.append({\"role\": self.role, \"content\":prompt})\n",
    "            response   = openai.ChatCompletion.create(\n",
    "            model      = self.model_engine,\n",
    "            temperature= 0.9,\n",
    "            messages   = self.msg_history_turbo)\n",
    "            reply_text = response['choices'][0]['message']['content']\n",
    "            self.msg_history_turbo.append({\"role\":\"assistant\", \"content\":reply_text})\n",
    "\n",
    "        elif self.model_engine == 'text-davinci-003': \n",
    "            self.msg_history_davinci += \"You: \"+prompt \n",
    "            response   = openai.Completion.create(\n",
    "            engine     = self.model_engine,\n",
    "            prompt     = self.msg_history_davinci,\n",
    "            max_tokens = 512,\n",
    "            temperature= 1.0,\n",
    "            n          = 1,\n",
    "            #stop       = [\"You:\", \"AI:\"]\n",
    "            )\n",
    "            reply_text = response.choices[0].text.strip().replace('Answer: ', '')\n",
    "            self.msg_history_davinci+=\"\\n\"+\"AI: \"+reply_text+\"\\n\"\n",
    "\n",
    "        elif self.model_engine == 'text-davinci-002': \n",
    "            response   = openai.Completion.create(\n",
    "            engine     = self.model_engine,\n",
    "            prompt     = prompt,\n",
    "            max_tokens = 512,\n",
    "            temperature= 1.0,\n",
    "            n          = 1,\n",
    "            )\n",
    "            reply_text = response['choices'][0]['text'].strip()\n",
    "        return reply_text\n",
    "\n"
   ]
  },
  {
   "cell_type": "code",
   "execution_count": 7,
   "metadata": {},
   "outputs": [],
   "source": [
    "genre_description_list = [\"Science Fiction\", \"Novel\", \"Textbook\", \"Fairy Tale\", \"Romance\", \"Horror\"]\n",
    "target_object_name = [\"Harry Poter\", \"Game of Throne\", \"The Lord Of The Rings\", \"Modern Robotics\", \"Aritifical Intelligence\", \"Convex Optimization\", \"Physics\"]\n",
    "#    \"The Hobbit\", \"The Witcher\", \"The Chronicles of Narnia\"]\n",
    "# target_object_name = \"book1\"\n",
    "\n",
    "user_msg = \\\n",
    "    f\"\"\"\n",
    "    Scene description:\n",
    "    In the first level of bookshelf: there are books of genre with {genre_description_list[0]}.\n",
    "    In the second level of bookshelf: there are books of genre with {genre_description_list[1]}.\n",
    "    In the third level of bookshelf: there are books of genre with {genre_description_list[2]}.\n",
    "    \n",
    "    Task description: \n",
    "    The task is to place the {target_object_name[0]} on the table in best fit region with it's genre.\n",
    "\n",
    "    This is an example of instruction. For example, answer the output following instructions.\n",
    "\n",
    "    User: Let me know which region(area) is suitable to place it for the same purpose. Only you can say the region.\n",
    "        I want to place the {target_object_name[0]} with the genre. Say where is the best fit placement region?\n",
    "        In the first level bookshelf: [Textbook]\n",
    "        In thw second level bookshelf: [Novel]\n",
    "        In the third level bookshelf: [Wine glasses]\n",
    "    GPT-4: [Recommended region: second level bookshelf]\n",
    "\n",
    "    If you understand, Say \"I understand\" and I will start the simulation.\n",
    "    \"\"\""
   ]
  },
  {
   "cell_type": "code",
   "execution_count": 30,
   "metadata": {},
   "outputs": [],
   "source": [
    "genre_description_list = [\"Science Fiction\", \"Novel\", \"Textbook\", \"Fairy Tale\", \"Romance\", \"Horror\"]\n",
    "target_object_name = ['Calculus','Enginnering Mathmatics', 'Dynamics','Chemistry', 'Biology']#['Alice in Wonderland',  'The Hunger Games', 'the witchers', 'The Hobbit', ]\n",
    "#    \"The Hobbit\", \"The Witcher\", \"The Chronicles of Narnia\"]\n",
    "# target_object_name = \"book1\"\n",
    "\n",
    "user_msg = \\\n",
    "    f\"\"\"\n",
    "    Scene description:\n",
    "    In the first level of bookshelf: there are books of 'harry potter', 'hobbitt', 'the lord of the rings', 'the witcher', 'the chronicles of narnia'.\n",
    "    In the second level of bookshelf: there are books of 'modern robotics', 'artificial intelligence', 'convex optimization', 'physics'.\n",
    "    In the third level of bookshelf: there are books of 'peter pan', 'alice in wonderland', 'the little prince', 'the wizard of oz'.\n",
    "\n",
    "    Task description: \n",
    "    The task is to place the {target_object_name[0]} on the table in best fit region with it's genre.\n",
    "\n",
    "    This is an example of instruction. For example, answer the output following instructions.\n",
    "\n",
    "    User: Let me know which region(area) is suitable to place it for the same purpose. Only you can say the region.\n",
    "        I want to place the {target_object_name[0]} with the genre. Say where is the best fit placement region?\n",
    "        In the first level bookshelf: [Textbook]\n",
    "        In thw second level bookshelf: [Novel]\n",
    "        In the third level bookshelf: [Wine glasses]\n",
    "    GPT-4: [Recommended region: second level bookshelf]\n",
    "\n",
    "    If you understand, Say \"I understand\" and I will start the simulation.\n",
    "    \"\"\""
   ]
  },
  {
   "cell_type": "code",
   "execution_count": 31,
   "metadata": {},
   "outputs": [],
   "source": [
    "llm = ChatGPT(user_msg, model_engine=model_name)\n",
    "llm.reset()"
   ]
  },
  {
   "cell_type": "code",
   "execution_count": 32,
   "metadata": {},
   "outputs": [],
   "source": [
    "response_content = llm.get_answer(prompt=user_msg)"
   ]
  },
  {
   "cell_type": "code",
   "execution_count": 33,
   "metadata": {},
   "outputs": [
    {
     "data": {
      "text/markdown": [
       "I understand. Let's start the simulation. \n",
       "\n",
       "Based on the genres of the books on each level of the bookshelf, the best fit placement region for the Calculus book would be the second level bookshelf, which contains books on topics like modern robotics, artificial intelligence, convex optimization, and physics."
      ],
      "text/plain": [
       "<IPython.core.display.Markdown object>"
      ]
     },
     "metadata": {},
     "output_type": "display_data"
    }
   ],
   "source": [
    "printmd(response_content)"
   ]
  },
  {
   "cell_type": "code",
   "execution_count": 34,
   "metadata": {},
   "outputs": [
    {
     "data": {
      "text/plain": [
       "['Calculus', 'Enginnering Mathmatics', 'Dynamics', 'Chemistry', 'Biology']"
      ]
     },
     "execution_count": 34,
     "metadata": {},
     "output_type": "execute_result"
    }
   ],
   "source": [
    "target_object_name"
   ]
  },
  {
   "cell_type": "code",
   "execution_count": 42,
   "metadata": {},
   "outputs": [],
   "source": [
    "user_msg = \\\n",
    "    f\"\"\"\n",
    "    Let me know which level of bookshelf is suitable to place it? Only you can say the region.\n",
    "    I want to place the {target_object_name[2]} with the genre. Say where is the best fit placement region?\n",
    "    In the first level bookshelf: [Textbook]\n",
    "    In thw second level bookshelf: [Novel]\n",
    "    In the third level bookshelf: [Wine glasses]\n",
    "    \"\"\""
   ]
  },
  {
   "cell_type": "code",
   "execution_count": 43,
   "metadata": {},
   "outputs": [
    {
     "data": {
      "text/markdown": [
       "Based on the genres of the books on each level of the bookshelf, the best fit placement region for the Dynamics book would be the second level bookshelf, which contains books on topics like modern robotics, artificial intelligence, convex optimization, and physics."
      ],
      "text/plain": [
       "<IPython.core.display.Markdown object>"
      ]
     },
     "metadata": {},
     "output_type": "display_data"
    }
   ],
   "source": [
    "response_content = llm.get_answer(prompt=user_msg)\n",
    "printmd(response_content)"
   ]
  },
  {
   "cell_type": "markdown",
   "metadata": {},
   "source": [
    "### Test on `the phyiscally plausible place`"
   ]
  },
  {
   "cell_type": "code",
   "execution_count": 14,
   "metadata": {},
   "outputs": [
    {
     "data": {
      "text/plain": [
       "(12, 3)"
      ]
     },
     "execution_count": 14,
     "metadata": {},
     "output_type": "execute_result"
    }
   ],
   "source": [
    "def remove_duplicates_with_specific_com(p_com, pointcloud, threshold=0.05):\n",
    "    filtered_pointcloud = []\n",
    "    \n",
    "    for point in pointcloud:\n",
    "        # Check if the point is close to the specific center of mass (p_com)\n",
    "        if np.linalg.norm(np.array(point) - np.array(p_com)) < threshold:\n",
    "            filtered_pointcloud.append(point)\n",
    "            \n",
    "    return np.array(filtered_pointcloud)\n",
    "\n",
    "region_row1 = env.get_p_body('shelf_row1')\n",
    "row1_pcd = remove_duplicates_with_specific_com(region_row1, filtered_pcd, threshold=0.1)\n",
    "row1_pcd.shape"
   ]
  },
  {
   "cell_type": "code",
   "execution_count": 15,
   "metadata": {},
   "outputs": [
    {
     "data": {
      "image/png": "[encoded data removed]",
      "text/plain": [
       "<Figure size 2400x800 with 1 Axes>"
      ]
     },
     "metadata": {
      "image/png": {
       "height": 589,
       "width": 567
      }
     },
     "output_type": "display_data"
    }
   ],
   "source": [
    "from scipy.stats import gaussian_kde\n",
    "\n",
    "# Adjust the function to sample from 3D KDE with scaling and debugging\n",
    "def sample_from_kde_3d_scaled(pcd, kde_values, num_samples=10):\n",
    "    kde_values_flat = kde_values.flatten()\n",
    "    kde_sum = np.sum(kde_values_flat)\n",
    "    \n",
    "    if np.isclose(kde_sum, 0):\n",
    "        print(f\"Warning: Sum of KDE values is close to zero ({kde_sum})\")\n",
    "        return None\n",
    "\n",
    "    kde_values_norm = kde_values_flat / kde_sum\n",
    "    sampled_indices = np.random.choice(len(kde_values_flat), size=num_samples, p=kde_values_norm)\n",
    "    sampled_coords = np.array(np.unravel_index(sampled_indices, kde_values.shape)).T\n",
    "    \n",
    "    # Scale to the actual range of the data\n",
    "    x_range = np.linspace(pcd[:, 0].min(), pcd[:, 0].max(), kde_values.shape[0])\n",
    "    y_range = np.linspace(pcd[:, 1].min(), pcd[:, 1].max(), kde_values.shape[1])\n",
    "    z_range = np.linspace(pcd[:, 2].min(), pcd[:, 2].max(), kde_values.shape[2])\n",
    "    \n",
    "    sampled_xyz = np.array([x_range[sampled_coords[:, 0]], y_range[sampled_coords[:, 1]], z_range[sampled_coords[:, 2]]]).T\n",
    "    return sampled_xyz\n",
    "\n",
    "# Generate some random 3D point clouds as an example\n",
    "np.random.seed(0)\n",
    "feasible_pcd = feasible_pcd\n",
    "red_pcd = row1_pcd\n",
    "\n",
    "# Beta values for blending\n",
    "betas = [0.1, 0.5, 1.0]\n",
    "betas = [0.001]\n",
    "fig = plt.figure(figsize=(24, 8))\n",
    "\n",
    "for beta in betas:\n",
    "    weights1 = np.ones(feasible_pcd.shape[0]) * beta\n",
    "    weights2 = np.ones(red_pcd.shape[0]) * (1 - beta)\n",
    "    \n",
    "    total_weights = np.sum(weights1) + np.sum(weights2)\n",
    "    weights1 = weights1 / total_weights\n",
    "    weights2 = weights2 / total_weights\n",
    "    \n",
    "    merged_pcd = np.vstack([feasible_pcd, red_pcd])\n",
    "    merged_weights = np.concatenate([weights1, weights2])\n",
    "\n",
    "    # KDE computation with adjusted bandwidth\n",
    "    merged_kde = gaussian_kde(merged_pcd.T, weights=merged_weights, bw_method=0.1)\n",
    "\n",
    "    # Grid definition with finer resolution\n",
    "    x_min, x_max = merged_pcd[:, 0].min(), merged_pcd[:, 0].max()\n",
    "    y_min, y_max = merged_pcd[:, 1].min(), merged_pcd[:, 1].max()\n",
    "    z_min, z_max = merged_pcd[:, 2].min(), merged_pcd[:, 2].max()\n",
    "    \n",
    "    # Increase grid resolution to 50 along each axis\n",
    "    xi, yi, zi = np.mgrid[x_min:x_max:50j, y_min:y_max:50j, z_min:z_max:50j]\n",
    "    grid_coords = np.vstack([xi.ravel(), yi.ravel(), zi.ravel()])\n",
    "    \n",
    "    # KDE evaluation\n",
    "    kde_values = merged_kde.evaluate(grid_coords).reshape(xi.shape)\n",
    "    \n",
    "    # Sampling with debugging and scaling\n",
    "    sampled_points = sample_from_kde_3d_scaled(merged_pcd, kde_values, num_samples=20)\n",
    "    \n",
    "    # Plotting\n",
    "    ax = fig.add_subplot(1, 3, betas.index(beta) + 1, projection='3d')\n",
    "    ax.scatter(feasible_pcd[:, 0], feasible_pcd[:, 1], feasible_pcd[:, 2], c='blue', alpha=0.5)\n",
    "    ax.scatter(red_pcd[:, 0], red_pcd[:, 1], red_pcd[:, 2], c='red', alpha=0.5)\n",
    "    \n",
    "    if sampled_points is not None:\n",
    "        ax.scatter(sampled_points[:, 0], sampled_points[:, 1], sampled_points[:, 2], c='black', marker='x', s=100)\n",
    "    \n",
    "    ax.set_title(fr'$\\beta$ = {beta}')\n",
    "    ax.axis('off')\n",
    "plt.show()\n"
   ]
  },
  {
   "cell_type": "code",
   "execution_count": 16,
   "metadata": {},
   "outputs": [],
   "source": [
    "new_pcd = []\n",
    "for i in list(feasible_pcd):\n",
    "    if i[2] > 1.0 and i[1] < 0.0: \n",
    "        pass\n",
    "    else:\n",
    "        new_pcd.append(i)"
   ]
  },
  {
   "cell_type": "code",
   "execution_count": 17,
   "metadata": {},
   "outputs": [],
   "source": [
    "from utils.util import passthrough_filter\n",
    "\n",
    "feasible_pcd = passthrough_filter(feasible_pcd, axis=0, interval=[0.7, 1.0])\n",
    "feasible_pcd = passthrough_filter(feasible_pcd, axis=1, interval=[-0.3, 0.3])\n",
    "feasible_pcd = passthrough_filter(feasible_pcd, axis=2, interval=[0.7, 1.5])"
   ]
  },
  {
   "cell_type": "code",
   "execution_count": 18,
   "metadata": {},
   "outputs": [],
   "source": [
    "f3_pcd = np.load('./data_bookshelf/genre/feasible_pcd_20230914_c48_g4_worker48_5.npy')"
   ]
  },
  {
   "cell_type": "code",
   "execution_count": 19,
   "metadata": {},
   "outputs": [],
   "source": [
    "from utils.util import passthrough_filter\n",
    "\n",
    "f3_pcd = passthrough_filter(f3_pcd, axis=0, interval=[0.7, 1.0])\n",
    "f3_pcd = passthrough_filter(f3_pcd, axis=1, interval=[-0.3, 0.3])\n",
    "f3_pcd = passthrough_filter(f3_pcd, axis=2, interval=[0.7, 1.5])"
   ]
  },
  {
   "cell_type": "code",
   "execution_count": 20,
   "metadata": {},
   "outputs": [],
   "source": [
    "new_pcd = []\n",
    "for i in list(feasible_pcd):\n",
    "    if i[2] > 1.0 and i[1] > -0.1: \n",
    "        pass\n",
    "    elif i[2] > 1.2 and i[1] < 0.1:\n",
    "        pass\n",
    "    else:\n",
    "        new_pcd.append(i)"
   ]
  },
  {
   "cell_type": "code",
   "execution_count": 21,
   "metadata": {},
   "outputs": [
    {
     "data": {
      "text/plain": [
       "array([0.8 , 0.  , 1.25])"
      ]
     },
     "execution_count": 21,
     "metadata": {},
     "output_type": "execute_result"
    }
   ],
   "source": [
    "env.get_p_body('shelf_row3')"
   ]
  },
  {
   "cell_type": "code",
   "execution_count": 22,
   "metadata": {},
   "outputs": [],
   "source": [
    "new_pcd.append(np.array([0.8, 0.1, env.get_p_body('shelf_row3')[2]+0.01]))\n",
    "new_pcd.append(np.array([0.83, 0.12, env.get_p_body('shelf_row3')[2]+0.01]))\n",
    "new_pcd.append(np.array([0.75, 0.08, env.get_p_body('shelf_row3')[2]+0.01]))\n",
    "new_pcd.append(np.array([0.77, 0.14, env.get_p_body('shelf_row3')[2]+0.01]))\n",
    "new_pcd.append(np.array([0.80, 0.17, env.get_p_body('shelf_row3')[2]+0.01]))\n",
    "new_pcd.append(np.array([0.79, 0.12, env.get_p_body('shelf_row3')[2]+0.01]))"
   ]
  },
  {
   "cell_type": "code",
   "execution_count": 23,
   "metadata": {},
   "outputs": [],
   "source": [
    "new_pcd.append(np.array([0.8, -0.03, 1.02]))\n",
    "new_pcd.append(np.array([0.83, 0.01, 1.02]))\n",
    "new_pcd.append(np.array([0.78, 0.03, 1.02]))\n",
    "new_pcd.append(np.array([0.83, 0.02, 1.02]))\n",
    "new_pcd.append(np.array([0.82, -0.05, 1.02]))\n",
    "new_pcd.append(np.array([0.77, -0.08, 1.02]))"
   ]
  },
  {
   "cell_type": "code",
   "execution_count": 24,
   "metadata": {},
   "outputs": [],
   "source": [
    "new_pcd.append(np.array([0.8, -0.1, 1.02]))\n",
    "new_pcd.append(np.array([0.83, -0.12, 1.02]))\n",
    "new_pcd.append(np.array([0.78, -0.08, 1.02]))\n",
    "new_pcd.append(np.array([0.83, -0.14, 1.02]))\n",
    "new_pcd.append(np.array([0.82, -0.17, 1.02]))\n",
    "new_pcd.append(np.array([0.77, -0.12, 1.02]))"
   ]
  },
  {
   "cell_type": "code",
   "execution_count": 25,
   "metadata": {},
   "outputs": [],
   "source": [
    "new_pcd.append(np.array([0.8, -0.1, env.get_p_body('shelf_row1')[2] +0.01]))\n",
    "new_pcd.append(np.array([0.83, -0.02, env.get_p_body('shelf_row1')[2] +0.01]))\n",
    "new_pcd.append(np.array([0.78, 0.03, env.get_p_body('shelf_row1')[2] +0.01]))\n",
    "new_pcd.append(np.array([0.83, 0.05, env.get_p_body('shelf_row1')[2] +0.01]))\n",
    "new_pcd.append(np.array([0.82, 0.08, env.get_p_body('shelf_row1')[2] +0.01]))\n",
    "new_pcd.append(np.array([0.77, 0.1, env.get_p_body('shelf_row1')[2] +0.01]))"
   ]
  },
  {
   "cell_type": "code",
   "execution_count": 26,
   "metadata": {},
   "outputs": [
    {
     "data": {
      "text/plain": [
       "array([0.8, 0. , 1. ])"
      ]
     },
     "execution_count": 26,
     "metadata": {},
     "output_type": "execute_result"
    }
   ],
   "source": [
    "env.get_p_body('shelf_row2')"
   ]
  },
  {
   "cell_type": "code",
   "execution_count": null,
   "metadata": {},
   "outputs": [],
   "source": []
  },
  {
   "cell_type": "code",
   "execution_count": 27,
   "metadata": {},
   "outputs": [
    {
     "name": "stdout",
     "output_type": "stream",
     "text": [
      "0.2\n",
      "Position: [ 0.74 -0.18  0.76]\n",
      "Pressed ESC\n",
      "Quitting.\n",
      "Done. Tick:[553] Time:[0.55]sec\n"
     ]
    }
   ],
   "source": [
    "import time\n",
    "\n",
    "# Init viewer\n",
    "env.init_viewer(viewer_title='UR5e with RG2 gripper',viewer_width=1200,viewer_height=800,\n",
    "                viewer_hide_menus=True, MODE='window')\n",
    "env.update_viewer(azimuth=0,distance=3.0,elevation=-30,lookat=[0.4,0.0,0.81],\n",
    "                  VIS_TRANSPARENT=False,VIS_CONTACTPOINT=False,\n",
    "                  contactwidth=0.05,contactheight=0.05,contactrgba=np.array([1,0,0,1]),\n",
    "                  VIS_JOINT=False,jointlength=0.25,jointwidth=0.05,jointrgba=[0.2,0.6,0.8,0.6])\n",
    "env.reset()\n",
    "# Start from initial configuration\n",
    "capture_pose_q = np.array([np.deg2rad(-90), np.deg2rad(-132.46), np.deg2rad(122.85), np.deg2rad(99.65), np.deg2rad(45), np.deg2rad(-90.02)])\n",
    "init_configurations = [-0.73418, -1.08485, 2.7836, -1.699, 0.8366, 0]\n",
    "env.forward(q=capture_pose_q,joint_idxs=[0,1,2,3,4,5])\n",
    "\n",
    "tick = 0\n",
    "end_tick = 3000\n",
    "perturb_tick = 500\n",
    "target_obj_name = 'book1' # 'coke'\n",
    "target_cylinder_jntadr = env.model.body(target_obj_name).jntadr[0]\n",
    "print(env.get_p_body(target_obj_name)[0])\n",
    "p_list = []\n",
    "R_list = []\n",
    "feasible_place_positions = []\n",
    "target_obj_jntadr = env.model.body(target_obj_name).jntadr[0]\n",
    "target_obj_qposadr = env.model.jnt_qposadr[target_obj_jntadr]\n",
    "\n",
    "for p in new_pcd:\n",
    "    p_list = []\n",
    "    R_list = []\n",
    "    quat_list = []\n",
    "    p += np.array([0, 0, 0.0])\n",
    "    print(f\"Position: {p}\")\n",
    "    start = env.tick\n",
    "    p_copy = p\n",
    "    # env.data.qpos[target_obj_qposadr:target_obj_qposadr+3] = p_copy\n",
    "    # env.data.qpos[target_obj_qposadr+3:target_obj_qposadr+7] = r2quat(rpy2r(np.radians([0, 0, 0])))\n",
    "    while env.tick - start < end_tick:\n",
    "        if not env.is_viewer_alive(): break\n",
    "        env.forward(q=capture_pose_q,joint_idxs=[0,1,2,3,4,5])\n",
    "        env.step(ctrl=capture_pose_q,ctrl_idxs=[0,1,2,3,4,5])\n",
    "        R_obj = env.get_R_body(target_obj_name)\n",
    "        quat_ = r2quat(R_obj)\n",
    "        quat_list.append(quat_)\n",
    "        [env.plot_sphere(p=sampled_place_+[0,0,0.05], r=0.01, rgba=[0.0,1.0,0.0,0.5]) for sampled_place_ in new_pcd]\n",
    "\n",
    "        env.render(render_every=5)\n",
    "        \n",
    "    if not env.is_viewer_alive(): break    \n",
    "    env.reset()\n",
    "    lower_bound = 0.70\n",
    "    upper_bound = 0.79\n",
    "    in_range = np.logical_and(np.array(quat_list)[5:][:,0] >= lower_bound, np.array(quat_list)[5:][:,0] <= upper_bound)\n",
    "    all_in_range = np.all(in_range)\n",
    "    # print(f\"all_in_range: {all_in_range}\")\n",
    "    print(f\"max_qw: {np.max(np.array(quat_list)[5:][:,0])}\")\n",
    "    print(f\"min_qw: {np.min(np.array(quat_list)[5:][:,0])}\")\n",
    "\n",
    "# Close viewer\n",
    "env.close_viewer()\n",
    "print (\"Done. Tick:[%d] Time:[%.2f]sec\"%(env.tick,env.get_sim_time()))"
   ]
  },
  {
   "cell_type": "code",
   "execution_count": null,
   "metadata": {},
   "outputs": [],
   "source": []
  },
  {
   "cell_type": "code",
   "execution_count": null,
   "metadata": {},
   "outputs": [],
   "source": []
  },
  {
   "cell_type": "code",
   "execution_count": null,
   "metadata": {},
   "outputs": [],
   "source": []
  },
  {
   "cell_type": "code",
   "execution_count": null,
   "metadata": {},
   "outputs": [],
   "source": []
  },
  {
   "attachments": {},
   "cell_type": "markdown",
   "metadata": {},
   "source": [
    "### Execute it !!"
   ]
  },
  {
   "cell_type": "code",
   "execution_count": 28,
   "metadata": {},
   "outputs": [
    {
     "name": "stdout",
     "output_type": "stream",
     "text": [
      "0.2\n",
      "Position: [0.79 0.03 0.76]\n",
      "Pressed ESC\n",
      "Quitting.\n",
      "Done. Tick:[453] Time:[0.45]sec\n"
     ]
    }
   ],
   "source": [
    "import time\n",
    "\n",
    "# Init viewer\n",
    "env.init_viewer(viewer_title='UR5e with RG2 gripper',viewer_width=1200,viewer_height=800,\n",
    "                viewer_hide_menus=True, MODE='window')\n",
    "env.update_viewer(azimuth=0.,distance=1.5,elevation=-80,lookat=([0.44, 0.  , 1.33]),\n",
    "                  VIS_TRANSPARENT=False,VIS_CONTACTPOINT=False,\n",
    "                  contactwidth=0.05,contactheight=0.05,contactrgba=np.array([1,0,0,1]),\n",
    "                  VIS_JOINT=False,jointlength=0.25,jointwidth=0.05,jointrgba=[0.2,0.6,0.8,0.6])\n",
    "\n",
    "env.reset()\n",
    "# Start from initial configuration\n",
    "capture_pose_q = np.array([np.deg2rad(-90), np.deg2rad(-132.46), np.deg2rad(122.85), np.deg2rad(99.65), np.deg2rad(45), np.deg2rad(-90.02)])\n",
    "init_configurations = [-0.73418, -1.08485, 2.7836, -1.699, 0.8366, 0]\n",
    "env.forward(q=capture_pose_q,joint_idxs=[0,1,2,3,4,5])\n",
    "\n",
    "tick = 0\n",
    "end_tick = 1500\n",
    "perturb_tick = 500\n",
    "target_obj_name = 'book1' # 'coke'\n",
    "target_cylinder_jntadr = env.model.body(target_obj_name).jntadr[0]\n",
    "print(env.get_p_body(target_obj_name)[0])\n",
    "p_list = []\n",
    "R_list = []\n",
    "feasible_place_positions = []\n",
    "target_obj_jntadr = env.model.body(target_obj_name).jntadr[0]\n",
    "target_obj_qposadr = env.model.jnt_qposadr[target_obj_jntadr]\n",
    "\n",
    "for p in sampled_points:\n",
    "    p_list = []\n",
    "    R_list = []\n",
    "    quat_list = []\n",
    "    p += np.array([0, 0, 0.01])\n",
    "    print(f\"Position: {p}\")\n",
    "    start = env.tick\n",
    "    p_copy = p\n",
    "    env.data.qpos[target_obj_qposadr:target_obj_qposadr+3] = p_copy\n",
    "    env.data.qpos[target_obj_qposadr+3:target_obj_qposadr+7] = r2quat(rpy2r(np.radians([0, 0, 0])))\n",
    "    while env.tick - start < end_tick:\n",
    "        if not env.is_viewer_alive(): break\n",
    "        env.forward(q=capture_pose_q,joint_idxs=[0,1,2,3,4,5])\n",
    "        env.step(ctrl=capture_pose_q,ctrl_idxs=[0,1,2,3,4,5])\n",
    "        R_obj = env.get_R_body(target_obj_name)\n",
    "        quat_ = r2quat(R_obj)\n",
    "        quat_list.append(quat_)\n",
    "        env.plot_sphere(p=p_copy, r=0.005, rgba=[0,1,0,1], label=f\"{env.tick}/{end_tick}\")\n",
    "        [env.plot_sphere(p=sampled_place_+[0,0,0.05], r=0.005, rgba=[0.7,0,0.7,0.1]) for sampled_place_ in sampled_points]\n",
    "\n",
    "        env.render(render_every=5)\n",
    "        \n",
    "    if not env.is_viewer_alive(): break    \n",
    "    env.reset()\n",
    "    lower_bound = 0.70\n",
    "    upper_bound = 0.79\n",
    "    in_range = np.logical_and(np.array(quat_list)[5:][:,0] >= lower_bound, np.array(quat_list)[5:][:,0] <= upper_bound)\n",
    "    all_in_range = np.all(in_range)\n",
    "    # print(f\"all_in_range: {all_in_range}\")\n",
    "    print(f\"max_qw: {np.max(np.array(quat_list)[5:][:,0])}\")\n",
    "    print(f\"min_qw: {np.min(np.array(quat_list)[5:][:,0])}\")\n",
    "\n",
    "# Close viewer\n",
    "env.close_viewer()\n",
    "print (\"Done. Tick:[%d] Time:[%.2f]sec\"%(env.tick,env.get_sim_time()))"
   ]
  },
  {
   "cell_type": "code",
   "execution_count": null,
   "metadata": {},
   "outputs": [],
   "source": []
  }
 ],
 "metadata": {
  "kernelspec": {
   "display_name": "llm",
   "language": "python",
   "name": "python3"
  },
  "language_info": {
   "codemirror_mode": {
    "name": "ipython",
    "version": 3
   },
   "file_extension": ".py",
   "mimetype": "text/x-python",
   "name": "python",
   "nbconvert_exporter": "python",
   "pygments_lexer": "ipython3",
   "version": "3.8.13"
  },
  "orig_nbformat": 4
 },
 "nbformat": 4,
 "nbformat_minor": 2
}
