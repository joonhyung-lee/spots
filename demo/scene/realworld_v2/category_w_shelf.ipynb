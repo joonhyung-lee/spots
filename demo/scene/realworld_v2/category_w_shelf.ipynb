{
 "cells": [
  {
   "cell_type": "code",
   "execution_count": 1,
   "metadata": {},
   "outputs": [
    {
     "name": "stdout",
     "output_type": "stream",
     "text": [
      "MuJoCo version:[2.3.7]\n"
     ]
    }
   ],
   "source": [
    "import copy\n",
    "import mujoco\n",
    "import numpy as np\n",
    "import matplotlib.pyplot as plt\n",
    "import sys\n",
    "sys.path.append(\"../../../\")\n",
    "from utils.mujoco_parser import MuJoCoParserClass\n",
    "from utils.util import sample_xyzs,rpy2r,r2rpy,r2quat\n",
    "np.set_printoptions(precision=2,suppress=True,linewidth=100)\n",
    "plt.rc('xtick',labelsize=6); plt.rc('ytick',labelsize=6)\n",
    "%config InlineBackend.figure_format = 'retina'\n",
    "%matplotlib inline\n",
    "print (\"MuJoCo version:[%s]\"%(mujoco.__version__))"
   ]
  },
  {
   "attachments": {},
   "cell_type": "markdown",
   "metadata": {},
   "source": [
    "### Scene 1 - Target object: `Pringles`\n",
    "#### 선반 1층: `mug cup`\n",
    "#### 선반 2층: `cider`, `apple`\n",
    "#### 선반 3층: `pocky`\n",
    "\n",
    "##### Similarity: [`Color`, `Property`, `Shape`]"
   ]
  },
  {
   "cell_type": "code",
   "execution_count": 17,
   "metadata": {},
   "outputs": [
    {
     "name": "stdout",
     "output_type": "stream",
     "text": [
      "window\n"
     ]
    }
   ],
   "source": [
    "xml_path = '../../../asset/scene_realworld_w_shelf_category.xml'\n",
    "# xml_path = '../../../asset/scene_realworld_w_shelf_category_ver2.xml'\n",
    "env = MuJoCoParserClass(name='Place task scene: Office table',rel_xml_path=xml_path,VERBOSE=False, MODE='window')\n",
    "print(env.MODE)\n",
    "\n",
    "# Move tables and robot base\n",
    "env.model.body('base_table').pos = np.array([0,0,0])\n",
    "env.model.body('avoiding_object_table').pos = np.array([0.38+0.45,0,0])\n",
    "env.model.body('base').pos = np.array([-18,0,0.79])\n",
    "env.model.body('right_object_table').pos = np.array([-0.05,-0.80,0])\n",
    "env.model.body('left_object_table').pos = np.array([-5,0.80,0])\n",
    "\n",
    "shelf_pos = np.array([0.9,0.0,0.8])\n",
    "env.model.body('shelf_row1').pos = shelf_pos\n",
    "\n",
    "# Place objects\n",
    "tray_pos = shelf_pos + np.array([ 0.03, -0.12, 0.19])\n",
    "env.model.joint(env.model.body('tray_gray').jntadr[0]).qpos0[:3] = tray_pos\n",
    "env.model.joint(env.model.body('tray_gray').jntadr[0]).qpos0[3:] = r2quat(rpy2r(np.radians([90, 0, 90])))\n",
    "env.model.joint(env.model.body('ycb-apple-2').jntadr[0]).qpos0[:3] = tray_pos + np.array([-0.08,-0.03,0.0])\n",
    "env.model.joint(env.model.body('cider').jntadr[0]).qpos0[:3] = shelf_pos + np.array([-0.10,0.15,0.30])\n",
    "env.model.joint(env.model.body('mug_cup').jntadr[0]).qpos0[:3] = shelf_pos + np.array([-0.05,-0.15,0.02])\n",
    "env.model.joint(env.model.body('mug_cup').jntadr[0]).qpos0[3:] = r2quat(rpy2r(np.radians([0, 0, 90])))\n",
    "env.model.joint(env.model.body('pocky').jntadr[0]).qpos0[:3] = shelf_pos + np.array([-0.08,-0.15,0.45])\n",
    "env.model.joint(env.model.body('pocky').jntadr[0]).qpos0[3:] = r2quat(rpy2r(np.radians([-90, 90, 0])))\n",
    "env.model.joint(env.model.body('ycb-orange-2').jntadr[0]).qpos0[:3] = tray_pos + np.array([-0.08,0.06,0.0])\n",
    "env.model.joint(env.model.body('chocopie').jntadr[0]).qpos0[:3] = shelf_pos + np.array([-0.08,0.15,0.425])\n",
    "env.model.joint(env.model.body('chocopie').jntadr[0]).qpos0[3:] = r2quat(rpy2r(np.radians([90, 0, 90])))\n",
    "env.model.joint(env.model.body('fat_wine_glass').jntadr[0]).qpos0[:3] = shelf_pos + np.array([-0.05,0.15,0.02])\n",
    "env.model.joint(env.model.body('fat_wine_glass').jntadr[0]).qpos0[3:] = r2quat(rpy2r(np.radians([90, 0, 0])))\n",
    "\n",
    "\n",
    "# Do Not use\n",
    "env.model.joint(env.model.body('obj_wine_01').jntadr[0]).qpos0[:3] = np.array([-20,1,1])\n",
    "env.model.joint(env.model.body('tray').jntadr[0]).qpos0[:3] = np.array([-5,1,1])\n",
    "env.model.joint(env.model.body('ycb-lemon').jntadr[0]).qpos0[:3] = np.array([-10.0, -0.6, 0.8])\n",
    "env.model.joint(env.model.body('ycb-lemon').jntadr[0]).qpos0[3:] = r2quat(rpy2r(np.radians([0, 0, -90])))\n",
    "env.model.joint(env.model.body('orange_can').jntadr[0]).qpos0[:3] = np.array([-10.05,-0.5,0.85])\n",
    "env.model.joint(env.model.body('orange_can').jntadr[0]).qpos0[3:] = r2quat(rpy2r(np.radians([0, 0, 135])))\n",
    "env.model.joint(env.model.body('ycb-apple').jntadr[0]).qpos0[:3] = np.array([-5,-5,1])\n",
    "env.model.joint(env.model.body('ycb-banana').jntadr[0]).qpos0[:3] = np.array([-5,-5,1])\n",
    "env.model.joint(env.model.body('ycb-orange').jntadr[0]).qpos0[:3] = np.array([-5,-5,1])\n",
    "env.model.joint(env.model.body('kitchen-bowl-red').jntadr[0]).qpos0[:3] = np.array([-5,-5,1])\n",
    "env.model.joint(env.model.body('kitchen-bowl-blue').jntadr[0]).qpos0[:3] = np.array([-5,-5,1])\n",
    "env.model.joint(env.model.body('redbullcan').jntadr[0]).qpos0[:3] = np.array([-5,-5,1])\n",
    "env.model.joint(env.model.body('coke').jntadr[0]).qpos0[:3] = np.array([-5,-5,1])\n",
    "\n",
    "\n",
    "# Target objects\n",
    "env.model.joint(env.model.body('pringles').jntadr[0]).qpos0[:3] = np.array([0.2, -0.6, 0.8])\n",
    "env.model.joint(env.model.body('pringles').jntadr[0]).qpos0[3:] = r2quat(rpy2r(np.radians([90, 0, 135])))"
   ]
  },
  {
   "cell_type": "code",
   "execution_count": 22,
   "metadata": {},
   "outputs": [
    {
     "name": "stdout",
     "output_type": "stream",
     "text": [
      "[-17.58  -0.     1.16]\n",
      "Pressed ESC\n",
      "Quitting.\n"
     ]
    }
   ],
   "source": [
    "# Init viewer\n",
    "env.init_viewer(viewer_title='UR5e with RG2 gripper',viewer_width=1200,viewer_height=800,\n",
    "                viewer_hide_menus=True, MODE='window')\n",
    "env.update_viewer(azimuth=0,distance=1.0,elevation=-15,lookat=[0.9,0.0,1.01],\n",
    "                  VIS_TRANSPARENT=False,VIS_CONTACTPOINT=False,\n",
    "                  contactwidth=0.05,contactheight=0.05,contactrgba=np.array([1,0,0,1]),\n",
    "                  VIS_JOINT=False,jointlength=0.25,jointwidth=0.05,jointrgba=[0.2,0.6,0.8,0.6])\n",
    "\n",
    "# Reset\n",
    "env.reset()\n",
    "init_ur_q = np.array([np.deg2rad(-180), np.deg2rad(-30), np.deg2rad(-120), np.deg2rad(125), np.deg2rad(-90), np.deg2rad(0)])\n",
    "init_ur_q = np.array([np.deg2rad(-90), np.deg2rad(-132.46), np.deg2rad(122.85), np.deg2rad(99.65), np.deg2rad(45), np.deg2rad(-90.02)])\n",
    "init_ur_q = np.array([-2.28, -1.03, -2.02,  2.43, -0.81,  0.46])\n",
    "env.forward(q=init_ur_q, joint_idxs=env.idxs_forward)\n",
    "# env.forward(q=q_open, joint_idxs=np.array([6,7,8,9,10,11]))\n",
    "initial_xyz = env.get_p_body('tcp_link')\n",
    "print(env.get_p_body('tcp_link'))\n",
    "tick,max_sec = 0,1000\n",
    "\n",
    "i = 0\n",
    "\n",
    "q_open =  np.array([1])\n",
    "while env.get_sim_time() <= max_sec:\n",
    "    ctrl = np.concatenate([init_ur_q, q_open])\n",
    "    ctrl_idxs = [0,1,2,3,4,5,6]\n",
    "    env.step(ctrl=ctrl,ctrl_idxs=ctrl_idxs)\n",
    "    # env.step(ctrl=init_ur_q,ctrl_idxs=env.idxs_step)\n",
    "    # env.model.geom_size[env.model.body('obj_box_03').geomadr[0]] += np.array([0.0001,0.0001,0.0001])\n",
    "    if not env.is_viewer_alive(): break\n",
    "\n",
    "    # Render\n",
    "    if env.loop_every(HZ=100):\n",
    "        # Compute some poses\n",
    "        p_tcp,R_tcp = env.get_pR_body(body_name='tcp_link')\n",
    "        p_cam,R_cam = env.get_pR_body(body_name='camera_center')\n",
    "        p_base,R_base = env.get_pR_body(body_name='base')\n",
    "        # Get PCD from a specific view\n",
    "        p_ego  = p_cam\n",
    "        p_trgt = p_cam + R_cam[:,2] # + np.array([0,0,-0.2])\n",
    "        rgb_img,depth_img,pcd,xyz_img = env.get_egocentric_rgb_depth_pcd(\n",
    "            p_ego=p_ego,p_trgt=p_trgt,rsz_rate=40,fovy=45,BACKUP_AND_RESTORE_VIEW=True)\n",
    "        env.render(render_every=1)\n",
    "\n",
    "# Close viewer\n",
    "env.close_viewer()"
   ]
  },
  {
   "attachments": {},
   "cell_type": "markdown",
   "metadata": {},
   "source": [
    "### Generate `KDE`"
   ]
  },
  {
   "cell_type": "code",
   "execution_count": null,
   "metadata": {},
   "outputs": [],
   "source": [
    "p_feas = np.load('./data_shelf/feasible_pcd_20230915_c24_g4_worker24_3.npy')"
   ]
  },
  {
   "cell_type": "code",
   "execution_count": 25,
   "metadata": {},
   "outputs": [
    {
     "name": "stdout",
     "output_type": "stream",
     "text": [
      "0.2\n",
      "Position: [ 0.79 -0.21  1.04]\n",
      "Pressed ESC\n",
      "Quitting.\n",
      "Done. Tick:[433] Time:[0.43]sec\n"
     ]
    }
   ],
   "source": [
    "import time\n",
    "\n",
    "# Init viewer\n",
    "env.init_viewer(viewer_title='UR5e with RG2 gripper',viewer_width=1200,viewer_height=800,\n",
    "                viewer_hide_menus=True, MODE='window')\n",
    "env.update_viewer(azimuth=0.,distance=1.5,elevation=-80,lookat=([0.44, 0.  , 1.33]),\n",
    "                  VIS_TRANSPARENT=False,VIS_CONTACTPOINT=False,\n",
    "                  contactwidth=0.05,contactheight=0.05,contactrgba=np.array([1,0,0,1]),\n",
    "                  VIS_JOINT=False,jointlength=0.25,jointwidth=0.05,jointrgba=[0.2,0.6,0.8,0.6])\n",
    "\n",
    "env.reset()\n",
    "# Start from initial configuration\n",
    "capture_pose_q = np.array([np.deg2rad(-90), np.deg2rad(-132.46), np.deg2rad(122.85), np.deg2rad(99.65), np.deg2rad(45), np.deg2rad(-90.02)])\n",
    "init_configurations = [-0.73418, -1.08485, 2.7836, -1.699, 0.8366, 0]\n",
    "env.forward(q=capture_pose_q,joint_idxs=[0,1,2,3,4,5])\n",
    "\n",
    "tick = 0\n",
    "end_tick = 1000\n",
    "target_obj_name = 'pringles' # 'coke'\n",
    "target_cylinder_jntadr = env.model.body(target_obj_name).jntadr[0]\n",
    "print(env.get_p_body(target_obj_name)[0])\n",
    "p_list = []\n",
    "R_list = []\n",
    "feasible_place_positions = []\n",
    "target_obj_jntadr = env.model.body(target_obj_name).jntadr[0]\n",
    "target_obj_qposadr = env.model.jnt_qposadr[target_obj_jntadr]\n",
    "\n",
    "env.set_figure(fig_idx=0, line_name=\"x\", title=\"Joint position\", xlabel=\"Time [sec]\", rgba=[0,0,0,0], gridsize=(5,5), legend=True)\n",
    "env.set_figure(fig_idx=0, line_name=\"y\", title=\"Joint position\", xlabel=\"Time [sec]\", rgba=[0,0,0,0], gridsize=(5,5), legend=True)\n",
    "env.set_figure(fig_idx=0, line_name=\"z\", title=\"Joint position\", xlabel=\"Time [sec]\", rgba=[0,0,0,0], gridsize=(5,5), legend=True)\n",
    "env.set_figure(fig_idx=1, line_name=\"Roll\", title=\"Rotation\", xlabel=\"Time [sec]\", rgba=[0,0,0,0], gridsize=(5,5), legend=True)\n",
    "env.set_figure(fig_idx=1, line_name=\"Pitch\", title=\"Rotation\", xlabel=\"Time [sec]\", rgba=[0,0,0,0], gridsize=(5,5), legend=True)\n",
    "env.set_figure(fig_idx=1, line_name=\"Yaw\", title=\"Rotation\", xlabel=\"Time [sec]\", rgba=[0,0,0,0], gridsize=(5,5), legend=True)\n",
    "env.set_figure(fig_idx=2, line_name=\"Q_w\", title=\"Quat\", xlabel=\"Time [sec]\", rgba=[0,0,0,0], gridsize=(5,5), legend=True)\n",
    "# env.set_figure(fig_idx=2, line_name=\"Q_x\", title=\"Quat\", xlabel=\"Time [sec]\", rgba=[0,0,0,0], gridsize=(5,5), legend=True)\n",
    "# env.set_figure(fig_idx=2, line_name=\"Q_y\", title=\"Quat\", xlabel=\"Time [sec]\", rgba=[0,0,0,0], gridsize=(5,5), legend=True)\n",
    "# env.set_figure(fig_idx=2, line_name=\"Q_z\", title=\"Quat\", xlabel=\"Time [sec]\", rgba=[0,0,0,0], gridsize=(5,5), legend=True)\n",
    "\n",
    "perturb_tick = 500\n",
    "\n",
    "for p in p_feas[::5]:\n",
    "    p_list = []\n",
    "    R_list = []\n",
    "    quat_list = []\n",
    "    p += np.array([0, 0, 0.07])\n",
    "    print(f\"Position: {p}\")\n",
    "    start = env.tick\n",
    "    p_copy = p\n",
    "    env.data.qpos[target_obj_qposadr:target_obj_qposadr+3] = p_copy\n",
    "    env.data.qpos[target_obj_qposadr+3:target_obj_qposadr+7] = r2quat(rpy2r(np.radians([90, 0, 0])))\n",
    "    while env.tick - start < end_tick:\n",
    "        if env.tick - start > perturb_tick:\n",
    "            noise = np.random.normal(0, 0.001, 4)\n",
    "            env.data.qpos[target_obj_qposadr+3: target_obj_qposadr+7] += noise\n",
    "\n",
    "        if not env.is_viewer_alive(): break\n",
    "        env.forward(q=capture_pose_q,joint_idxs=[0,1,2,3,4,5])\n",
    "        env.step(ctrl=capture_pose_q,ctrl_idxs=[0,1,2,3,4,5])\n",
    "        R_obj = env.get_R_body(target_obj_name)\n",
    "        quat_ = r2quat(R_obj)\n",
    "        quat_list.append(quat_)\n",
    "        env.plot_sphere(p=p_copy, r=0.005, rgba=[0,1,0,1], label=f\"{env.tick}/{end_tick}\")\n",
    "        [env.plot_sphere(p=sampled_place_+[0,0,0.05], r=0.005, rgba=[0.7,0,0.7,0.1]) for sampled_place_ in p_feas]\n",
    "\n",
    "        env.plot_data(name=\"x\", data=np.array(env.get_p_body(target_obj_name))[0], fig_idx=0)\n",
    "        env.plot_data(name=\"y\", data=np.array(env.get_p_body(target_obj_name))[1], fig_idx=0)\n",
    "        env.plot_data(name=\"z\", data=np.array(env.get_p_body(target_obj_name))[2], fig_idx=0)\n",
    "\n",
    "        env.plot_data(name=\"Roll\", data=r2rpy(env.get_R_body(target_obj_name))[0], fig_idx=1)\n",
    "        env.plot_data(name=\"Pitch\", data=r2rpy(env.get_R_body(target_obj_name))[1], fig_idx=1)\n",
    "        env.plot_data(name=\"Yaw\", data=r2rpy(env.get_R_body(target_obj_name))[2], fig_idx=1)\n",
    " \n",
    "        env.plot_data(name=\"Q_w\", data=env.data.qpos[target_obj_qposadr+3], fig_idx=2)\n",
    "        # env.plot_data(name=\"Q_x\", data=env.data.qpos[target_obj_qposadr+4], fig_idx=2)\n",
    "        # env.plot_data(name=\"Q_y\", data=env.data.qpos[target_obj_qposadr+5], fig_idx=2)\n",
    "        # env.plot_data(name=\"Q_z\", data=env.data.qpos[target_obj_qposadr+6], fig_idx=2)\n",
    "\n",
    "        env.render(render_every=5)\n",
    "\n",
    "    if not env.is_viewer_alive(): break    \n",
    "    env.reset()\n",
    "    lower_bound = 0.70\n",
    "    upper_bound = 0.79\n",
    "    in_range = np.logical_and(np.array(quat_list)[5:][:,0] >= lower_bound, np.array(quat_list)[5:][:,0] <= upper_bound)\n",
    "    all_in_range = np.all(in_range)\n",
    "    # print(f\"all_in_range: {all_in_range}\")\n",
    "    print(f\"max_qw: {np.max(np.array(quat_list)[5:][:,0])}\")\n",
    "    print(f\"min_qw: {np.min(np.array(quat_list)[5:][:,0])}\")\n",
    "\n",
    "# Close viewer\n",
    "env.close_viewer()\n",
    "print (\"Done. Tick:[%d] Time:[%.2f]sec\"%(env.tick,env.get_sim_time()))"
   ]
  },
  {
   "cell_type": "markdown",
   "metadata": {},
   "source": [
    "### LLM screening"
   ]
  },
  {
   "cell_type": "markdown",
   "metadata": {},
   "source": [
    "### Interact with GPT"
   ]
  },
  {
   "cell_type": "code",
   "execution_count": 23,
   "metadata": {},
   "outputs": [
    {
     "name": "stdout",
     "output_type": "stream",
     "text": [
      "openai version:[0.27.8]\n"
     ]
    }
   ],
   "source": [
    "import os\n",
    "import openai\n",
    "import sys\n",
    "sys.path.append('../../../')\n",
    "from utils.gpt_helper import set_openai_api_key_from_txt,GPTchatClass,printmd\n",
    "from utils.wiki_helper import wiki_search\n",
    "from utils.util import printmd,extract_quoted_words\n",
    "print (\"openai version:[%s]\"%(openai.__version__))"
   ]
  },
  {
   "cell_type": "code",
   "execution_count": 24,
   "metadata": {},
   "outputs": [],
   "source": [
    "import openai\n",
    "openai.api_key = 'your key' \n",
    "model_name = 'gpt-3.5-turbo'#'text-davinci-002' # CaP uses text-davinci-002\n",
    "\n",
    "class ChatGPT():\n",
    "    def __init__ (self, system_prompt, model_engine='text-davinci-003'):\n",
    "        self.model_engine = model_engine\n",
    "        self.system_prompt = system_prompt\n",
    "        self.msg_history_davinci = self.system_prompt\n",
    "        self.msg_history_turbo = [{\"role\": \"assistant\", \"content\": self.system_prompt}]\n",
    "        self.role = 'user'\n",
    "    \n",
    "    def reset(self):\n",
    "        self.msg_history_turbo = [{\"role\": \"assistant\", \"content\": self.system_prompt}]\n",
    "\n",
    "    def get_answer(self, prompt=None):\n",
    "        if self.model_engine == 'gpt-3.5-turbo':\n",
    "            self.msg_history_turbo.append({\"role\": self.role, \"content\":prompt})\n",
    "            response   = openai.ChatCompletion.create(\n",
    "            model      = self.model_engine,\n",
    "            temperature= 0.9,\n",
    "            messages   = self.msg_history_turbo)\n",
    "            reply_text = response['choices'][0]['message']['content']\n",
    "            self.msg_history_turbo.append({\"role\":\"assistant\", \"content\":reply_text})\n",
    "\n",
    "        elif self.model_engine == 'text-davinci-003': \n",
    "            self.msg_history_davinci += \"You: \"+prompt \n",
    "            response   = openai.Completion.create(\n",
    "            engine     = self.model_engine,\n",
    "            prompt     = self.msg_history_davinci,\n",
    "            max_tokens = 512,\n",
    "            temperature= 1.0,\n",
    "            n          = 1,\n",
    "            #stop       = [\"You:\", \"AI:\"]\n",
    "            )\n",
    "            reply_text = response.choices[0].text.strip().replace('Answer: ', '')\n",
    "            self.msg_history_davinci+=\"\\n\"+\"AI: \"+reply_text+\"\\n\"\n",
    "\n",
    "        elif self.model_engine == 'text-davinci-002': \n",
    "            response   = openai.Completion.create(\n",
    "            engine     = self.model_engine,\n",
    "            prompt     = prompt,\n",
    "            max_tokens = 512,\n",
    "            temperature= 1.0,\n",
    "            n          = 1,\n",
    "            )\n",
    "            reply_text = response['choices'][0]['text'].strip()\n",
    "        return reply_text\n",
    "\n"
   ]
  },
  {
   "attachments": {},
   "cell_type": "markdown",
   "metadata": {},
   "source": [
    "#### Similarity a) color"
   ]
  },
  {
   "cell_type": "code",
   "execution_count": 30,
   "metadata": {},
   "outputs": [],
   "source": [
    "object_description_list = [\"glass mug cup\", \"cider\", \"apple\", \"pocky\"]\n",
    "target_object_name = [\"pringles\"]\n",
    "\n",
    "user_msg = \\\n",
    "    f\"\"\"\n",
    "    Scene description:\n",
    "    In the first level of bookshelf: there is a glass mug cup.\n",
    "    In the second level of bookshelf: there are cider and apple in the bookshelf.\n",
    "    In the third level of bookshelf: there is a pocky in the bookshelf.\n",
    "    \n",
    "    Task description: \n",
    "    The task is to place the {target_object_name[0]} on the table in best fit region with it's genre.\n",
    "\n",
    "    This is an example of instruction. For example, answer the output following instructions.\n",
    "\n",
    "    User: Let me know which region(area) is suitable to place it with the {target_object_name[0]}.\n",
    "        I want to place the {target_object_name[0]} with the same color of the {target_object_name[0]}.\n",
    "        In the first level bookshelf: [sprite]\n",
    "        In thw second level bookshelf: [oreo, fanta, orange]\n",
    "        In the third level bookshelf: [chocopie]\n",
    "    GPT-4: [Recommended region: Next to the chocopie in the third level bookshelf]\n",
    "\n",
    "    If you understand, Say \"I understand\" and I will start the simulation.\n",
    "    \"\"\""
   ]
  },
  {
   "cell_type": "code",
   "execution_count": 31,
   "metadata": {},
   "outputs": [],
   "source": [
    "llm = ChatGPT(user_msg, model_engine=model_name)\n",
    "llm.reset()"
   ]
  },
  {
   "cell_type": "code",
   "execution_count": 33,
   "metadata": {},
   "outputs": [
    {
     "data": {
      "text/markdown": [
       "I understand. Let's start the simulation. \n",
       "\n",
       "Based on your instructions, you want to place the Pringles with the same color. In the first level of the bookshelf, there is a glass mug cup, which doesn't match the color of the Pringles. In the second level of the bookshelf, there are cider and apple, which also don't match the color of the Pringles. However, in the third level of the bookshelf, there is a Pocky. Since it is also a snack item, it would be suitable to place the Pringles next to the Pocky in the third level of the bookshelf. \n",
       "\n",
       "I hope this helps! Let me know if there's anything else I can assist you with."
      ],
      "text/plain": [
       "<IPython.core.display.Markdown object>"
      ]
     },
     "metadata": {},
     "output_type": "display_data"
    }
   ],
   "source": [
    "response_content = llm.get_answer(prompt=user_msg)\n",
    "printmd(response_content)"
   ]
  },
  {
   "cell_type": "code",
   "execution_count": 38,
   "metadata": {},
   "outputs": [],
   "source": [
    "user_msg = \\\n",
    "    f\"\"\"\n",
    "    Let me know which level of bookshelf is suitable to place it? Only you can say the region.\n",
    "    I want to place the {target_object_name[0]} with the same color property. Say where is the best fit placement region?\n",
    "    In the first level bookshelf: [glass mug cup]\n",
    "    In thw second level bookshelf: [cider, apple]\n",
    "    In the third level bookshelf: [pocky]\n",
    "    \"\"\""
   ]
  },
  {
   "cell_type": "code",
   "execution_count": 39,
   "metadata": {},
   "outputs": [
    {
     "data": {
      "text/markdown": [
       "Based on the color property, the best fit placement region for the Pringles would be the second level of the bookshelf where the cider and apple are located. Both the cider and apple have a similar color to the Pringles, making them a suitable match. Therefore, I recommend placing the Pringles in the second level of the bookshelf alongside the cider and apple.\n",
       "\n",
       "Let me know if there's anything else I can assist you with!"
      ],
      "text/plain": [
       "<IPython.core.display.Markdown object>"
      ]
     },
     "metadata": {},
     "output_type": "display_data"
    }
   ],
   "source": [
    "response_content = llm.get_answer(prompt=user_msg)\n",
    "printmd(response_content)"
   ]
  },
  {
   "attachments": {},
   "cell_type": "markdown",
   "metadata": {},
   "source": [
    "#### Similarity b) material property"
   ]
  },
  {
   "cell_type": "code",
   "execution_count": 63,
   "metadata": {},
   "outputs": [],
   "source": [
    "object_description_list = [\"glass mug cup\", \"cider\", \"apple\", \"pocky\"]\n",
    "target_object_name = [\"pringles\"]\n",
    "\n",
    "user_msg = \\\n",
    "    f\"\"\"\n",
    "    Scene description:\n",
    "    In the first level of bookshelf: there is a glass mug cup.\n",
    "    In the second level of bookshelf: there are cider and apple in the bookshelf.\n",
    "    In the third level of bookshelf: there is a pocky in the bookshelf.\n",
    "    \n",
    "    Task description: \n",
    "    The task is to place the {target_object_name[0]} on the table in best fit region with it's genre.\n",
    "\n",
    "    This is an example of instruction. For example, answer the output following instructions.\n",
    "\n",
    "    User: Let me know which region(area) is suitable to place it with the {target_object_name[0]} same material property of the {target_object_name[0]}.\n",
    "        In the first level bookshelf: [sprite]\n",
    "        In thw second level bookshelf: [oreo, fanta, orange]\n",
    "        In the third level bookshelf: [chocopie]\n",
    "    GPT-4: [Recommended region: Next to the chocopie in the third level bookshelf]\n",
    "\n",
    "    If you understand, Say \"I understand\" and I will start the simulation.\n",
    "    \"\"\""
   ]
  },
  {
   "cell_type": "code",
   "execution_count": 64,
   "metadata": {},
   "outputs": [],
   "source": [
    "llm = ChatGPT(user_msg, model_engine=model_name)\n",
    "llm.reset()"
   ]
  },
  {
   "cell_type": "code",
   "execution_count": 65,
   "metadata": {},
   "outputs": [
    {
     "data": {
      "text/markdown": [
       "I understand. I will provide you with the recommended region to place the Pringles based on its material property."
      ],
      "text/plain": [
       "<IPython.core.display.Markdown object>"
      ]
     },
     "metadata": {},
     "output_type": "display_data"
    }
   ],
   "source": [
    "response_content = llm.get_answer(prompt=user_msg)\n",
    "printmd(response_content)"
   ]
  },
  {
   "cell_type": "code",
   "execution_count": 66,
   "metadata": {},
   "outputs": [],
   "source": [
    "user_msg = \\\n",
    "    f\"\"\"\n",
    "    Let me know which region(area) is suitable to place it with the {target_object_name[0]} same material property of the {target_object_name[0]}.\n",
    "    In the first level bookshelf: [glass mug cup]\n",
    "    In thw second level bookshelf: [cider, apple]\n",
    "    In the third level bookshelf: [pocky]\n",
    "    \"\"\""
   ]
  },
  {
   "cell_type": "code",
   "execution_count": 67,
   "metadata": {},
   "outputs": [
    {
     "data": {
      "text/markdown": [
       "Based on the material property of the Pringles, which is a snack item, I would recommend placing the Pringles next to the Pocky in the third level of the bookshelf."
      ],
      "text/plain": [
       "<IPython.core.display.Markdown object>"
      ]
     },
     "metadata": {},
     "output_type": "display_data"
    }
   ],
   "source": [
    "response_content = llm.get_answer(prompt=user_msg)\n",
    "printmd(response_content)"
   ]
  },
  {
   "attachments": {},
   "cell_type": "markdown",
   "metadata": {},
   "source": [
    "#### Similarity c) Shape"
   ]
  },
  {
   "cell_type": "code",
   "execution_count": 82,
   "metadata": {},
   "outputs": [],
   "source": [
    "object_description_list = [\"glass mug cup\", \"cider\", \"apple\", \"pocky\"]\n",
    "target_object_name = [\"pringles\"]\n",
    "\n",
    "user_msg = \\\n",
    "    f\"\"\"\n",
    "    Scene description:\n",
    "    In the first level of bookshelf: there is a glass mug cup.\n",
    "    In the second level of bookshelf: there are cider and apple in the bookshelf.\n",
    "    In the third level of bookshelf: there is a pocky in the bookshelf.\n",
    "    \n",
    "    Task description: \n",
    "    The task is to place the {target_object_name[0]} on the table in best fit region with it's genre.\n",
    "\n",
    "    This is an example of instruction. For example, answer the output following instructions.\n",
    "\n",
    "    User: Let me know which region(area) is suitable to place it with the {target_object_name[0]}.\n",
    "        I want to place the {target_object_name[0]} with the same color of the {target_object_name[0]}.\n",
    "        In the first level bookshelf: [sprite]\n",
    "        In thw second level bookshelf: [oreo, fanta, orange]\n",
    "        In the third level bookshelf: [chocopie]\n",
    "    GPT-4: [Recommended region: Next to the chocopie in the third level bookshelf]\n",
    "\n",
    "    If you understand, Say \"I understand\" and I will start the simulation.\n",
    "    \"\"\""
   ]
  },
  {
   "cell_type": "code",
   "execution_count": 83,
   "metadata": {},
   "outputs": [
    {
     "data": {
      "text/markdown": [
       "\n",
       "    Scene description:\n",
       "    In the first level of bookshelf: there is a glass mug cup.\n",
       "    In the second level of bookshelf: there are cider and apple in the bookshelf.\n",
       "    In the third level of bookshelf: there is a pocky in the bookshelf.\n",
       "    \n",
       "    Task description: \n",
       "    The task is to place the pringles on the table in best fit region with it's genre.\n",
       "\n",
       "    This is an example of instruction. For example, answer the output following instructions.\n",
       "\n",
       "    User: Let me know which region(area) is suitable to place it with the pringles.\n",
       "        I want to place the pringles with the same color of the pringles.\n",
       "        In the first level bookshelf: [sprite]\n",
       "        In thw second level bookshelf: [oreo, fanta, orange]\n",
       "        In the third level bookshelf: [chocopie]\n",
       "    GPT-4: [Recommended region: Next to the chocopie in the third level bookshelf]\n",
       "\n",
       "    If you understand, Say \"I understand\" and I will start the simulation.\n",
       "    "
      ],
      "text/plain": [
       "<IPython.core.display.Markdown object>"
      ]
     },
     "metadata": {},
     "output_type": "display_data"
    }
   ],
   "source": [
    "printmd(user_msg)"
   ]
  },
  {
   "cell_type": "code",
   "execution_count": 74,
   "metadata": {},
   "outputs": [],
   "source": [
    "llm = ChatGPT(user_msg, model_engine=model_name)\n",
    "llm.reset()"
   ]
  },
  {
   "cell_type": "code",
   "execution_count": 75,
   "metadata": {},
   "outputs": [
    {
     "data": {
      "text/markdown": [
       "I understand. Let's begin the simulation."
      ],
      "text/plain": [
       "<IPython.core.display.Markdown object>"
      ]
     },
     "metadata": {},
     "output_type": "display_data"
    }
   ],
   "source": [
    "response_content = llm.get_answer(prompt=user_msg)\n",
    "printmd(response_content)"
   ]
  },
  {
   "cell_type": "code",
   "execution_count": 88,
   "metadata": {},
   "outputs": [],
   "source": [
    "user_msg = \\\n",
    "    f\"\"\"\n",
    "    Let me know which level of bookshelf is suitable to place it? Only you can say the region.\n",
    "    I want to place the {target_object_name[0]} with the same shape. Say where is the best fit placement region?\n",
    "    In the first level bookshelf: [glass mug cup]\n",
    "    In thw second level bookshelf: [cider, apple]\n",
    "    In the third level bookshelf: [pocky]\n",
    "    \"\"\""
   ]
  },
  {
   "cell_type": "code",
   "execution_count": 89,
   "metadata": {},
   "outputs": [
    {
     "data": {
      "text/markdown": [
       "Based on the shape property, the best fit placement region for the Pringles would be on the first level of the bookshelf, next to the glass mug cup."
      ],
      "text/plain": [
       "<IPython.core.display.Markdown object>"
      ]
     },
     "metadata": {},
     "output_type": "display_data"
    }
   ],
   "source": [
    "response_content = llm.get_answer(prompt=user_msg)\n",
    "printmd(response_content)"
   ]
  },
  {
   "cell_type": "markdown",
   "metadata": {},
   "source": [
    "### Test on `the phyiscally plausible place`"
   ]
  },
  {
   "cell_type": "code",
   "execution_count": 100,
   "metadata": {},
   "outputs": [
    {
     "data": {
      "text/plain": [
       "(14, 3)"
      ]
     },
     "execution_count": 100,
     "metadata": {},
     "output_type": "execute_result"
    }
   ],
   "source": [
    "def remove_duplicates_with_specific_com(p_com, pointcloud, threshold=0.05):\n",
    "    filtered_pointcloud = []\n",
    "    \n",
    "    for point in pointcloud:\n",
    "        # Check if the point is close to the specific center of mass (p_com)\n",
    "        if np.linalg.norm(np.array(point) - np.array(p_com)) < threshold:\n",
    "            filtered_pointcloud.append(point)\n",
    "            \n",
    "    return np.array(filtered_pointcloud)\n",
    "\n",
    "region_row2 = env.get_p_body('pocky')\n",
    "region_row2 = env.get_p_body('mug_cup')\n",
    "row2_pcd = remove_duplicates_with_specific_com(region_row2, p_feas, threshold=0.15)\n",
    "row2_pcd.shape"
   ]
  },
  {
   "cell_type": "code",
   "execution_count": 101,
   "metadata": {},
   "outputs": [
    {
     "data": {
      "image/png": "[encoded data removed]",
      "text/plain": [
       "<Figure size 2400x800 with 1 Axes>"
      ]
     },
     "metadata": {
      "image/png": {
       "height": 589,
       "width": 567
      }
     },
     "output_type": "display_data"
    }
   ],
   "source": [
    "from scipy.stats import gaussian_kde\n",
    "\n",
    "# Adjust the function to sample from 3D KDE with scaling and debugging\n",
    "def sample_from_kde_3d_scaled(pcd, kde_values, num_samples=10):\n",
    "    kde_values_flat = kde_values.flatten()\n",
    "    kde_sum = np.sum(kde_values_flat)\n",
    "    \n",
    "    if np.isclose(kde_sum, 0):\n",
    "        print(f\"Warning: Sum of KDE values is close to zero ({kde_sum})\")\n",
    "        return None\n",
    "\n",
    "    kde_values_norm = kde_values_flat / kde_sum\n",
    "    sampled_indices = np.random.choice(len(kde_values_flat), size=num_samples, p=kde_values_norm)\n",
    "    sampled_coords = np.array(np.unravel_index(sampled_indices, kde_values.shape)).T\n",
    "    \n",
    "    # Scale to the actual range of the data\n",
    "    x_range = np.linspace(pcd[:, 0].min(), pcd[:, 0].max(), kde_values.shape[0])\n",
    "    y_range = np.linspace(pcd[:, 1].min(), pcd[:, 1].max(), kde_values.shape[1])\n",
    "    z_range = np.linspace(pcd[:, 2].min(), pcd[:, 2].max(), kde_values.shape[2])\n",
    "    \n",
    "    sampled_xyz = np.array([x_range[sampled_coords[:, 0]], y_range[sampled_coords[:, 1]], z_range[sampled_coords[:, 2]]]).T\n",
    "    return sampled_xyz\n",
    "\n",
    "# Generate some random 3D point clouds as an example\n",
    "np.random.seed(0)\n",
    "feasible_pcd = p_feas\n",
    "red_pcd = row2_pcd\n",
    "\n",
    "# Beta values for blending\n",
    "betas = [0.1, 0.5, 1.0]\n",
    "betas = [0.001]\n",
    "fig = plt.figure(figsize=(24, 8))\n",
    "\n",
    "for beta in betas:\n",
    "    weights1 = np.ones(feasible_pcd.shape[0]) * beta\n",
    "    weights2 = np.ones(red_pcd.shape[0]) * (1 - beta)\n",
    "    \n",
    "    total_weights = np.sum(weights1) + np.sum(weights2)\n",
    "    weights1 = weights1 / total_weights\n",
    "    weights2 = weights2 / total_weights\n",
    "    \n",
    "    merged_pcd = np.vstack([feasible_pcd, red_pcd])\n",
    "    merged_weights = np.concatenate([weights1, weights2])\n",
    "\n",
    "    # KDE computation with adjusted bandwidth\n",
    "    merged_kde = gaussian_kde(merged_pcd.T, weights=merged_weights, bw_method=0.1)\n",
    "\n",
    "    # Grid definition with finer resolution\n",
    "    x_min, x_max = merged_pcd[:, 0].min(), merged_pcd[:, 0].max()\n",
    "    y_min, y_max = merged_pcd[:, 1].min(), merged_pcd[:, 1].max()\n",
    "    z_min, z_max = merged_pcd[:, 2].min(), merged_pcd[:, 2].max()\n",
    "    \n",
    "    # Increase grid resolution to 50 along each axis\n",
    "    xi, yi, zi = np.mgrid[x_min:x_max:50j, y_min:y_max:50j, z_min:z_max:50j]\n",
    "    grid_coords = np.vstack([xi.ravel(), yi.ravel(), zi.ravel()])\n",
    "    \n",
    "    # KDE evaluation\n",
    "    kde_values = merged_kde.evaluate(grid_coords).reshape(xi.shape)\n",
    "    \n",
    "    # Sampling with debugging and scaling\n",
    "    sampled_points = sample_from_kde_3d_scaled(merged_pcd, kde_values, num_samples=20)\n",
    "    \n",
    "    # Plotting\n",
    "    ax = fig.add_subplot(1, 3, betas.index(beta) + 1, projection='3d')\n",
    "    ax.scatter(feasible_pcd[:, 0], feasible_pcd[:, 1], feasible_pcd[:, 2], c='blue', alpha=0.5)\n",
    "    ax.scatter(red_pcd[:, 0], red_pcd[:, 1], red_pcd[:, 2], c='red', alpha=0.5)\n",
    "    \n",
    "    if sampled_points is not None:\n",
    "        ax.scatter(sampled_points[:, 0], sampled_points[:, 1], sampled_points[:, 2], c='black', marker='x', s=100)\n",
    "    \n",
    "    ax.set_title(fr'$\\beta$ = {beta}')\n",
    "    ax.axis('off')\n",
    "plt.show()\n"
   ]
  },
  {
   "cell_type": "code",
   "execution_count": 102,
   "metadata": {},
   "outputs": [
    {
     "name": "stdout",
     "output_type": "stream",
     "text": [
      "0.2\n",
      "Position: [ 0.88 -0.03  0.9 ]\n",
      "max_qw: 0.7148416276831431\n",
      "min_qw: 0.7027403502720981\n",
      "Position: [0.89 0.03 0.89]\n",
      "max_qw: 0.7071074277963836\n",
      "min_qw: 0.7060515746704374\n",
      "Position: [ 0.89 -0.16  0.97]\n",
      "max_qw: 0.7047715464772333\n",
      "min_qw: 0.00019996250750163672\n",
      "Position: [ 0.88 -0.03  0.9 ]\n",
      "max_qw: 0.7148416276831431\n",
      "min_qw: 0.702740350272098\n",
      "Position: [0.83 0.01 0.9 ]\n",
      "max_qw: 0.707107644740062\n",
      "min_qw: 0.7060396342038232\n",
      "Position: [ 0.89 -0.09  0.9 ]\n",
      "max_qw: 0.7068614008485371\n",
      "min_qw: 0.6685637236577124\n",
      "Position: [ 0.85 -0.18  0.9 ]\n",
      "max_qw: 0.7071076447400619\n",
      "min_qw: 0.7060708696721706\n",
      "Position: [ 0.97 -0.03  0.9 ]\n",
      "max_qw: 0.707107644740062\n",
      "min_qw: 0.7060576789722606\n",
      "Position: [ 0.99 -0.03  0.89]\n",
      "max_qw: 0.7071074277963832\n",
      "min_qw: 0.706220735019408\n",
      "Position: [ 0.83 -0.05  0.97]\n",
      "max_qw: 0.7151335661645236\n",
      "min_qw: 0.6879632513396226\n",
      "Position: [ 0.93 -0.18  0.9 ]\n",
      "max_qw: 0.707107644740062\n",
      "min_qw: 0.7060725343587028\n",
      "Position: [ 0.88 -0.09  0.9 ]\n",
      "max_qw: 0.7406770546937133\n",
      "min_qw: 0.6981282185571165\n",
      "Position: [0.88 0.03 0.9 ]\n",
      "max_qw: 0.7071076447400619\n",
      "min_qw: 0.7060570592903872\n",
      "Position: [ 0.97 -0.03  0.9 ]\n",
      "max_qw: 0.707107644740062\n",
      "min_qw: 0.7060576789722606\n",
      "Position: [ 0.79 -0.16  0.9 ]\n",
      "max_qw: 0.7072957382657384\n",
      "min_qw: 0.7021274152654242\n",
      "Position: [ 0.79 -0.14  0.9 ]\n",
      "max_qw: 0.7072931920116374\n",
      "min_qw: 0.7022602065947204\n",
      "Position: [ 0.78 -0.09  0.9 ]\n",
      "max_qw: 0.7071076447400619\n",
      "min_qw: 0.3821388859201821\n",
      "Position: [ 0.93 -0.18  0.9 ]\n",
      "max_qw: 0.707107644740062\n",
      "min_qw: 0.7060725343587028\n",
      "Position: [ 0.93 -0.18  0.9 ]\n",
      "max_qw: 0.707107644740062\n",
      "min_qw: 0.7060725343587028\n",
      "Position: [ 0.97 -0.09  0.9 ]\n",
      "max_qw: 0.7071076447400619\n",
      "min_qw: 0.706059832562908\n",
      "Done. Tick:[0] Time:[0.00]sec\n"
     ]
    }
   ],
   "source": [
    "import time\n",
    "\n",
    "# Init viewer\n",
    "env.init_viewer(viewer_title='UR5e with RG2 gripper',viewer_width=1200,viewer_height=800,\n",
    "                viewer_hide_menus=True, MODE='window')\n",
    "env.update_viewer(azimuth=0,distance=3.0,elevation=-30,lookat=[0.4,0.0,0.81],\n",
    "                  VIS_TRANSPARENT=False,VIS_CONTACTPOINT=False,\n",
    "                  contactwidth=0.05,contactheight=0.05,contactrgba=np.array([1,0,0,1]),\n",
    "                  VIS_JOINT=False,jointlength=0.25,jointwidth=0.05,jointrgba=[0.2,0.6,0.8,0.6])\n",
    "env.reset()\n",
    "# Start from initial configuration\n",
    "capture_pose_q = np.array([np.deg2rad(-90), np.deg2rad(-132.46), np.deg2rad(122.85), np.deg2rad(99.65), np.deg2rad(45), np.deg2rad(-90.02)])\n",
    "init_configurations = [-0.73418, -1.08485, 2.7836, -1.699, 0.8366, 0]\n",
    "env.forward(q=capture_pose_q,joint_idxs=[0,1,2,3,4,5])\n",
    "\n",
    "tick = 0\n",
    "end_tick = 3000\n",
    "perturb_tick = 500\n",
    "target_obj_name = 'pringles' # 'coke'\n",
    "target_cylinder_jntadr = env.model.body(target_obj_name).jntadr[0]\n",
    "print(env.get_p_body(target_obj_name)[0])\n",
    "p_list = []\n",
    "R_list = []\n",
    "feasible_place_positions = []\n",
    "target_obj_jntadr = env.model.body(target_obj_name).jntadr[0]\n",
    "target_obj_qposadr = env.model.jnt_qposadr[target_obj_jntadr]\n",
    "\n",
    "for p in sampled_points:\n",
    "    p_list = []\n",
    "    R_list = []\n",
    "    quat_list = []\n",
    "    p += np.array([0, 0, 0.07])\n",
    "    print(f\"Position: {p}\")\n",
    "    start = env.tick\n",
    "    p_copy = p\n",
    "    env.data.qpos[target_obj_qposadr:target_obj_qposadr+3] = p_copy\n",
    "    env.data.qpos[target_obj_qposadr+3:target_obj_qposadr+7] = r2quat(rpy2r(np.radians([90, 0, 0])))\n",
    "    while env.tick - start < end_tick:\n",
    "        if not env.is_viewer_alive(): break\n",
    "        env.forward(q=capture_pose_q,joint_idxs=[0,1,2,3,4,5])\n",
    "        env.step(ctrl=capture_pose_q,ctrl_idxs=[0,1,2,3,4,5])\n",
    "        R_obj = env.get_R_body(target_obj_name)\n",
    "        quat_ = r2quat(R_obj)\n",
    "        quat_list.append(quat_)\n",
    "        [env.plot_sphere(p=sampled_place_+[0,0,0.05], r=0.01, rgba=[0.0,1.0,0.0,0.5]) for sampled_place_ in sampled_points]\n",
    "\n",
    "        env.render(render_every=5)\n",
    "        \n",
    "    if not env.is_viewer_alive(): break    \n",
    "    env.reset()\n",
    "    lower_bound = 0.70\n",
    "    upper_bound = 0.79\n",
    "    in_range = np.logical_and(np.array(quat_list)[5:][:,0] >= lower_bound, np.array(quat_list)[5:][:,0] <= upper_bound)\n",
    "    all_in_range = np.all(in_range)\n",
    "    # print(f\"all_in_range: {all_in_range}\")\n",
    "    print(f\"max_qw: {np.max(np.array(quat_list)[5:][:,0])}\")\n",
    "    print(f\"min_qw: {np.min(np.array(quat_list)[5:][:,0])}\")\n",
    "\n",
    "# Close viewer\n",
    "env.close_viewer()\n",
    "print (\"Done. Tick:[%d] Time:[%.2f]sec\"%(env.tick,env.get_sim_time()))"
   ]
  },
  {
   "cell_type": "code",
   "execution_count": null,
   "metadata": {},
   "outputs": [],
   "source": []
  },
  {
   "attachments": {},
   "cell_type": "markdown",
   "metadata": {},
   "source": [
    "### Scene 2 - Target object: `Fanta`\n",
    "#### 선반 1층: `mug cup`\n",
    "#### 선반 2층: `cider`, `orange`\n",
    "#### 선반 3층: `chocopie`\n",
    "\n",
    "##### Similarity: [`Flavor`, `Property`, `Korean item`: {초코파이 - 사이다}]"
   ]
  },
  {
   "cell_type": "code",
   "execution_count": null,
   "metadata": {},
   "outputs": [],
   "source": [
    "xml_path = '../../../asset/scene_realworld_w_shelf_category.xml'\n",
    "# xml_path = '../../../asset/scene_realworld_w_shelf_category_ver2.xml'\n",
    "env = MuJoCoParserClass(name='Place task scene: Office table',rel_xml_path=xml_path,VERBOSE=False, MODE='window')\n",
    "print(env.MODE)\n",
    "\n",
    "# Move tables and robot base\n",
    "env.model.body('base_table').pos = np.array([0,0,0])\n",
    "env.model.body('avoiding_object_table').pos = np.array([0.38+0.45,0,0])\n",
    "env.model.body('base').pos = np.array([-18,0,0.79])\n",
    "env.model.body('right_object_table').pos = np.array([-0.05,-0.80,0])\n",
    "env.model.body('left_object_table').pos = np.array([-5,0.80,0])\n",
    "\n",
    "shelf_pos = np.array([0.9,0.0,0.8])\n",
    "env.model.body('shelf_row1').pos = shelf_pos\n",
    "\n",
    "# Place objects\n",
    "tray_pos = shelf_pos + np.array([ 0.05, -0.12, 0.20])\n",
    "env.model.joint(env.model.body('tray').jntadr[0]).qpos0[:3] = np.array([-5,1,1])\n",
    "env.model.joint(env.model.body('tray_gray').jntadr[0]).qpos0[:3] = tray_pos\n",
    "env.model.joint(env.model.body('tray_gray').jntadr[0]).qpos0[3:] = r2quat(rpy2r(np.radians([90, 0, 90])))\n",
    "env.model.joint(env.model.body('ycb-apple-2').jntadr[0]).qpos0[:3] = tray_pos + np.array([-0.05,-0.05,0.05])\n",
    "env.model.joint(env.model.body('ycb-orange-2').jntadr[0]).qpos0[:3] = tray_pos + np.array([-0.05,0.05,0.05])\n",
    "env.model.joint(env.model.body('cider').jntadr[0]).qpos0[:3] = shelf_pos + np.array([-0.05,0.15,0.30])\n",
    "env.model.joint(env.model.body('obj_wine_01').jntadr[0]).qpos0[:3] = np.array([-2,1,1])\n",
    "env.model.joint(env.model.body('fat_wine_glass').jntadr[0]).qpos0[:3] = shelf_pos + np.array([0.0,0.15,0.02])\n",
    "env.model.joint(env.model.body('fat_wine_glass').jntadr[0]).qpos0[3:] = r2quat(rpy2r(np.radians([90, 0, 0])))\n",
    "env.model.joint(env.model.body('mug_cup').jntadr[0]).qpos0[:3] = shelf_pos + np.array([0.0,-0.1,0.03])\n",
    "env.model.joint(env.model.body('mug_cup').jntadr[0]).qpos0[3:] = r2quat(rpy2r(np.radians([0, 0, 90])))\n",
    "\n",
    "env.model.joint(env.model.body('chocopie').jntadr[0]).qpos0[:3] = shelf_pos + np.array([-0.0,0.07,0.5])\n",
    "env.model.joint(env.model.body('chocopie').jntadr[0]).qpos0[3:] = r2quat(rpy2r(np.radians([90, 0, 90])))\n",
    "env.model.joint(env.model.body('pocky').jntadr[0]).qpos0[:3] = shelf_pos + np.array([-0.0,-0.07,0.5])\n",
    "env.model.joint(env.model.body('pocky').jntadr[0]).qpos0[3:] = r2quat(rpy2r(np.radians([-90, 90, 0])))\n",
    "\n",
    "# Target objects\n",
    "env.model.joint(env.model.body('ycb-lemon').jntadr[0]).qpos0[:3] = np.array([0.0, -0.6, 0.8])\n",
    "env.model.joint(env.model.body('ycb-lemon').jntadr[0]).qpos0[3:] = r2quat(rpy2r(np.radians([0, 0, -90])))\n",
    "env.model.joint(env.model.body('orange_can').jntadr[0]).qpos0[:3] = np.array([-0.05,-0.5,0.85])\n",
    "env.model.joint(env.model.body('orange_can').jntadr[0]).qpos0[3:] = r2quat(rpy2r(np.radians([0, 0, 135])))\n",
    "# env.model.joint(env.model.body('obj_orange').jntadr[0]).qpos0[:3] = np.array([0.1,-0.6,0.85])\n",
    "# env.model.joint(env.model.body('fanta_grape').jntadr[0]).qpos0[:3] = np.array([0.1,-0.6,0.85])\n",
    "env.model.joint(env.model.body('pringles').jntadr[0]).qpos0[:3] = np.array([0.2, -0.6, 0.8])\n",
    "env.model.joint(env.model.body('pringles').jntadr[0]).qpos0[3:] = r2quat(rpy2r(np.radians([90, 0, 135])))\n",
    "\n",
    "env.model.joint(env.model.body('ycb-apple').jntadr[0]).qpos0[:3] = np.array([-5,-5,1])\n",
    "env.model.joint(env.model.body('ycb-banana').jntadr[0]).qpos0[:3] = np.array([-5,-5,1])\n",
    "env.model.joint(env.model.body('ycb-orange').jntadr[0]).qpos0[:3] = np.array([-5,-5,1])\n",
    "env.model.joint(env.model.body('kitchen-bowl-red').jntadr[0]).qpos0[:3] = np.array([-5,-5,1])\n",
    "env.model.joint(env.model.body('kitchen-bowl-blue').jntadr[0]).qpos0[:3] = np.array([-5,-5,1])\n",
    "env.model.joint(env.model.body('redbullcan').jntadr[0]).qpos0[:3] = np.array([-5,-5,1])\n",
    "env.model.joint(env.model.body('coke').jntadr[0]).qpos0[:3] = np.array([-5,-5,1])\n"
   ]
  },
  {
   "cell_type": "code",
   "execution_count": null,
   "metadata": {},
   "outputs": [],
   "source": []
  },
  {
   "attachments": {},
   "cell_type": "markdown",
   "metadata": {},
   "source": [
    "### Scene 3 - Target object: `Apple`\n",
    "#### 선반 1층: `mug cup`\n",
    "#### 선반 2층: `Fanta`, `orange`\n",
    "#### 선반 3층: `chocopie`\n",
    "\n",
    "##### Similarity: [`Color`, `Property`, `Shape`: {Orange - Apple}]"
   ]
  },
  {
   "cell_type": "code",
   "execution_count": null,
   "metadata": {},
   "outputs": [],
   "source": [
    "xml_path = '../../../asset/scene_realworld_w_shelf_category.xml'\n",
    "# xml_path = '../../../asset/scene_realworld_w_shelf_category_ver2.xml'\n",
    "env = MuJoCoParserClass(name='Place task scene: Office table',rel_xml_path=xml_path,VERBOSE=False, MODE='window')\n",
    "print(env.MODE)\n",
    "\n",
    "# Move tables and robot base\n",
    "env.model.body('base_table').pos = np.array([0,0,0])\n",
    "env.model.body('avoiding_object_table').pos = np.array([0.38+0.45,0,0])\n",
    "env.model.body('base').pos = np.array([-18,0,0.79])\n",
    "env.model.body('right_object_table').pos = np.array([-0.05,-0.80,0])\n",
    "env.model.body('left_object_table').pos = np.array([-5,0.80,0])\n",
    "\n",
    "shelf_pos = np.array([0.9,0.0,0.8])\n",
    "env.model.body('shelf_row1').pos = shelf_pos\n",
    "\n",
    "# Place objects\n",
    "tray_pos = shelf_pos + np.array([ 0.05, -0.12, 0.20])\n",
    "env.model.joint(env.model.body('tray').jntadr[0]).qpos0[:3] = np.array([-5,1,1])\n",
    "env.model.joint(env.model.body('tray_gray').jntadr[0]).qpos0[:3] = tray_pos\n",
    "env.model.joint(env.model.body('tray_gray').jntadr[0]).qpos0[3:] = r2quat(rpy2r(np.radians([90, 0, 90])))\n",
    "env.model.joint(env.model.body('ycb-apple-2').jntadr[0]).qpos0[:3] = tray_pos + np.array([-0.05,-0.05,0.05])\n",
    "env.model.joint(env.model.body('ycb-orange-2').jntadr[0]).qpos0[:3] = tray_pos + np.array([-0.05,0.05,0.05])\n",
    "env.model.joint(env.model.body('cider').jntadr[0]).qpos0[:3] = shelf_pos + np.array([-0.05,0.15,0.30])\n",
    "env.model.joint(env.model.body('obj_wine_01').jntadr[0]).qpos0[:3] = np.array([-2,1,1])\n",
    "env.model.joint(env.model.body('fat_wine_glass').jntadr[0]).qpos0[:3] = shelf_pos + np.array([0.0,0.15,0.02])\n",
    "env.model.joint(env.model.body('fat_wine_glass').jntadr[0]).qpos0[3:] = r2quat(rpy2r(np.radians([90, 0, 0])))\n",
    "env.model.joint(env.model.body('mug_cup').jntadr[0]).qpos0[:3] = shelf_pos + np.array([0.0,-0.1,0.03])\n",
    "env.model.joint(env.model.body('mug_cup').jntadr[0]).qpos0[3:] = r2quat(rpy2r(np.radians([0, 0, 90])))\n",
    "\n",
    "env.model.joint(env.model.body('chocopie').jntadr[0]).qpos0[:3] = shelf_pos + np.array([-0.0,0.07,0.5])\n",
    "env.model.joint(env.model.body('chocopie').jntadr[0]).qpos0[3:] = r2quat(rpy2r(np.radians([90, 0, 90])))\n",
    "env.model.joint(env.model.body('pocky').jntadr[0]).qpos0[:3] = shelf_pos + np.array([-0.0,-0.07,0.5])\n",
    "env.model.joint(env.model.body('pocky').jntadr[0]).qpos0[3:] = r2quat(rpy2r(np.radians([-90, 90, 0])))\n",
    "\n",
    "# Target objects\n",
    "env.model.joint(env.model.body('ycb-lemon').jntadr[0]).qpos0[:3] = np.array([0.0, -0.6, 0.8])\n",
    "env.model.joint(env.model.body('ycb-lemon').jntadr[0]).qpos0[3:] = r2quat(rpy2r(np.radians([0, 0, -90])))\n",
    "env.model.joint(env.model.body('orange_can').jntadr[0]).qpos0[:3] = np.array([-0.05,-0.5,0.85])\n",
    "env.model.joint(env.model.body('orange_can').jntadr[0]).qpos0[3:] = r2quat(rpy2r(np.radians([0, 0, 135])))\n",
    "# env.model.joint(env.model.body('obj_orange').jntadr[0]).qpos0[:3] = np.array([0.1,-0.6,0.85])\n",
    "# env.model.joint(env.model.body('fanta_grape').jntadr[0]).qpos0[:3] = np.array([0.1,-0.6,0.85])\n",
    "env.model.joint(env.model.body('pringles').jntadr[0]).qpos0[:3] = np.array([0.2, -0.6, 0.8])\n",
    "env.model.joint(env.model.body('pringles').jntadr[0]).qpos0[3:] = r2quat(rpy2r(np.radians([90, 0, 135])))\n",
    "\n",
    "env.model.joint(env.model.body('ycb-apple').jntadr[0]).qpos0[:3] = np.array([-5,-5,1])\n",
    "env.model.joint(env.model.body('ycb-banana').jntadr[0]).qpos0[:3] = np.array([-5,-5,1])\n",
    "env.model.joint(env.model.body('ycb-orange').jntadr[0]).qpos0[:3] = np.array([-5,-5,1])\n",
    "env.model.joint(env.model.body('kitchen-bowl-red').jntadr[0]).qpos0[:3] = np.array([-5,-5,1])\n",
    "env.model.joint(env.model.body('kitchen-bowl-blue').jntadr[0]).qpos0[:3] = np.array([-5,-5,1])\n",
    "env.model.joint(env.model.body('redbullcan').jntadr[0]).qpos0[:3] = np.array([-5,-5,1])\n",
    "env.model.joint(env.model.body('coke').jntadr[0]).qpos0[:3] = np.array([-5,-5,1])\n"
   ]
  }
 ],
 "metadata": {
  "kernelspec": {
   "display_name": "llm",
   "language": "python",
   "name": "python3"
  },
  "language_info": {
   "codemirror_mode": {
    "name": "ipython",
    "version": 3
   },
   "file_extension": ".py",
   "mimetype": "text/x-python",
   "name": "python",
   "nbconvert_exporter": "python",
   "pygments_lexer": "ipython3",
   "version": "3.8.13"
  },
  "orig_nbformat": 4
 },
 "nbformat": 4,
 "nbformat_minor": 2
}
