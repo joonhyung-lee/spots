{
 "cells": [
  {
   "cell_type": "code",
   "execution_count": 1,
   "metadata": {},
   "outputs": [],
   "source": [
    "import openai\n",
    "openai.api_key = 'your key'  \n",
    "model_name = 'gpt-3.5-turbo'#'text-davinci-002' # CaP uses text-davinci-002\n",
    "\n",
    "class ChatGPT():\n",
    "    def __init__ (self, system_prompt, model_engine='text-davinci-003'):\n",
    "        self.model_engine = model_engine\n",
    "        self.system_prompt = system_prompt\n",
    "        self.msg_history_davinci = self.system_prompt\n",
    "        self.msg_history_turbo = [{\"role\": \"assistant\", \"content\": self.system_prompt}]\n",
    "        self.role = 'user'\n",
    "    \n",
    "    def reset(self):\n",
    "        self.msg_history_turbo = [{\"role\": \"assistant\", \"content\": self.system_prompt}]\n",
    "\n",
    "    def get_answer(self, prompt=None):\n",
    "        if self.model_engine == 'gpt-3.5-turbo':\n",
    "            self.msg_history_turbo.append({\"role\": self.role, \"content\":prompt})\n",
    "            response   = openai.ChatCompletion.create(\n",
    "            model      = self.model_engine,\n",
    "            temperature= 0.0,\n",
    "            messages   = self.msg_history_turbo)\n",
    "            reply_text = response['choices'][0]['message']['content']\n",
    "            self.msg_history_turbo.append({\"role\":\"assistant\", \"content\":reply_text})\n",
    "\n",
    "        elif self.model_engine == 'text-davinci-003': \n",
    "            self.msg_history_davinci += \"You: \"+prompt \n",
    "            response   = openai.Completion.create(\n",
    "            engine     = self.model_engine,\n",
    "            prompt     = self.msg_history_davinci,\n",
    "            max_tokens = 512,\n",
    "            temperature= 1.0,\n",
    "            n          = 1,\n",
    "            #stop       = [\"You:\", \"AI:\"]\n",
    "            )\n",
    "            reply_text = response.choices[0].text.strip().replace('Answer: ', '')\n",
    "            self.msg_history_davinci+=\"\\n\"+\"AI: \"+reply_text+\"\\n\"\n",
    "\n",
    "        elif self.model_engine == 'text-davinci-002': \n",
    "            response   = openai.Completion.create(\n",
    "            engine     = self.model_engine,\n",
    "            prompt     = prompt,\n",
    "            max_tokens = 512,\n",
    "            temperature= 1.0,\n",
    "            n          = 1,\n",
    "            )\n",
    "            reply_text = response['choices'][0]['text'].strip()\n",
    "        return reply_text\n",
    "\n"
   ]
  },
  {
   "cell_type": "code",
   "execution_count": 4,
   "metadata": {},
   "outputs": [],
   "source": [
    "sys_prompt = \"\"\"\n",
    "We have a manipulator and we want you to help plan how it should move to perform tasks using the\n",
    "following APIs:\n",
    "    def end_effector_to(position_obj)\n",
    "position_obj is a list of 3 float numbers [x,y,z]\n",
    "    def end_effector_open()\n",
    "Open the end effector\n",
    "    def get_object_center_position(obj_name)\n",
    "Given an object name, return a list of 3 float numbers [x,y,z] for the object position.\n",
    "    def get_object_size(obj_name)\n",
    "Given an object name, return a list of 3 float numbers [x,y,z] for the object size.\n",
    "    def get_current_position()\n",
    "Return a list of 3 float numbers [x,y,z] for the current position of the end effector.\n",
    "    def normalize_table_position(position_obj)\n",
    "Given a position, return a normalized position that is on the table.\n",
    "    def denormalize_table_position(position_obj)\n",
    "Given a normalized position, return a position that is on the table.\n",
    "    def check_empty(position_obj)\n",
    "Return True if the position is empty, False otherwise.\n",
    "\n",
    "Example answer code:\n",
    "    import numpy as np\n",
    "    # place the object in the shelf_floor_1\n",
    "    object_pos = get_object_center_position('shelf_row1')\n",
    "    object_size = get_object_size('shelf_row1')\n",
    "    range_y = [object_pos[1] - object_size[1] + 0.05 , object_pos[1] + object_size[1]-0.05]\n",
    "    for y in np.linspace(range_y[0], range_y[1], 10):\n",
    "        target_pos = [object_pos[0], y, object_pos[2]-0.01]\n",
    "        empty = check_empty(target_pos)\n",
    "        if empty:\n",
    "            end_effector_to(target_pos)\n",
    "            end_effector_open()\n",
    "            break\n",
    "\n",
    "    # place the object in the shelf_floor_2\n",
    "    object_pos = get_object_center_position('shelf_row1')\n",
    "    object_size = get_object_size('shelf_row2')\n",
    "    range_y = [object_pos[1] - object_size[1] + 0.05 , object_pos[1] + object_size[1] - 0.05]\n",
    "    for y in np.linspace(range_y[0], range_y[1], 10):\n",
    "        target_pos = [object_pos[0], y, object_pos[2]-0.01]\n",
    "        empty = check_empty(target_pos)\n",
    "        if empty:\n",
    "            end_effector_to(target_pos)\n",
    "            end_effector_open()\n",
    "            break\n",
    "\n",
    "    # place the object in the shelf_floor_3\n",
    "    object_pos = get_object_center_position('shelf_row3')\n",
    "    object_size = get_object_size('shelf_row1')\n",
    "    range_y = [object_pos[1] - object_size[1] + 0.05 , object_pos[1] + object_size[1] - 0.05]\n",
    "    for y in np.linspace(range_y[0], range_y[1], 10):\n",
    "        target_pos = [object_pos[0], y, object_pos[2]-0.01]\n",
    "        empty = check_empty(target_pos)\n",
    "        if empty:\n",
    "            end_effector_to(target_pos)\n",
    "            end_effector_open()\n",
    "            break\n",
    "                        \n",
    "    # place the object on the center of the table\n",
    "    target_pos = [0, 0, 0]\n",
    "    target_pos = denormalize_table_position(target_pos)\n",
    "    end_effector_to(target_pos)\n",
    "    end_effector_open()\n",
    "\n",
    "Remember:\n",
    "1. Always format the code in code blocks.\n",
    "2. Do not invent new functions or classes. The only allowed functions you can call are the ones listed\n",
    "above. Do not leave unimplemented code blocks in your response.\n",
    "3. The only allowed library is numpy. Do not import or use any other library.\n",
    "4. If you are not sure what value to use, just use your best judge. Do not use None for anything.\n",
    "5. You do not need to make the robot do extra things not mentioned in the plan such as stopping the\n",
    "robot.\n",
    "6. Try your best to generate code despite the lack of context.\n",
    "\"\"\"\n",
    "llm = ChatGPT(sys_prompt, model_engine=model_name)\n",
    "llm.reset()\n"
   ]
  },
  {
   "cell_type": "code",
   "execution_count": 5,
   "metadata": {},
   "outputs": [
    {
     "name": "stdout",
     "output_type": "stream",
     "text": [
      "MuJoCo version:[2.3.7]\n"
     ]
    }
   ],
   "source": [
    "import mujoco#,cv2,pyvista\n",
    "import numpy as np\n",
    "import matplotlib.pyplot as plt\n",
    "import sys\n",
    "sys.path.append('../../../')\n",
    "from utils.mujoco_parser import MuJoCoParserClass\n",
    "from utils.util import sample_xyzs,rpy2r,r2rpy,r2quat,compute_view_params,get_interp_const_vel_traj, printmd\n",
    "np.set_printoptions(precision=2,suppress=True,linewidth=100)\n",
    "plt.rc('xtick',labelsize=6); plt.rc('ytick',labelsize=6)\n",
    "%config InlineBackend.figure_format = 'retina'\n",
    "%matplotlib inline\n",
    "print (\"MuJoCo version:[%s]\"%(mujoco.__version__))"
   ]
  },
  {
   "cell_type": "code",
   "execution_count": 6,
   "metadata": {},
   "outputs": [
    {
     "name": "stdout",
     "output_type": "stream",
     "text": [
      "window\n"
     ]
    }
   ],
   "source": [
    "xml_path = '../../../asset/scene_realworld_w_shelf_category.xml'\n",
    "# xml_path = '../../../asset/scene_realworld_w_shelf_category_ver2.xml'\n",
    "env = MuJoCoParserClass(name='Place task scene: Office table',rel_xml_path=xml_path,VERBOSE=False, MODE='window')\n",
    "print(env.MODE)\n",
    "\n",
    "# Move tables and robot base\n",
    "env.model.body('base_table').pos = np.array([0,0,0])\n",
    "env.model.body('avoiding_object_table').pos = np.array([0.38+0.45,0,0])\n",
    "env.model.body('base').pos = np.array([-18,0,0.79])\n",
    "env.model.body('right_object_table').pos = np.array([-0.05,-0.80,0])\n",
    "env.model.body('left_object_table').pos = np.array([-5,0.80,0])\n",
    "\n",
    "shelf_pos = np.array([0.9,0.0,0.8])\n",
    "env.model.body('shelf_row1').pos = shelf_pos\n",
    "\n",
    "# Place objects\n",
    "tray_pos = shelf_pos + np.array([ 0.05, -0.12, 0.20])\n",
    "env.model.joint(env.model.body('tray_gray').jntadr[0]).qpos0[:3] = tray_pos\n",
    "env.model.joint(env.model.body('tray_gray').jntadr[0]).qpos0[3:] = r2quat(rpy2r(np.radians([90, 0, 90])))\n",
    "env.model.joint(env.model.body('ycb-apple-2').jntadr[0]).qpos0[:3] = tray_pos + np.array([-0.05,-0.05,0.05])\n",
    "env.model.joint(env.model.body('cider').jntadr[0]).qpos0[:3] = shelf_pos + np.array([-0.05,0.15,0.30])\n",
    "env.model.joint(env.model.body('mug_cup').jntadr[0]).qpos0[:3] = shelf_pos + np.array([0.0,-0.1,0.03])\n",
    "env.model.joint(env.model.body('mug_cup').jntadr[0]).qpos0[3:] = r2quat(rpy2r(np.radians([0, 0, 90])))\n",
    "env.model.joint(env.model.body('pocky').jntadr[0]).qpos0[:3] = shelf_pos + np.array([-0.0,-0.07,0.5])\n",
    "env.model.joint(env.model.body('pocky').jntadr[0]).qpos0[3:] = r2quat(rpy2r(np.radians([-90, 90, 0])))\n",
    "\n",
    "\n",
    "# Do Not use\n",
    "env.model.joint(env.model.body('obj_wine_01').jntadr[0]).qpos0[:3] = np.array([-20,1,1])\n",
    "env.model.joint(env.model.body('fat_wine_glass').jntadr[0]).qpos0[:3] = shelf_pos + np.array([-10.0,0.15,0.02])\n",
    "env.model.joint(env.model.body('fat_wine_glass').jntadr[0]).qpos0[3:] = r2quat(rpy2r(np.radians([90, 0, 0])))\n",
    "env.model.joint(env.model.body('tray').jntadr[0]).qpos0[:3] = np.array([-5,1,1])\n",
    "env.model.joint(env.model.body('ycb-orange-2').jntadr[0]).qpos0[:3] = tray_pos + np.array([-50,0.05,0.05])\n",
    "env.model.joint(env.model.body('chocopie').jntadr[0]).qpos0[:3] = shelf_pos + np.array([-50.0,0.07,0.5])\n",
    "env.model.joint(env.model.body('chocopie').jntadr[0]).qpos0[3:] = r2quat(rpy2r(np.radians([90, 0, 90])))\n",
    "env.model.joint(env.model.body('ycb-lemon').jntadr[0]).qpos0[:3] = np.array([-10.0, -0.6, 0.8])\n",
    "env.model.joint(env.model.body('ycb-lemon').jntadr[0]).qpos0[3:] = r2quat(rpy2r(np.radians([0, 0, -90])))\n",
    "env.model.joint(env.model.body('orange_can').jntadr[0]).qpos0[:3] = np.array([-10.05,-0.5,0.85])\n",
    "env.model.joint(env.model.body('orange_can').jntadr[0]).qpos0[3:] = r2quat(rpy2r(np.radians([0, 0, 135])))\n",
    "env.model.joint(env.model.body('ycb-apple').jntadr[0]).qpos0[:3] = np.array([-5,-5,1])\n",
    "env.model.joint(env.model.body('ycb-banana').jntadr[0]).qpos0[:3] = np.array([-5,-5,1])\n",
    "env.model.joint(env.model.body('ycb-orange').jntadr[0]).qpos0[:3] = np.array([-5,-5,1])\n",
    "env.model.joint(env.model.body('kitchen-bowl-red').jntadr[0]).qpos0[:3] = np.array([-5,-5,1])\n",
    "env.model.joint(env.model.body('kitchen-bowl-blue').jntadr[0]).qpos0[:3] = np.array([-5,-5,1])\n",
    "env.model.joint(env.model.body('redbullcan').jntadr[0]).qpos0[:3] = np.array([-5,-5,1])\n",
    "env.model.joint(env.model.body('coke').jntadr[0]).qpos0[:3] = np.array([-5,-5,1])\n",
    "\n",
    "\n",
    "# Target objects\n",
    "env.model.joint(env.model.body('pringles').jntadr[0]).qpos0[:3] = np.array([0.2, -0.6, 0.8])\n",
    "env.model.joint(env.model.body('pringles').jntadr[0]).qpos0[3:] = r2quat(rpy2r(np.radians([90, 0, 135])))"
   ]
  },
  {
   "cell_type": "code",
   "execution_count": 7,
   "metadata": {},
   "outputs": [],
   "source": [
    "env.open_interactive_viewer()"
   ]
  },
  {
   "cell_type": "code",
   "execution_count": 12,
   "metadata": {},
   "outputs": [],
   "source": [
    "object_info_dict = dict()\n",
    "shelf_size = [0.243, 0.11, 0.005]\n",
    "tray_size = [0.11, 0.15, 0.01]\n",
    "apple_size = [0.04, 0.04, 0.04]\n",
    "cider_size = [0.03, 0.03, 0.07]\n",
    "pocky_size = [0.01, 0.04, 0.08]\n",
    "glass_size = [0.03, 0.03, 0.07]\n",
    "table_size   = env.model.geom_aabb[env.model.body('avoiding_object_table').geomadr][0][3:]\n",
    "\n",
    "object_info_dict['avoiding_object_table'] = {'name':\"table\", 'size': table_size, 'position': [0.38+0.45, 0., 0.8], 'rotation':[0., 0., 0.]}\n"
   ]
  },
  {
   "cell_type": "code",
   "execution_count": 13,
   "metadata": {},
   "outputs": [],
   "source": [
    "import math\n",
    "def quat2r(x, y, z, w):\n",
    "        \"\"\"\n",
    "        Convert a quaternion into euler angles (roll, pitch, yaw)\n",
    "        roll is rotation around x in radians (counterclockwise)\n",
    "        pitch is rotation around y in radians (counterclockwise)\n",
    "        yaw is rotation around z in radians (counterclockwise)\n",
    "        \"\"\"\n",
    "        t0 = +2.0 * (w * x + y * z)\n",
    "        t1 = +1.0 - 2.0 * (x * x + y * y)\n",
    "        roll_x = math.atan2(t0, t1)\n",
    "     \n",
    "        t2 = +2.0 * (w * y - z * x)\n",
    "        t2 = +1.0 if t2 > +1.0 else t2\n",
    "        t2 = -1.0 if t2 < -1.0 else t2\n",
    "        pitch_y = math.asin(t2)\n",
    "     \n",
    "        t3 = +2.0 * (w * z + x * y)\n",
    "        t4 = +1.0 - 2.0 * (y * y + z * z)\n",
    "        yaw_z = math.atan2(t3, t4)\n",
    "        return roll_x, pitch_y, yaw_z"
   ]
  },
  {
   "cell_type": "code",
   "execution_count": 14,
   "metadata": {},
   "outputs": [],
   "source": [
    "from utils.util import r2quat\n",
    "\n",
    "seen_obj_names = []\n",
    "for body_name in env.body_names:\n",
    "    if 'mug' in body_name:\n",
    "        seen_obj_names.append(body_name)\n",
    "        object_info_dict[body_name] = {'name':\"mug\", 'size': glass_size, 'position': env.get_p_body(body_name), 'rotation': env.get_R_body(body_name)}\n",
    "    elif 'cider' in body_name:\n",
    "        seen_obj_names.append(body_name)\n",
    "        object_info_dict[body_name] = {'name':\"cider\", 'size': cider_size, 'position': env.get_p_body(body_name), 'rotation':env.get_R_body(body_name)}\n",
    "    elif 'shelf' in body_name:\n",
    "        seen_obj_names.append(body_name)\n",
    "        object_info_dict[body_name] = {'name':\"shelf\", 'size': shelf_size, 'position': env.get_p_body(body_name), 'rotation':env.get_R_body(body_name)}\n",
    "    elif 'tray' in body_name:\n",
    "        seen_obj_names.append(body_name)\n",
    "        object_info_dict[body_name] = {'name':\"tray\", 'size': tray_size, 'position': env.get_p_body(body_name), 'rotation':env.get_R_body(body_name)}\n",
    "    elif 'apple' in body_name:\n",
    "        seen_obj_names.append(body_name)\n",
    "        object_info_dict[body_name] = {'name':\"apple\", 'size': apple_size, 'position': env.get_p_body(body_name), 'rotation':env.get_R_body(body_name)}\n",
    "    elif 'pocky' in body_name:\n",
    "        seen_obj_names.append(body_name)\n",
    "        object_info_dict[body_name] = {'name':\"pocky\", 'size': pocky_size, 'position': env.get_p_body(body_name), 'rotation':env.get_R_body(body_name)}\n",
    "    "
   ]
  },
  {
   "cell_type": "markdown",
   "metadata": {},
   "source": [
    "## LLM"
   ]
  },
  {
   "cell_type": "code",
   "execution_count": 15,
   "metadata": {},
   "outputs": [
    {
     "name": "stdout",
     "output_type": "stream",
     "text": [
      "#     Let me know which level of shelf is suitable to place it? Only you can say the region.     I want to place the {target_object_name[2]} with the same color. Say where is the best fit placement region?     In the first level shelf: [pocky]     In thw second level shelf: [cider, apple]     In the third level shelf: [mug cup]seen_objects = ['mug_cup', 'tray', 'tray_gray', 'cider', 'pocky', 'ycb-apple', 'ycb-apple-2', 'shelf_row1', 'shelf_row2', 'shelf_row3', 'shelf_column1', 'shelf_column1_rear', 'shelf_column2', 'shelf_column2_rear', 'shelf_back']\n",
      "\n"
     ]
    }
   ],
   "source": [
    "prompt = \"#     Let me know which level of shelf is suitable to place it? Only you can say the region. \\\n",
    "    I want to place the {target_object_name[2]} with the same color. Say where is the best fit placement region? \\\n",
    "    In the first level shelf: [pocky] \\\n",
    "    In thw second level shelf: [cider, apple] \\\n",
    "    In the third level shelf: [mug cup]\"\n",
    "prompt += \"seen_objects = \"+str(seen_obj_names)+\"\\n\"\n",
    "print(prompt)\n",
    "code = llm.get_answer(prompt=prompt)"
   ]
  },
  {
   "cell_type": "code",
   "execution_count": 16,
   "metadata": {},
   "outputs": [
    {
     "name": "stdout",
     "output_type": "stream",
     "text": [
      "To determine the best fit placement region for the target object, we need to consider the following:\n",
      "\n",
      "1. First Level Shelf: [pocky]\n",
      "   - This shelf is suitable for placing the object \"pocky\" with the same color.\n",
      "\n",
      "2. Second Level Shelf: [cider, apple]\n",
      "   - This shelf is suitable for placing the objects \"cider\" and \"apple\" with the same color.\n",
      "\n",
      "3. Third Level Shelf: [mug cup]\n",
      "   - This shelf is suitable for placing the object \"mug cup\" with the same color.\n",
      "\n",
      "Based on the given information, we can determine the best fit placement region for the target object.\n"
     ]
    }
   ],
   "source": [
    "print(code)"
   ]
  },
  {
   "cell_type": "code",
   "execution_count": 17,
   "metadata": {},
   "outputs": [],
   "source": [
    "'''\n",
    "define functions\n",
    "'''\n",
    "def end_effector_to(position_obj):\n",
    "    target_obj_name = 'book1'\n",
    "    target_obj_jntadr = env.model.body(target_obj_name).jntadr[0]\n",
    "    target_obj_qposadr = env.model.jnt_qposadr[target_obj_jntadr]\n",
    "    env.data.qpos[target_obj_qposadr:target_obj_qposadr+3] = position_obj\n",
    "    # TODO check rotation here\n",
    "    env.data.qpos[target_obj_qposadr+3:target_obj_qposadr+7] = r2quat(rpy2r(np.radians([0, 0, 0])))\n",
    "    print(\"Move the end effector to {}\".format(position_obj))\n",
    "    #position_obj is a list of 3 float numbers [x,y,z]\n",
    "\n",
    "def end_effector_open():\n",
    "    #Open the end effector\n",
    "    pass\n",
    "def get_object_center_position(obj_name):\n",
    "    #Given an object name, return a list of 3 float numbers [x,y,z] for the object position.\n",
    "    for obj in object_info_dict:\n",
    "        if object_info_dict[obj]['name'] == obj_name or obj == obj_name:\n",
    "            return object_info_dict[obj]['position']\n",
    "    \n",
    "    print(\"Object {} not found\".format(obj_name))\n",
    "    current_pos = get_current_position()\n",
    "    return current_pos\n",
    "    \n",
    "def get_object_size(obj_name):\n",
    "    # Given an object name, return a list of 3 float numbers [x,y,z] for the object size.\n",
    "    for obj in object_info_dict:\n",
    "        if object_info_dict[obj]['name'] == obj_name or obj == obj_name:\n",
    "            print(\"Object {} found\".format(obj_name))\n",
    "            return object_info_dict[obj]['size']\n",
    "    return [0.0,0.0,0.0]  \n",
    "def get_current_position():\n",
    "    # Return a list of 3 float numbers [x,y,z] for the current position of the end effector.\n",
    "    p_tcp,R_tcp = env.get_pR_body(body_name='tcp_link')\n",
    "    return p_tcp\n",
    "\n",
    "def normalize_table_position(position_obj):\n",
    "    #Given a position, return a normalized position that is on the table.\n",
    "    table_size = object_info_dict['avoiding_object_table']['size']#env.model.geom_aabb[env.model.body('base_table').geomadr][0][3:]\n",
    "    table_pos =object_info_dict['avoiding_object_table']['position'] #env.model.body('base_table').pos\n",
    "    normalized_pos = (position_obj - table_pos) / (table_size)\n",
    "    return normalized_pos\n",
    "def denormalize_table_position(position_obj):\n",
    "    #Given a normalized position (0-1), return a position that is on the table.\n",
    "    table_size = object_info_dict['avoiding_object_table']['size']#env.model.geom_aabb[env.model.body('base_table').geomadr][0][3:]\n",
    "    table_pos =object_info_dict['avoiding_object_table']['position'] #env.model.body('base_table').pos\n",
    "    denormalized_pos = position_obj * (table_size)+ table_pos\n",
    "    denormalized_pos[0] = 0.5\n",
    "    return denormalized_pos\n",
    "\n",
    "def check_empty(position_obj):\n",
    "    # Return True if the position is empty, False otherwise.\n",
    "    for obj in object_info_dict:\n",
    "        obj_pos = object_info_dict[obj]['position']\n",
    "        obj_pos = np.array(obj_pos)\n",
    "        if np.linalg.norm(obj_pos - position_obj) < 0.05:\n",
    "            return False\n",
    "    return True"
   ]
  },
  {
   "cell_type": "code",
   "execution_count": 18,
   "metadata": {},
   "outputs": [],
   "source": [
    "code_in = \"seen_objects = \"+str(seen_obj_names)+\"\\n\"\n",
    "code_in += '\\n' + code"
   ]
  },
  {
   "cell_type": "code",
   "execution_count": 20,
   "metadata": {},
   "outputs": [
    {
     "data": {
      "text/markdown": [
       "seen_objects = ['mug_cup', 'tray', 'tray_gray', 'cider', 'pocky', 'ycb-apple', 'ycb-apple-2', 'shelf_row1', 'shelf_row2', 'shelf_row3', 'shelf_column1', 'shelf_column1_rear', 'shelf_column2', 'shelf_column2_rear', 'shelf_back']\n",
       "\n",
       "To determine the best fit placement region for the target object, we need to consider the following:\n",
       "\n",
       "1. First Level Shelf: [pocky]\n",
       "   - This shelf is suitable for placing the object \"pocky\" with the same color.\n",
       "\n",
       "2. Second Level Shelf: [cider, apple]\n",
       "   - This shelf is suitable for placing the objects \"cider\" and \"apple\" with the same color.\n",
       "\n",
       "3. Third Level Shelf: [mug cup]\n",
       "   - This shelf is suitable for placing the object \"mug cup\" with the same color.\n",
       "\n",
       "Based on the given information, we can determine the best fit placement region for the target object."
      ],
      "text/plain": [
       "<IPython.core.display.Markdown object>"
      ]
     },
     "metadata": {},
     "output_type": "display_data"
    },
    {
     "ename": "",
     "evalue": "",
     "output_type": "error",
     "traceback": [
      "\u001b[1;31mThe Kernel crashed while executing code in the the current cell or a previous cell. Please review the code in the cell(s) to identify a possible cause of the failure. Click <a href='https://aka.ms/vscodeJupyterKernelCrash'>here</a> for more info. View Jupyter <a href='command:jupyter.viewOutput'>log</a> for further details."
     ]
    }
   ],
   "source": [
    "printmd(code_in)"
   ]
  },
  {
   "cell_type": "markdown",
   "metadata": {},
   "source": [
    "## Excecute"
   ]
  },
  {
   "cell_type": "code",
   "execution_count": 19,
   "metadata": {},
   "outputs": [
    {
     "ename": "SyntaxError",
     "evalue": "invalid syntax (<string>, line 3)",
     "output_type": "error",
     "traceback": [
      "Traceback \u001b[0;36m(most recent call last)\u001b[0m:\n",
      "\u001b[0m  File \u001b[1;32m~/.pyenv/versions/3.8.13/envs/llm/lib/python3.8/site-packages/IPython/core/interactiveshell.py:3508\u001b[0m in \u001b[1;35mrun_code\u001b[0m\n    exec(code_obj, self.user_global_ns, self.user_ns)\u001b[0m\n",
      "\u001b[0;36m  Cell \u001b[0;32mIn[19], line 11\u001b[0;36m\n\u001b[0;31m    exec(code_in)\u001b[0;36m\n",
      "\u001b[0;36m  File \u001b[0;32m<string>:3\u001b[0;36m\u001b[0m\n\u001b[0;31m    To determine the best fit placement region for the target object, we need to consider the following:\u001b[0m\n\u001b[0m       ^\u001b[0m\n\u001b[0;31mSyntaxError\u001b[0m\u001b[0;31m:\u001b[0m invalid syntax\n"
     ]
    }
   ],
   "source": [
    "# Init viewer\n",
    "env.init_viewer(viewer_title='UR5e with RG2 gripper',viewer_width=1200,viewer_height=800,\n",
    "                viewer_hide_menus=True, MODE='window')\n",
    "env.update_viewer(azimuth=30,distance=3.0,elevation=-30,lookat=[1.0,0.0,0.71],\n",
    "                  VIS_TRANSPARENT=False,VIS_CONTACTPOINT=False,\n",
    "                  contactwidth=0.05,contactheight=0.05,contactrgba=np.array([1,0,0,1]),\n",
    "                  VIS_JOINT=False,jointlength=0.25,jointwidth=0.05,jointrgba=[0.2,0.6,0.8,0.6])\n",
    "\n",
    "pcd_tick = 0\n",
    "env.reset()\n",
    "exec(code_in)\n",
    "init_ur_q = np.array([np.deg2rad(-90), np.deg2rad(-130), np.deg2rad(120), np.deg2rad(100), np.deg2rad(45), np.deg2rad(-90)])\n",
    "env.forward(q=init_ur_q, joint_idxs=env.idxs_forward)\n",
    "initial_xyz = env.get_p_body('tcp_link')\n",
    "print(env.get_p_body('tcp_link'))\n",
    "\n",
    "tick,max_sec = 0,1000\n",
    "while env.get_sim_time() <= max_sec:\n",
    "    env.step(ctrl=init_ur_q,ctrl_idxs=env.idxs_step)\n",
    "    if not env.is_viewer_alive(): break\n",
    "\n",
    "    # Render\n",
    "    if env.loop_every(HZ=200):\n",
    "        # Compute some poses\n",
    "        p_tcp,R_tcp = env.get_pR_body(body_name='tcp_link')\n",
    "        p_cam,R_cam = env.get_pR_body(body_name='camera_center')\n",
    "        p_base,R_base = env.get_pR_body(body_name='base')\n",
    "        # Get PCD from a specific view\n",
    "        p_ego  = p_cam\n",
    "        p_trgt = p_cam + R_cam[:,2] + np.array([0,0,-0.1])\n",
    "        rgb_img,depth_img,pcd,xyz_img = env.get_egocentric_rgb_depth_pcd(\n",
    "            p_ego=p_ego,p_trgt=p_trgt,rsz_rate=40,fovy=45,BACKUP_AND_RESTORE_VIEW=True)\n",
    "        env.render(render_every=1)\n",
    "\n",
    "plt.imshow(rgb_img); plt.axis('off'); plt.show()\n",
    "plt.imshow(depth_img); plt.axis('off'); plt.show()\n",
    "\n",
    "# Close viewer\n",
    "env.close_viewer()\n",
    "print (\"Done. Tick:[%d] Time:[%.2f]sec\"%(env.tick,env.get_sim_time()))"
   ]
  },
  {
   "cell_type": "code",
   "execution_count": null,
   "metadata": {},
   "outputs": [],
   "source": []
  },
  {
   "cell_type": "code",
   "execution_count": null,
   "metadata": {},
   "outputs": [],
   "source": []
  }
 ],
 "metadata": {
  "kernelspec": {
   "display_name": "llm",
   "language": "python",
   "name": "python3"
  },
  "language_info": {
   "codemirror_mode": {
    "name": "ipython",
    "version": 3
   },
   "file_extension": ".py",
   "mimetype": "text/x-python",
   "name": "python",
   "nbconvert_exporter": "python",
   "pygments_lexer": "ipython3",
   "version": "3.8.13"
  },
  "orig_nbformat": 4
 },
 "nbformat": 4,
 "nbformat_minor": 2
}
