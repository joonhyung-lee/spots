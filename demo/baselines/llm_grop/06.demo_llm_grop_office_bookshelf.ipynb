{
 "cells": [
  {
   "cell_type": "code",
   "execution_count": 1,
   "metadata": {},
   "outputs": [
    {
     "name": "stdout",
     "output_type": "stream",
     "text": [
      "Done.\n"
     ]
    }
   ],
   "source": [
    "import openai \n",
    "import os \n",
    "import random \n",
    "random.seed(42)\n",
    "\n",
    "def gauss_2d(mu, sigma=0.01):\n",
    "    x = random.gauss(mu[0], sigma)\n",
    "    y = random.gauss(mu[1], sigma)\n",
    "    return (x, y)\n",
    "\n",
    "openai.api_key = 'your key'  \n",
    "models = openai.Model.list()\n",
    "# for model in models['data']:\n",
    "#     print(model['id'])\n",
    "print(\"Done.\")"
   ]
  },
  {
   "cell_type": "markdown",
   "metadata": {},
   "source": [
    "### LLM-GROP \n",
    "LLM-GROP is a task planner based on large language model, such as ChatGPT.   \n",
    "\n",
    "Specifically, they experiment a table setting task which is required to know the place position of the object.\n",
    "\n",
    "There are two examples about it \n",
    "\n",
    "\n",
    "[Template 1: $\\bold{Symbolic \\ Spatial \\ Reasoning}$] \n",
    "\n",
    "The goal is to set a dining table with objects. \n",
    "\n",
    "The symbolic spatial relationship between objects includes [spatial relationships].\n",
    "\n",
    "[examples: a fork and a knife are placed on the left and right respectively]. \n",
    "\n",
    "What is a typical way of positioning [objects] on a table? \n",
    "\n",
    "[notes]\n",
    "\n",
    "\n",
    "\n",
    "\n",
    "[Template 2: $\\bold{Geometric \\ Spatial\\  Reasoning}$] \n",
    "\n",
    "[object A] is placed [spatial relationship] [object B]. \n",
    "\n",
    "How many centimeters [spatial relationship] [object B] should [object A] be placed?\n"
   ]
  },
  {
   "cell_type": "markdown",
   "metadata": {},
   "source": [
    "First, this method gets a proper object position from LLM follwoing the above prompt.\n",
    "\n",
    "Then, they use this position as a mean of a distribution to use it as a sample distribution."
   ]
  },
  {
   "cell_type": "markdown",
   "metadata": {},
   "source": [
    "### Symbolic Spatial Reasoning  \n",
    "The goai is to place a dish in the kitchen. \n",
    "\n",
    "\n",
    "The symbolic spatial relationship betwen objects includes, a dish is suitable to be placed on a dish rack\n",
    "\n",
    "\n",
    "What is a typical way of positioning a disth on a dish rack?\n",
    "\n",
    "### Geometric Spatial Reasoning \n",
    "Other dishes are placed next to the red dish on the dish rack, \n",
    "\n",
    "How many centimeters red dish should other dishes be placed? \n"
   ]
  },
  {
   "cell_type": "code",
   "execution_count": 4,
   "metadata": {},
   "outputs": [
    {
     "name": "stdout",
     "output_type": "stream",
     "text": [
      "Answer:  \n",
      "I would choose a 3-tier bookshelf, so that the book would be placed at {x:0.8, y:0.0, z:1.6}m.\n"
     ]
    }
   ],
   "source": [
    "engine = \"text-davinci-003\"\n",
    "prompt = '''\n",
    "The goal is to place a book in a 3-tier bookshelf.\n",
    "In terms of the symbolic spatial relationship between objects,\n",
    "a book is suitable for placement on a bookshelf.\n",
    "The bookshelf position is {x:0.8, y:0.0, z:0.8}\n",
    "Each tier is width 0.8m and height 0.5m.\n",
    "A book size is {x:0.2, y:0.08, z:0.1}m.\n",
    "In 1-tier bookshelf, books are placed at {x:0.8, y:0.0, z:0.8}m, {x:0.8, y:0.0, z:0.8}, {x:0.8, y:0.0, z:0.8}, and {x:0.8, y:0.0, z:0.8}.\n",
    "In 2-tier bookshelf, books are placed at {x:0.8, y:0.0, z:1.2}m, {x:0.8, y:0.0, z:1.2}, {x:0.8, y:0.0, z:1.2}, and {x:0.8, y:0.0, z:1.2}.\n",
    "In 3-tier bookshelf, books are placed at {x:0.8, y:0.0, z:1.6}m, {x:0.8, y:0.0, z:1.6}, {x:0.8, y:0.0, z:1.6}, and {x:0.8, y:0.0, z:1.6}.\n",
    "Choose a tier number where you want to place the book.\n",
    "'''\n",
    "\n",
    "response = openai.Completion.create(engine='text-davinci-003',\n",
    "                                   prompt=prompt,\n",
    "                                   max_tokens = 512,\n",
    "                                   temperature =1.0)\n",
    "print(\"Answer: \", response[\"choices\"][0]['text'])"
   ]
  },
  {
   "cell_type": "code",
   "execution_count": 5,
   "metadata": {},
   "outputs": [
    {
     "name": "stdout",
     "output_type": "stream",
     "text": [
      "Answer:  \n",
      "The book should be placed 20 cm from each edge of the shelf. This means it should be placed at 10 cm, 30 cm, 50 cm, and 70 cm from the edge of the shelf.\n"
     ]
    }
   ],
   "source": [
    "engine = \"text-davinci-003\"\n",
    "prompt = '''\n",
    "The goal is to place a book in a 3-tier bookshelf.\n",
    "In terms of the symbolic spatial relationship between objects,\n",
    "a book is suitable for placement on a bookshelf.\n",
    "The bookshelf position is {x:0.8, y:0.0, z:0.8}\n",
    "Each tier is width 0.8m and height 0.5m.\n",
    "A book size is {x:0.2, y:0.08, z:0.1}m.\n",
    "You want to place the book in the 3-tier bookshelf.\n",
    "In 3-tier bookshelf, books are placed at {x:0.8, y:0.0, z:1.6}m, {x:0.8, y:0.0, z:1.6}, {x:0.8, y:0.0, z:1.6}, and {x:0.8, y:0.0, z:1.6}.\n",
    "How many centimeters a book should books in 3-tier be placed?\n",
    "\n",
    "'''\n",
    "\n",
    "response = openai.Completion.create(engine='text-davinci-003',\n",
    "                                   prompt=prompt,\n",
    "                                   max_tokens = 512,\n",
    "                                   temperature =1.0)\n",
    "print(\"Answer: \", response[\"choices\"][0]['text'])"
   ]
  },
  {
   "cell_type": "code",
   "execution_count": null,
   "metadata": {},
   "outputs": [],
   "source": [
    "for i in range(10):\n",
    "    res = gauss_2d([0.8, 0.14],0.03)\n",
    "    print(\"{}. Result: {}\".format(i+1,res))"
   ]
  }
 ],
 "metadata": {
  "kernelspec": {
   "display_name": "Python 3",
   "language": "python",
   "name": "python3"
  },
  "language_info": {
   "codemirror_mode": {
    "name": "ipython",
    "version": 3
   },
   "file_extension": ".py",
   "mimetype": "text/x-python",
   "name": "python",
   "nbconvert_exporter": "python",
   "pygments_lexer": "ipython3",
   "version": "3.8.8"
  },
  "orig_nbformat": 4
 },
 "nbformat": 4,
 "nbformat_minor": 2
}
