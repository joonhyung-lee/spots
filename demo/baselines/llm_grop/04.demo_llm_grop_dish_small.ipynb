{
 "cells": [
  {
   "cell_type": "code",
   "execution_count": 1,
   "metadata": {},
   "outputs": [
    {
     "name": "stdout",
     "output_type": "stream",
     "text": [
      "Done.\n"
     ]
    }
   ],
   "source": [
    "import openai \n",
    "import os \n",
    "import random \n",
    "random.seed(42)\n",
    "\n",
    "def gauss_2d(mu, sigma=0.01):\n",
    "    x = random.gauss(mu[0], sigma)\n",
    "    y = random.gauss(mu[1], sigma)\n",
    "    return (x, y)\n",
    "\n",
    "openai.api_key = 'your key'  \n",
    "models = openai.Model.list()\n",
    "# for model in models['data']:\n",
    "#     print(model['id'])\n",
    "print(\"Done.\")"
   ]
  },
  {
   "cell_type": "markdown",
   "metadata": {},
   "source": [
    "### LLM-GROP \n",
    "LLM-GROP is a task planner based on large language model, such as ChatGPT.   \n",
    "\n",
    "Specifically, they experiment a table setting task which is required to know the place position of the object.\n",
    "\n",
    "There are two examples about it \n",
    "\n",
    "\n",
    "[Template 1: $\\bold{Symbolic \\ Spatial \\ Reasoning}$] \n",
    "\n",
    "The goal is to set a dining table with objects. \n",
    "\n",
    "The symbolic spatial relationship between objects includes [spatial relationships].\n",
    "\n",
    "[examples: a fork and a knife are placed on the left and right respectively]. \n",
    "\n",
    "What is a typical way of positioning [objects] on a table? \n",
    "\n",
    "[notes]\n",
    "\n",
    "\n",
    "\n",
    "\n",
    "[Template 2: $\\bold{Geometric \\ Spatial\\  Reasoning}$] \n",
    "\n",
    "[object A] is placed [spatial relationship] [object B]. \n",
    "\n",
    "How many centimeters [spatial relationship] [object B] should [object A] be placed?\n"
   ]
  },
  {
   "cell_type": "markdown",
   "metadata": {},
   "source": [
    "First, this method gets a proper object position from LLM follwoing the above prompt.\n",
    "\n",
    "Then, they use this position as a mean of a distribution to use it as a sample distribution."
   ]
  },
  {
   "cell_type": "markdown",
   "metadata": {},
   "source": [
    "### Symbolic Spatial Reasoning  \n",
    "The goai is to place a dish in the kitchen. \n",
    "\n",
    "\n",
    "The symbolic spatial relationship betwen objects includes, a dish is suitable to be placed on a dish rack\n",
    "\n",
    "\n",
    "What is a typical way of positioning a disth on a dish rack?\n",
    "\n",
    "### Geometric Spatial Reasoning \n",
    "Other dishes are placed next to the red dish on the dish rack, \n",
    "\n",
    "How many centimeters red dish should other dishes be placed? \n"
   ]
  },
  {
   "cell_type": "markdown",
   "metadata": {},
   "source": [
    "### 1. Position Rand"
   ]
  },
  {
   "cell_type": "code",
   "execution_count": 4,
   "metadata": {},
   "outputs": [
    {
     "name": "stdout",
     "output_type": "stream",
     "text": [
      "Answer:  \n",
      "The plate should be placed around 8.5 cm apart from other plates. This is because the x-axis of the plate is 0.14m and the x-axis of the dish rack is 0.12m. As such the difference between the two is 0.02m, and this is equivalent to 8.5 cm.\n"
     ]
    }
   ],
   "source": [
    "engine = \"text-davinci-003\"\n",
    "prompt = '''\n",
    "The goal is to place a plate in the kitchen. \n",
    "In terms of the symbolic spatial relationship between objects, \n",
    "a plate is suitable for placement on a dish rack. \n",
    "The rack has slots aligned along the y-axis\n",
    "\n",
    "The plate size is {x:0.14, y:0.02, z:0.14}m.\n",
    "The dish rack size is {x:0.12, y:0.225, z:0.085}m.\n",
    "Some plates are placed in a rack where the coordinate is {x: 0.8, y:0.1, z:0.82}m, \n",
    "How many centimeters a plate should other plates be placed?\n",
    "'''\n",
    "\n",
    "response = openai.Completion.create(engine='text-davinci-003',\n",
    "                                   prompt=prompt,\n",
    "                                   max_tokens = 512,\n",
    "                                   temperature =1.0)\n",
    "print(\"Answer: \", response[\"choices\"][0]['text'])"
   ]
  },
  {
   "cell_type": "code",
   "execution_count": 3,
   "metadata": {},
   "outputs": [
    {
     "name": "stdout",
     "output_type": "stream",
     "text": [
      "1. Result: (0.7966605241529702, 0.1610595117529659)\n",
      "2. Result: (0.7961723514865134, 0.0950793975697713)\n",
      "3. Result: (0.8099695503220316, 0.13197987564508495)\n",
      "4. Result: (0.7934912394756442, 0.14347654360102566)\n",
      "5. Result: (0.8069689321072017, 0.1749067605979743)\n",
      "6. Result: (0.8196990952039601, 0.14331521532331498)\n",
      "7. Result: (0.7778503519296555, 0.1095601289753685)\n",
      "8. Result: (0.8073902658563361, 0.17933242481612147)\n",
      "9. Result: (0.8012497059171015, 0.13681030118687648)\n",
      "10. Result: (0.8159532866120262, 0.09639364105973967)\n"
     ]
    }
   ],
   "source": [
    "for i in range(10):\n",
    "    res = gauss_2d([0.8, 0.14],0.03)\n",
    "    print(\"{}. Result: {}\".format(i+1,res))"
   ]
  },
  {
   "cell_type": "markdown",
   "metadata": {},
   "source": [
    "### 2. Position Rand"
   ]
  },
  {
   "cell_type": "code",
   "execution_count": 28,
   "metadata": {},
   "outputs": [
    {
     "name": "stdout",
     "output_type": "stream",
     "text": [
      "Answer:  \n",
      "Assuming the other plates are placed with their y-axis aligned, \n",
      "the coordinates for the plate should be {x: 0.8, y: 0.06, z: 0.82}m.\n"
     ]
    }
   ],
   "source": [
    "engine = \"text-davinci-003\"\n",
    "prompt = '''\n",
    "The goal is to place a plate in the kitchen. \n",
    "In terms of the symbolic spatial relationship between objects, \n",
    "a plate is suitable for placement on a dish rack. \n",
    "The rack has slots aligned along the y-axis, \n",
    "with an interval of 0.06m between each slot. \n",
    "\n",
    "The plate size is {x:0.14, y:0.14, z:0.02}m. and the rotation is {x:90, y:0, z:0}degree.\n",
    "Some plates are placed in a rack where the coordinate is {x: 0.8, y:0., z:0.82}m, \n",
    "Where a plate should be placed in a slot considering other plates?\n",
    "'''\n",
    "\n",
    "response = openai.Completion.create(engine='text-davinci-003',\n",
    "                                   prompt=prompt,\n",
    "                                   max_tokens = 512,\n",
    "                                   temperature =1.0)\n",
    "print(\"Answer: \", response[\"choices\"][0]['text'])"
   ]
  },
  {
   "cell_type": "code",
   "execution_count": null,
   "metadata": {},
   "outputs": [
    {
     "name": "stdout",
     "output_type": "stream",
     "text": [
      "Answer:  \n",
      "Assuming the other plates are placed with their y-axis aligned, \n",
      "the coordinates for the plate should be {x: 0.8, y: 0.06, z: 0.82}m.\n"
     ]
    }
   ],
   "source": [
    "engine = \"text-davinci-003\"\n",
    "prompt = '''\n",
    "The goal is to place a plate in the kitchen. \n",
    "In terms of the symbolic spatial relationship between objects, \n",
    "a plate is suitable for placement on a dish rack. \n",
    "The rack has slots aligned along the y-axis, \n",
    "with an interval of 0.06m between each slot. \n",
    "\n",
    "The plate size is {x:0.14, y:0.14, z:0.02}m. and the rotation is {x:90, y:0, z:0}degree.\n",
    "Some plates are placed in a rack where the coordinate is {x: 0.8, y:0., z:0.82}m, \n",
    "Where a plate should be placed in a slot considering other plates?\n",
    "'''\n",
    "\n",
    "response = openai.Completion.create(engine='text-davinci-003',\n",
    "                                   prompt=prompt,\n",
    "                                   max_tokens = 512,\n",
    "                                   temperature =1.0)\n",
    "print(\"Answer: \", response[\"choices\"][0]['text'])"
   ]
  }
 ],
 "metadata": {
  "kernelspec": {
   "display_name": "Python 3",
   "language": "python",
   "name": "python3"
  },
  "language_info": {
   "codemirror_mode": {
    "name": "ipython",
    "version": 3
   },
   "file_extension": ".py",
   "mimetype": "text/x-python",
   "name": "python",
   "nbconvert_exporter": "python",
   "pygments_lexer": "ipython3",
   "version": "3.11.5"
  },
  "orig_nbformat": 4
 },
 "nbformat": 4,
 "nbformat_minor": 2
}
