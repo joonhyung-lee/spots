{
 "cells": [
  {
   "cell_type": "code",
   "execution_count": 2,
   "metadata": {},
   "outputs": [
    {
     "name": "stdout",
     "output_type": "stream",
     "text": [
      "Done.\n"
     ]
    }
   ],
   "source": [
    "import openai \n",
    "import os \n",
    "import random \n",
    "random.seed(42)\n",
    "\n",
    "def gauss_2d(mu, sigma=0.01):\n",
    "    x = random.gauss(mu[0], sigma)\n",
    "    y = random.gauss(mu[1], sigma)\n",
    "    return (x, y)\n",
    "\n",
    "openai.api_key = 'your key'  \n",
    "models = openai.Model.list()\n",
    "# for model in models['data']:\n",
    "#     print(model['id'])\n",
    "print(\"Done.\")"
   ]
  },
  {
   "cell_type": "markdown",
   "metadata": {},
   "source": [
    "### LLM-GROP \n",
    "LLM-GROP is a task planner based on large language model, such as ChatGPT.   \n",
    "\n",
    "Specifically, they experiment a table setting task which is required to know the place position of the object.\n",
    "\n",
    "There are two examples about it \n",
    "\n",
    "\n",
    "[Template 1: $\\bold{Symbolic \\ Spatial \\ Reasoning}$] \n",
    "\n",
    "The goal is to set a dining table with objects. \n",
    "\n",
    "The symbolic spatial relationship between objects includes [spatial relationships].\n",
    "\n",
    "[examples: a fork and a knife are placed on the left and right respectively]. \n",
    "\n",
    "What is a typical way of positioning [objects] on a table? \n",
    "\n",
    "[notes]\n",
    "\n",
    "\n",
    "\n",
    "\n",
    "[Template 2: $\\bold{Geometric \\ Spatial\\  Reasoning}$] \n",
    "\n",
    "[object A] is placed [spatial relationship] [object B]. \n",
    "\n",
    "How many centimeters [spatial relationship] [object B] should [object A] be placed?\n"
   ]
  },
  {
   "cell_type": "markdown",
   "metadata": {},
   "source": [
    "First, this method gets a proper object position from LLM follwoing the above prompt.\n",
    "\n",
    "Then, they use this position as a mean of a distribution to use it as a sample distribution."
   ]
  },
  {
   "cell_type": "markdown",
   "metadata": {},
   "source": [
    "### Symbolic Spatial Reasoning  \n",
    "The goai is to place a dish in the kitchen. \n",
    "\n",
    "\n",
    "The symbolic spatial relationship betwen objects includes, a dish is suitable to be placed on a dish rack\n",
    "\n",
    "\n",
    "What is a typical way of positioning a disth on a dish rack?\n",
    "\n",
    "### Geometric Spatial Reasoning \n",
    "Other dishes are placed next to the red dish on the dish rack, \n",
    "\n",
    "How many centimeters red dish should other dishes be placed? \n"
   ]
  },
  {
   "cell_type": "markdown",
   "metadata": {},
   "source": [
    "### 1. Position Rand"
   ]
  },
  {
   "cell_type": "code",
   "execution_count": 3,
   "metadata": {},
   "outputs": [
    {
     "name": "stdout",
     "output_type": "stream",
     "text": [
      "Answer:  \n",
      "The plates should be placed approximately 4.45 cm from the center of mass of dish rack. This can be calculated by subtracting the Plate size (0.14m) from the Dish Rack size (0.225m). The resulting value (0.085m) should then be multiplied by 100 to get the answer in centimeters, thus yielding 8.5 cm. Subtracting this value from the gap between the dish rack and a plate (0.12m) gives 4.45 cm.\n"
     ]
    }
   ],
   "source": [
    "engine = \"text-davinci-003\"\n",
    "prompt = '''\n",
    "The goal is to place a plate in the kitchen. \n",
    "In terms of the symbolic spatial relationship between objects, \n",
    "a plate is suitable for placement on a dish rack. \n",
    "The rack has slots aligned along the y-axis\n",
    "\n",
    "The center of mass of dish rack is placed on {x:0.9, y:0.35, z:0.82}m.\n",
    "The dish rack size is {x:0.12, y:0.225, z:0.085}m.\n",
    "The center of mass of Plate2 is placed in a rack where the coordinate is {x: 0.92, y: 0.35, z: 0.82}m.\n",
    "The center of mass of Plate3 is placed in a rack where the coordinate is {x: 0.92, y: 0.34, z: 0.82}m.\n",
    "The plate size is {x:0.14, y:0.02, z:0.14}m.\n",
    "\n",
    "How many centimeters a plate should other plates be placed from the center of mass of dish rack?\n",
    "'''\n",
    "\n",
    "response = openai.Completion.create(engine='text-davinci-003',\n",
    "                                   prompt=prompt,\n",
    "                                   max_tokens = 512,\n",
    "                                   temperature =1.0)\n",
    "print(\"Answer: \", response[\"choices\"][0]['text'])"
   ]
  },
  {
   "cell_type": "code",
   "execution_count": 6,
   "metadata": {},
   "outputs": [
    {
     "name": "stdout",
     "output_type": "stream",
     "text": [
      "1. Result: (0.9156878076831858, 0.2908050111021734)\n",
      "2. Result: (0.9257209928730461, 0.34643181557718833)\n",
      "3. Result: (0.9519206895396222, 0.3229942550934604)\n",
      "4. Result: (0.952497404890315, 0.3294246018825059)\n",
      "5. Result: (0.88865072673902, 0.2696314453091711)\n",
      "6. Result: (0.8965015862931993, 0.3304663200238391)\n",
      "7. Result: (0.9074942214501308, 0.4222877111240274)\n",
      "8. Result: (0.8790353728906753, 0.25055627000489206)\n",
      "9. Result: (0.9584236757734849, 0.3765924990671733)\n",
      "10. Result: (0.945284634541963, 0.34729086729838365)\n",
      "11. Result: (0.9913172488721081, 0.3007986261991848)\n",
      "12. Result: (0.8488520533430511, 0.27889617258406435)\n",
      "13. Result: (0.9676447878658289, 0.2333160796960856)\n",
      "14. Result: (0.9216765660393631, 0.3181618679671031)\n",
      "15. Result: (0.9042203917593165, 0.3416815993184048)\n",
      "16. Result: (0.9490389870763284, 0.42157042584503657)\n",
      "17. Result: (0.9509983883886568, 0.2750298270678469)\n",
      "18. Result: (0.8919101203832985, 0.26392094493789964)\n",
      "19. Result: (0.9676136779907911, 0.27715835825931495)\n",
      "20. Result: (0.9164869613149702, 0.3429651309644838)\n"
     ]
    }
   ],
   "source": [
    "for i in range(20):\n",
    "    res = gauss_2d([0.92, 0.3055],0.05)\n",
    "    print(\"{}. Result: {}\".format(i+1,res))"
   ]
  },
  {
   "cell_type": "markdown",
   "metadata": {},
   "source": [
    "### 2. Position Rand"
   ]
  },
  {
   "cell_type": "code",
   "execution_count": 4,
   "metadata": {},
   "outputs": [
    {
     "name": "stdout",
     "output_type": "stream",
     "text": [
      "Answer:  \n",
      "The plate should be placed in slot number 4 of the rack, which corresponds to a y coordinate of 0.24m. This means the plate can be placed at the coordinate of {x: 0.8, y: 0.24, z: 0.82}m.\n"
     ]
    }
   ],
   "source": [
    "engine = \"text-davinci-003\"\n",
    "prompt = '''\n",
    "The goal is to place a plate in the kitchen. \n",
    "In terms of the symbolic spatial relationship between objects, \n",
    "a plate is suitable for placement on a dish rack. \n",
    "The rack has slots aligned along the y-axis, \n",
    "with an interval of 0.06m between each slot. \n",
    "\n",
    "The plate size is {x:0.14, y:0.14, z:0.02}m. and the rotation is {x:90, y:0, z:0}degree.\n",
    "Some plates are placed in a rack where the coordinate is {x: 0.8, y:0., z:0.82}m, \n",
    "Where a plate should be placed in a slot considering other plates?\n",
    "'''\n",
    "\n",
    "response = openai.Completion.create(engine='text-davinci-003',\n",
    "                                   prompt=prompt,\n",
    "                                   max_tokens = 512,\n",
    "                                   temperature =1.0)\n",
    "print(\"Answer: \", response[\"choices\"][0]['text'])"
   ]
  },
  {
   "cell_type": "code",
   "execution_count": 5,
   "metadata": {},
   "outputs": [
    {
     "name": "stdout",
     "output_type": "stream",
     "text": [
      "Answer:  \n",
      "Assuming that all other plates are aligned along the y-axis, the optimal slot for the new plate would be {x: 0.8, y:0.06, z:0.82}m. This is assuming that the plate is placed in the first available slot, which is the closest to the coordinates of the other plates.\n"
     ]
    }
   ],
   "source": [
    "engine = \"text-davinci-003\"\n",
    "prompt = '''\n",
    "The goal is to place a plate in the kitchen. \n",
    "In terms of the symbolic spatial relationship between objects, \n",
    "a plate is suitable for placement on a dish rack. \n",
    "The rack has slots aligned along the y-axis, \n",
    "with an interval of 0.06m between each slot. \n",
    "\n",
    "The plate size is {x:0.14, y:0.14, z:0.02}m. and the rotation is {x:90, y:0, z:0}degree.\n",
    "Some plates are placed in a rack where the coordinate is {x: 0.8, y:0., z:0.82}m, \n",
    "Where a plate should be placed in a slot considering other plates?\n",
    "'''\n",
    "\n",
    "response = openai.Completion.create(engine='text-davinci-003',\n",
    "                                   prompt=prompt,\n",
    "                                   max_tokens = 512,\n",
    "                                   temperature =1.0)\n",
    "print(\"Answer: \", response[\"choices\"][0]['text'])"
   ]
  }
 ],
 "metadata": {
  "kernelspec": {
   "display_name": "Python 3",
   "language": "python",
   "name": "python3"
  },
  "language_info": {
   "codemirror_mode": {
    "name": "ipython",
    "version": 3
   },
   "file_extension": ".py",
   "mimetype": "text/x-python",
   "name": "python",
   "nbconvert_exporter": "python",
   "pygments_lexer": "ipython3",
   "version": "3.11.5"
  },
  "orig_nbformat": 4
 },
 "nbformat": 4,
 "nbformat_minor": 2
}
