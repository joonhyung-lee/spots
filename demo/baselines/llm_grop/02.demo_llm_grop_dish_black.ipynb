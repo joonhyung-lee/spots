{
 "cells": [
  {
   "cell_type": "code",
   "execution_count": 1,
   "metadata": {},
   "outputs": [
    {
     "name": "stdout",
     "output_type": "stream",
     "text": [
      "Done.\n"
     ]
    }
   ],
   "source": [
    "import openai \n",
    "import os \n",
    "import random \n",
    "random.seed(42)\n",
    "\n",
    "def gauss_2d(mu, sigma=0.01):\n",
    "    x = random.gauss(mu[0], sigma)\n",
    "    y = random.gauss(mu[1], sigma)\n",
    "    return (x, y)\n",
    "\n",
    "openai.api_key = 'your key'  \n",
    "models = openai.Model.list()\n",
    "# for model in models['data']:\n",
    "#     print(model['id'])\n",
    "print(\"Done.\")"
   ]
  },
  {
   "cell_type": "markdown",
   "metadata": {},
   "source": [
    "### LLM-GROP \n",
    "LLM-GROP is a task planner based on large language model, such as ChatGPT.   \n",
    "\n",
    "Specifically, they experiment a table setting task which is required to know the place position of the object.\n",
    "\n",
    "There are two examples about it \n",
    "\n",
    "\n",
    "[Template 1: $\\bold{Symbolic \\ Spatial \\ Reasoning}$] \n",
    "\n",
    "The goal is to set a dining table with objects. \n",
    "\n",
    "The symbolic spatial relationship between objects includes [spatial relationships].\n",
    "\n",
    "[examples: a fork and a knife are placed on the left and right respectively]. \n",
    "\n",
    "What is a typical way of positioning [objects] on a table? \n",
    "\n",
    "[notes]\n",
    "\n",
    "\n",
    "\n",
    "\n",
    "[Template 2: $\\bold{Geometric \\ Spatial\\  Reasoning}$] \n",
    "\n",
    "[object A] is placed [spatial relationship] [object B]. \n",
    "\n",
    "How many centimeters [spatial relationship] [object B] should [object A] be placed?\n"
   ]
  },
  {
   "cell_type": "markdown",
   "metadata": {},
   "source": [
    "First, this method gets a proper object position from LLM follwoing the above prompt.\n",
    "\n",
    "Then, they use this position as a mean of a distribution to use it as a sample distribution."
   ]
  },
  {
   "cell_type": "markdown",
   "metadata": {},
   "source": [
    "### Symbolic Spatial Reasoning  \n",
    "The goai is to place a dish in the kitchen. \n",
    "\n",
    "\n",
    "The symbolic spatial relationship betwen objects includes, a dish is suitable to be placed on a dish rack\n",
    "\n",
    "\n",
    "What is a typical way of positioning a disth on a dish rack?\n",
    "\n",
    "### Geometric Spatial Reasoning \n",
    "Other dishes are placed next to the red dish on the dish rack, \n",
    "\n",
    "How many centimeters red dish should other dishes be placed? \n"
   ]
  },
  {
   "cell_type": "code",
   "execution_count": 4,
   "metadata": {},
   "outputs": [
    {
     "name": "stdout",
     "output_type": "stream",
     "text": [
      "Answer:  \n",
      "Typically, dishes are placed in the dish rack by selecting the appropriate size slot and sliding the plate in. The plate should fit snugly in the space so that it will not easily slide out. Depending on the orientation of the rack and the size of the plate, it may be helpful to adjust the orientation of the plate so that it fits well in the space. It may also be necessary to adjust the spacing between slots according to the size of the plate.\n"
     ]
    }
   ],
   "source": [
    "engine = \"text-davinci-003\"\n",
    "prompt = '''\n",
    "The goal is to place a plate in the kitchen. \n",
    "In terms of the symbolic spatial relationship between objects, \n",
    "a plate is suitable for placement on a dish rack. \n",
    "The rack has slots aligned along the y-axis, \n",
    "with an interval of 0.06m between each slot. \n",
    "What is the typical method for positioning a plate on a dish rack?\n",
    "'''\n",
    "response = openai.Completion.create(engine='text-davinci-003',\n",
    "                                   prompt=prompt,\n",
    "                                   max_tokens = 512,\n",
    "                                   temperature =1.0)\n",
    "print(\"Answer: \", response[\"choices\"][0]['text'])"
   ]
  },
  {
   "cell_type": "code",
   "execution_count": 7,
   "metadata": {},
   "outputs": [
    {
     "name": "stdout",
     "output_type": "stream",
     "text": [
      "Answer:  \n",
      "The plate should be placed at {x: 0.86, y:0.12, z:0.82}m to maintain the distance of 0.06m from the other plates.\n"
     ]
    }
   ],
   "source": [
    "engine = \"text-davinci-003\"\n",
    "prompt = '''\n",
    "Some plates are placed on a dish rack where It is placed on {x: 0.8, y:0.06, z:0.82}m, \n",
    "and the distance between the plates is 0.06m.\n",
    "Where a plate should be placed considering other plates?\n",
    "'''\n",
    "\n",
    "response = openai.Completion.create(engine='text-davinci-003',\n",
    "                                   prompt=prompt,\n",
    "                                   max_tokens = 512,\n",
    "                                   temperature =1.0)\n",
    "print(\"Answer: \", response[\"choices\"][0]['text'])"
   ]
  },
  {
   "cell_type": "markdown",
   "metadata": {},
   "source": [
    "### Gaussian Distribution"
   ]
  },
  {
   "cell_type": "code",
   "execution_count": 18,
   "metadata": {},
   "outputs": [
    {
     "name": "stdout",
     "output_type": "stream",
     "text": [
      "Samples: [[0.84921195 0.08353019]], Shape: (1, 2)\n"
     ]
    }
   ],
   "source": [
    "import numpy as np \n",
    "# Gaussian Normal Distribution\n",
    "mean    = [0.8, 0.12]\n",
    "cov     = [[0.001,0],[0, 0.001]]\n",
    "samples = np.random.multivariate_normal(mean, cov, 1)\n",
    "print(\"Samples: {}, Shape: {}\".format(samples, samples.shape))"
   ]
  },
  {
   "cell_type": "code",
   "execution_count": 19,
   "metadata": {},
   "outputs": [
    {
     "name": "stdout",
     "output_type": "stream",
     "text": [
      "Answer:  \n",
      "The typical method for positioning a plate on a dish rack is to slide the plate along the slots, paying careful attention to ensure that the plate is level and centered in the slot. Depending on the size of the plate, it is usually best practice to ensure that at least two edges of the plate are resting within the slot for stability. Some dish racks may also have adjustable slots which allow for fine-tuning the fit and placement of the plate.\n"
     ]
    }
   ],
   "source": [
    "engine = \"text-davinci-003\"\n",
    "prompt = '''\n",
    "The goal is to place a plate in the kitchen. \n",
    "In terms of the symbolic spatial relationship between objects, \n",
    "a plate is suitable for placement on a dish rack. \n",
    "The rack has slots aligned along the y-axis, \n",
    "with an interval of 0.06m between each slot. \n",
    "What is the typical method for positioning a plate on a dish rack?\n",
    "'''\n",
    "response = openai.Completion.create(engine='text-davinci-003',\n",
    "                                   prompt=prompt,\n",
    "                                   max_tokens = 512,\n",
    "                                   temperature =1.0)\n",
    "print(\"Answer: \", response[\"choices\"][0]['text'])"
   ]
  },
  {
   "cell_type": "markdown",
   "metadata": {},
   "source": [
    "### 1. Position Rand"
   ]
  },
  {
   "cell_type": "code",
   "execution_count": 27,
   "metadata": {},
   "outputs": [
    {
     "name": "stdout",
     "output_type": "stream",
     "text": [
      "Answer:  \n",
      "First, we need to determine the size of the slots in the dish rack. \n",
      "Assuming the plate size is 0.14m x 0.14m, then the size of the slots in the dish rack should be 0.2m x 0.14m. \n",
      "\n",
      "Next, we need to determine the current coordinate of the plate in relation to the slots. \n",
      "The current coordinate of the plate is {x: 0.8, y:0.1, z:0.82}m, so it is placed at the 8th slot along the y-axis. \n",
      "\n",
      "In order to determine where a plate should be placed in a slot considering other plates, we need to calculate the spacing between the plates and the slots. \n",
      "The plate size is 0.14m x 0.14m, and the interval between each slot is 0.06m. \n",
      "Therefore, the spacing between the plates and the slots should be 0.04m. \n",
      "\n",
      "Finally, we can calculate the exact location of the plate in the slot. \n",
      "Assuming we start counting from the leftmost slot, the location of the plate would be {x: 0.8, y:0.14, z:0.82}m. \n",
      "This is the exact location where the plate should be placed in a slot considering other plates.\n"
     ]
    }
   ],
   "source": [
    "engine = \"text-davinci-003\"\n",
    "prompt = '''\n",
    "The goal is to place a plate in the kitchen. \n",
    "In terms of the symbolic spatial relationship between objects, \n",
    "a plate is suitable for placement on a dish rack. \n",
    "The rack has slots aligned along the y-axis, \n",
    "with an interval of 0.06m between each slot. \n",
    "\n",
    "The plate size is {x:0.14, y:0.14, z:0.02}m. and the rotation is {x:90, y:0, z:0}degree.\n",
    "Some plates are placed in a rack where the coordinate is {x: 0.8, y:0.1, z:0.82}m, \n",
    "Where a plate should be placed in a slot considering other plates?\n",
    "'''\n",
    "\n",
    "response = openai.Completion.create(engine='text-davinci-003',\n",
    "                                   prompt=prompt,\n",
    "                                   max_tokens = 512,\n",
    "                                   temperature =1.0)\n",
    "print(\"Answer: \", response[\"choices\"][0]['text'])"
   ]
  },
  {
   "cell_type": "code",
   "execution_count": 3,
   "metadata": {},
   "outputs": [
    {
     "name": "stdout",
     "output_type": "stream",
     "text": [
      "1. Result: (0.7966605241529702, 0.1610595117529659)\n",
      "2. Result: (0.7961723514865134, 0.0950793975697713)\n",
      "3. Result: (0.8099695503220316, 0.13197987564508495)\n",
      "4. Result: (0.7934912394756442, 0.14347654360102566)\n",
      "5. Result: (0.8069689321072017, 0.1749067605979743)\n",
      "6. Result: (0.8196990952039601, 0.14331521532331498)\n",
      "7. Result: (0.7778503519296555, 0.1095601289753685)\n",
      "8. Result: (0.8073902658563361, 0.17933242481612147)\n",
      "9. Result: (0.8012497059171015, 0.13681030118687648)\n",
      "10. Result: (0.8159532866120262, 0.09639364105973967)\n"
     ]
    }
   ],
   "source": [
    "for i in range(10):\n",
    "    res = gauss_2d([0.8, 0.14],0.03)\n",
    "    print(\"{}. Result: {}\".format(i+1,res))"
   ]
  },
  {
   "cell_type": "markdown",
   "metadata": {},
   "source": [
    "### 2. Position Rand"
   ]
  },
  {
   "cell_type": "code",
   "execution_count": 28,
   "metadata": {},
   "outputs": [
    {
     "name": "stdout",
     "output_type": "stream",
     "text": [
      "Answer:  \n",
      "Assuming the other plates are placed with their y-axis aligned, \n",
      "the coordinates for the plate should be {x: 0.8, y: 0.06, z: 0.82}m.\n"
     ]
    }
   ],
   "source": [
    "engine = \"text-davinci-003\"\n",
    "prompt = '''\n",
    "The goal is to place a plate in the kitchen. \n",
    "In terms of the symbolic spatial relationship between objects, \n",
    "a plate is suitable for placement on a dish rack. \n",
    "The rack has slots aligned along the y-axis, \n",
    "with an interval of 0.06m between each slot. \n",
    "\n",
    "The plate size is {x:0.14, y:0.14, z:0.02}m. and the rotation is {x:90, y:0, z:0}degree.\n",
    "Some plates are placed in a rack where the coordinate is {x: 0.8, y:0., z:0.82}m, \n",
    "Where a plate should be placed in a slot considering other plates?\n",
    "'''\n",
    "\n",
    "response = openai.Completion.create(engine='text-davinci-003',\n",
    "                                   prompt=prompt,\n",
    "                                   max_tokens = 512,\n",
    "                                   temperature =1.0)\n",
    "print(\"Answer: \", response[\"choices\"][0]['text'])"
   ]
  },
  {
   "cell_type": "markdown",
   "metadata": {},
   "source": [
    "### 3. Position Rand"
   ]
  },
  {
   "cell_type": "code",
   "execution_count": 29,
   "metadata": {},
   "outputs": [
    {
     "name": "stdout",
     "output_type": "stream",
     "text": [
      "Answer:  \n",
      "Assuming that the plates all have the same size and orientation, the plate should be placed in the slot directly above or below the existing plate. This would have the same x-coordinate (0.76 m) and the same z-coordinate (0.82 m), but the y-coordinate would be either 0.00 m or 0.12 m, respectively.\n"
     ]
    }
   ],
   "source": [
    "engine = \"text-davinci-003\"\n",
    "prompt = '''\n",
    "The goal is to place a plate in the kitchen. \n",
    "In terms of the symbolic spatial relationship between objects, \n",
    "a plate is suitable for placement on a dish rack. \n",
    "The rack has slots aligned along the y-axis, \n",
    "with an interval of 0.06m between each slot. \n",
    "\n",
    "The plate size is {x:0.14, y:0.14, z:0.02}m. and the rotation is {x:90, y:0, z:0}degree.\n",
    "Some plates are placed in a rack where the coordinate is {x: 0.76, y:0.06, z:0.82}m, \n",
    "Where a plate should be placed in a slot considering other plates?\n",
    "'''\n",
    "\n",
    "response = openai.Completion.create(engine='text-davinci-003',\n",
    "                                   prompt=prompt,\n",
    "                                   max_tokens = 512,\n",
    "                                   temperature =1.0)\n",
    "print(\"Answer: \", response[\"choices\"][0]['text'])"
   ]
  },
  {
   "cell_type": "markdown",
   "metadata": {},
   "source": [
    "### 4. Position Rand"
   ]
  },
  {
   "cell_type": "code",
   "execution_count": 30,
   "metadata": {},
   "outputs": [
    {
     "name": "stdout",
     "output_type": "stream",
     "text": [
      "Answer:  \n",
      "Considering the size and orientation of the plate, it should be placed in the slot at {x: 0.76, y: -0.04, z: 0.82}m (the 4th slot down from the top). This slot should be able to accommodate the plate, and will fit in between the other plates that are already placed.\n"
     ]
    }
   ],
   "source": [
    "engine = \"text-davinci-003\"\n",
    "prompt = '''\n",
    "The goal is to place a plate in the kitchen. \n",
    "In terms of the symbolic spatial relationship between objects, \n",
    "a plate is suitable for placement on a dish rack. \n",
    "The rack has slots aligned along the y-axis, \n",
    "with an interval of 0.06m between each slot. \n",
    "\n",
    "The plate size is {x:0.14, y:0.14, z:0.02}m. and the rotation is {x:90, y:0, z:0}degree.\n",
    "Some plates are placed in a rack where the coordinate is {x: 0.76, y:-0.1, z:0.82}m, \n",
    "Where a plate should be placed in a slot considering other plates?\n",
    "'''\n",
    "\n",
    "response = openai.Completion.create(engine='text-davinci-003',\n",
    "                                   prompt=prompt,\n",
    "                                   max_tokens = 512,\n",
    "                                   temperature =1.0)\n",
    "print(\"Answer: \", response[\"choices\"][0]['text'])"
   ]
  },
  {
   "cell_type": "markdown",
   "metadata": {},
   "source": [
    "### 5. Position Rand"
   ]
  },
  {
   "cell_type": "code",
   "execution_count": 33,
   "metadata": {},
   "outputs": [
    {
     "name": "stdout",
     "output_type": "stream",
     "text": [
      "Answer:  \n",
      "Assuming that the plate is being placed in the dish rack in an upright position, the ideal coordinate for placement should be x: 0.85, y: 0.12, z: 0.82 m. This is because this coordinate places the plate in a slot which aligns with the other plates in the dish rack.\n"
     ]
    }
   ],
   "source": [
    "engine = \"text-davinci-003\"\n",
    "prompt = '''\n",
    "The goal is to place a plate in the kitchen. \n",
    "In terms of the symbolic spatial relationship between objects, \n",
    "a plate is suitable for placement on a dish rack. \n",
    "The rack has slots aligned along the y-axis, \n",
    "with an interval of 0.06m between each slot. \n",
    "\n",
    "The plate size is {x:0.14, y:0.14, z:0.02}m. and the rotation is {x:90, y:0, z:0}degree.\n",
    "Some plates are placed in a rack where the coordinate is {x: 0.85, y:0.06, z:0.82}m, \n",
    "Where a plate should be placed in a slot considering other plates?\n",
    "'''\n",
    "\n",
    "response = openai.Completion.create(engine='text-davinci-003',\n",
    "                                   prompt=prompt,\n",
    "                                   max_tokens = 512,\n",
    "                                   temperature =1.0)\n",
    "print(\"Answer: \", response[\"choices\"][0]['text'])"
   ]
  },
  {
   "cell_type": "markdown",
   "metadata": {},
   "source": [
    "### 6. Position Rand"
   ]
  },
  {
   "cell_type": "code",
   "execution_count": 4,
   "metadata": {},
   "outputs": [
    {
     "name": "stdout",
     "output_type": "stream",
     "text": [
      "Answer:  \n",
      "The plate should be placed in a slot at a coordinate of {x: 0.8, y:0.14 + 0.06, z:0.82}. This coordinate accounts for the sizes of the plates already in the rack and also ensures the plate is properly spaced and aligned.\n"
     ]
    }
   ],
   "source": [
    "engine = \"text-davinci-003\"\n",
    "prompt = '''\n",
    "The goal is to place a plate in the kitchen. \n",
    "In terms of the symbolic spatial relationship between objects, \n",
    "a plate is suitable for placement on a dish rack. \n",
    "The rack has slots aligned along the y-axis, \n",
    "with an interval of 0.06m between each slot. \n",
    "\n",
    "The plate size is {x:0.14, y:0.14, z:0.02}m. and the rotation is {x:90, y:0, z:0}degree.\n",
    "Some plates are placed in a rack where the coordinate is {x: 0.8, y:0.14, z:0.82}m, \n",
    "Where a plate should be placed in a slot considering other plates?\n",
    "'''\n",
    "\n",
    "response = openai.Completion.create(engine='text-davinci-003',\n",
    "                                   prompt=prompt,\n",
    "                                   max_tokens = 512,\n",
    "                                   temperature =1.0)\n",
    "print(\"Answer: \", response[\"choices\"][0]['text'])"
   ]
  },
  {
   "cell_type": "markdown",
   "metadata": {},
   "source": [
    "### 7. Position Rand"
   ]
  },
  {
   "cell_type": "code",
   "execution_count": 5,
   "metadata": {},
   "outputs": [
    {
     "name": "stdout",
     "output_type": "stream",
     "text": [
      "Answer:  \n",
      "Assuming that the other plates are already occupying the slots, \n",
      "the plate should be placed in the slot with the x-coordinate of 0.8 and y-coordinate of -0.06 (which is 0.06 m less than the y-coordinate of the other plates).  Thus, the plate should be placed in the slot at {x: 0.8, y: -0.06, z: 0.82} m.\n"
     ]
    }
   ],
   "source": [
    "engine = \"text-davinci-003\"\n",
    "prompt = '''\n",
    "The goal is to place a plate in the kitchen. \n",
    "In terms of the symbolic spatial relationship between objects, \n",
    "a plate is suitable for placement on a dish rack. \n",
    "The rack has slots aligned along the y-axis, \n",
    "with an interval of 0.06m between each slot. \n",
    "\n",
    "The plate size is {x:0.14, y:0.14, z:0.02}m. and the rotation is {x:90, y:0, z:0}degree.\n",
    "Some plates are placed in a rack where the coordinate is {x: 0.8, y:-0.14, z:0.82}m, \n",
    "Where a plate should be placed in a slot considering other plates?\n",
    "'''\n",
    "\n",
    "response = openai.Completion.create(engine='text-davinci-003',\n",
    "                                   prompt=prompt,\n",
    "                                   max_tokens = 512,\n",
    "                                   temperature =1.0)\n",
    "print(\"Answer: \", response[\"choices\"][0]['text'])"
   ]
  },
  {
   "cell_type": "markdown",
   "metadata": {},
   "source": [
    "### 8. Position Rand"
   ]
  },
  {
   "cell_type": "code",
   "execution_count": 6,
   "metadata": {},
   "outputs": [
    {
     "name": "stdout",
     "output_type": "stream",
     "text": [
      "Answer:  \n",
      "Considering the size and rotation of the plate, the slot to place the plate should be aligned with the y-axis and located at a coordinate of {x: 0.85, y:-0.02, z:0.82}m. This coordinates takes into account the other plates already in the rack and allows the plate to fit and rotate properly in the slot.\n"
     ]
    }
   ],
   "source": [
    "engine = \"text-davinci-003\"\n",
    "prompt = '''\n",
    "The goal is to place a plate in the kitchen. \n",
    "In terms of the symbolic spatial relationship between objects, \n",
    "a plate is suitable for placement on a dish rack. \n",
    "The rack has slots aligned along the y-axis, \n",
    "with an interval of 0.06m between each slot. \n",
    "\n",
    "The plate size is {x:0.14, y:0.14, z:0.02}m. and the rotation is {x:90, y:0, z:0}degree.\n",
    "Some plates are placed in a rack where the coordinate is {x: 0.85, y:-0.04, z:0.82}m, \n",
    "Where a plate should be placed in a slot considering other plates?\n",
    "'''\n",
    "\n",
    "response = openai.Completion.create(engine='text-davinci-003',\n",
    "                                   prompt=prompt,\n",
    "                                   max_tokens = 512,\n",
    "                                   temperature =1.0)\n",
    "print(\"Answer: \", response[\"choices\"][0]['text'])"
   ]
  },
  {
   "cell_type": "markdown",
   "metadata": {},
   "source": [
    "### 9. Position Rand"
   ]
  },
  {
   "cell_type": "code",
   "execution_count": 8,
   "metadata": {},
   "outputs": [
    {
     "name": "stdout",
     "output_type": "stream",
     "text": [
      "Answer:  \n",
      "Assuming the slot is at the center of the rack, the plate should be placed in the slot at the coordinate {x:0.8, y:0.11, z:0.82}m (half of the slot interval of 0.06m beyond the slot at {x:0.8, y:0.05, z:0.82}m). \n",
      "The plate should be oriented so that the x-axis of the plate is aligned with the y-axis of the rack, and the rotation values should be {x:90, y:0, z:0}degrees.\n"
     ]
    }
   ],
   "source": [
    "engine = \"text-davinci-003\"\n",
    "prompt = '''\n",
    "The goal is to place a plate in the kitchen. \n",
    "In terms of the symbolic spatial relationship between objects, \n",
    "a plate is suitable for placement on a dish rack. \n",
    "The rack has slots aligned along the y-axis, \n",
    "with an interval of 0.06m between each slot. \n",
    "\n",
    "The plate size is {x:0.14, y:0.14, z:0.02}m. and the rotation is {x:90, y:0, z:0}degree.\n",
    "Some plates are placed in a rack where the coordinate is {x: 0.8, y:0.05, z:0.82}m, \n",
    "Where a plate should be placed in a slot considering other plates?\n",
    "'''\n",
    "\n",
    "response = openai.Completion.create(engine='text-davinci-003',\n",
    "                                   prompt=prompt,\n",
    "                                   max_tokens = 512,\n",
    "                                   temperature =1.0)\n",
    "print(\"Answer: \", response[\"choices\"][0]['text'])"
   ]
  },
  {
   "cell_type": "markdown",
   "metadata": {},
   "source": [
    "### 10. Position Rand"
   ]
  },
  {
   "cell_type": "code",
   "execution_count": 10,
   "metadata": {},
   "outputs": [
    {
     "name": "stdout",
     "output_type": "stream",
     "text": [
      "Answer:  \n",
      "Assuming the dish rack has four slots, to place the plate in the slot considering other plates, the plate should be placed in the slot with the following coordinates: \n",
      "{x: 0.82, y: 0.19, z: 0.82}m. The reason is that the plate should be placed in the slot with the highest y-coordinate that is not already occupied. Each slot interval is 0.06m and so the y-coordinate is increased by 0.06m.\n"
     ]
    }
   ],
   "source": [
    "engine = \"text-davinci-003\"\n",
    "prompt = '''\n",
    "The goal is to place a plate in the kitchen. \n",
    "In terms of the symbolic spatial relationship between objects, \n",
    "a plate is suitable for placement on a dish rack. \n",
    "The rack has slots aligned along the y-axis, \n",
    "with an interval of 0.06m between each slot. \n",
    "\n",
    "The plate size is {x:0.14, y:0.14, z:0.02}m. and the rotation is {x:90, y:0, z:0}degree.\n",
    "Some plates are placed in a rack where the coordinate is {x: 0.82, y:0.13, z:0.82}m, \n",
    "Where a plate should be placed in a slot considering other plates?\n",
    "'''\n",
    "\n",
    "response = openai.Completion.create(engine='text-davinci-003',\n",
    "                                   prompt=prompt,\n",
    "                                   max_tokens = 512,\n",
    "                                   temperature =1.0)\n",
    "print(\"Answer: \", response[\"choices\"][0]['text'])"
   ]
  },
  {
   "cell_type": "code",
   "execution_count": 8,
   "metadata": {},
   "outputs": [
    {
     "name": "stdout",
     "output_type": "stream",
     "text": [
      "Answer:  \n",
      "The distance between plates should be at least 0.02 meters (2 cm) for safe storage.\n"
     ]
    }
   ],
   "source": [
    "# Without slot interval\n",
    "\n",
    "engine = \"text-davinci-003\"\n",
    "prompt = '''\n",
    "The goal is to place a plate in the kitchen. \n",
    "In terms of the symbolic spatial relationship between objects, \n",
    "a plate is suitable for placement on a dish rack. \n",
    "The rack has slots aligned along the y-axis\n",
    "\n",
    "The plate size is {x:0.14, y:0.02, z:0.14}m.\n",
    "Some plates are placed in a rack where the coordinate is {x: 0.82, y:0.13, z:0.82}m, \n",
    "How many centimeters a plate should other plates be placed?\n",
    "'''\n",
    "\n",
    "response = openai.Completion.create(engine='text-davinci-003',\n",
    "                                   prompt=prompt,\n",
    "                                   max_tokens = 512,\n",
    "                                   temperature =1.0)\n",
    "print(\"Answer: \", response[\"choices\"][0]['text'])"
   ]
  },
  {
   "cell_type": "code",
   "execution_count": null,
   "metadata": {},
   "outputs": [],
   "source": []
  }
 ],
 "metadata": {
  "kernelspec": {
   "display_name": "Python 3",
   "language": "python",
   "name": "python3"
  },
  "language_info": {
   "codemirror_mode": {
    "name": "ipython",
    "version": 3
   },
   "file_extension": ".py",
   "mimetype": "text/x-python",
   "name": "python",
   "nbconvert_exporter": "python",
   "pygments_lexer": "ipython3",
   "version": "3.11.5"
  },
  "orig_nbformat": 4
 },
 "nbformat": 4,
 "nbformat_minor": 2
}
