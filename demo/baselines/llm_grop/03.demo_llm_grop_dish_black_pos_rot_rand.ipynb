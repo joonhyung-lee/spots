{
 "cells": [
  {
   "cell_type": "code",
   "execution_count": 23,
   "metadata": {},
   "outputs": [
    {
     "name": "stdout",
     "output_type": "stream",
     "text": [
      "Done.\n"
     ]
    }
   ],
   "source": [
    "import openai \n",
    "import os \n",
    "import random \n",
    "random.seed(42)\n",
    "def gauss_2d(mu, sigma=0.01):\n",
    "    x = random.gauss(mu[0], sigma)\n",
    "    y = random.gauss(mu[1], sigma)\n",
    "    return (x, y)\n",
    "openai.api_key = 'your key'  \n",
    "models = openai.Model.list()\n",
    "# for model in models['data']:\n",
    "#     print(model['id'])\n",
    "print(\"Done.\")"
   ]
  },
  {
   "cell_type": "markdown",
   "metadata": {},
   "source": [
    "### LLM-GROP \n",
    "LLM-GROP is a task planner based on large language model, such as ChatGPT.   \n",
    "\n",
    "Specifically, they experiment a table setting task which is required to know the place position of the object.\n",
    "\n",
    "There are two examples about it \n",
    "\n",
    "\n",
    "[Template 1: $\\bold{Symbolic \\ Spatial \\ Reasoning}$] \n",
    "\n",
    "The goal is to set a dining table with objects. \n",
    "\n",
    "The symbolic spatial relationship between objects includes [spatial relationships].\n",
    "\n",
    "[examples: a fork and a knife are placed on the left and right respectively]. \n",
    "\n",
    "What is a typical way of positioning [objects] on a table? \n",
    "\n",
    "[notes]\n",
    "\n",
    "\n",
    "\n",
    "\n",
    "[Template 2: $\\bold{Geometric \\ Spatial\\  Reasoning}$] \n",
    "\n",
    "[object A] is placed [spatial relationship] [object B]. \n",
    "\n",
    "How many centimeters [spatial relationship] [object B] should [object A] be placed?\n"
   ]
  },
  {
   "cell_type": "markdown",
   "metadata": {},
   "source": [
    "First, this method gets a proper object position from LLM follwoing the above prompt.\n",
    "\n",
    "Then, they use this position as a mean of a distribution to use it as a sample distribution."
   ]
  },
  {
   "cell_type": "markdown",
   "metadata": {},
   "source": [
    "### Symbolic Spatial Reasoning  \n",
    "The goai is to place a dish in the kitchen. \n",
    "\n",
    "\n",
    "The symbolic spatial relationship betwen objects includes, a dish is suitable to be placed on a dish rack\n",
    "\n",
    "\n",
    "What is a typical way of positioning a disth on a dish rack?\n",
    "\n",
    "### Geometric Spatial Reasoning \n",
    "Other dishes are placed next to the red dish on the dish rack, \n",
    "\n",
    "How many centimeters red dish should other dishes be placed? \n"
   ]
  },
  {
   "cell_type": "code",
   "execution_count": 4,
   "metadata": {},
   "outputs": [
    {
     "name": "stdout",
     "output_type": "stream",
     "text": [
      "Answer:  \n",
      "Typically, dishes are placed in the dish rack by selecting the appropriate size slot and sliding the plate in. The plate should fit snugly in the space so that it will not easily slide out. Depending on the orientation of the rack and the size of the plate, it may be helpful to adjust the orientation of the plate so that it fits well in the space. It may also be necessary to adjust the spacing between slots according to the size of the plate.\n"
     ]
    }
   ],
   "source": [
    "engine = \"text-davinci-003\"\n",
    "prompt = '''\n",
    "The goal is to place a plate in the kitchen. \n",
    "In terms of the symbolic spatial relationship between objects, \n",
    "a plate is suitable for placement on a dish rack. \n",
    "The rack has slots aligned along the y-axis, \n",
    "with an interval of 0.06m between each slot. \n",
    "What is the typical method for positioning a plate on a dish rack?\n",
    "'''\n",
    "response = openai.Completion.create(engine='text-davinci-003',\n",
    "                                   prompt=prompt,\n",
    "                                   max_tokens = 512,\n",
    "                                   temperature =1.0)\n",
    "print(\"Answer: \", response[\"choices\"][0]['text'])"
   ]
  },
  {
   "cell_type": "code",
   "execution_count": 7,
   "metadata": {},
   "outputs": [
    {
     "name": "stdout",
     "output_type": "stream",
     "text": [
      "Answer:  \n",
      "The plate should be placed at {x: 0.86, y:0.12, z:0.82}m to maintain the distance of 0.06m from the other plates.\n"
     ]
    }
   ],
   "source": [
    "engine = \"text-davinci-003\"\n",
    "prompt = '''\n",
    "Some plates are placed on a dish rack where It is placed on {x: 0.8, y:0.06, z:0.82}m, \n",
    "and the distance between the plates is 0.06m.\n",
    "Where a plate should be placed considering other plates?\n",
    "'''\n",
    "\n",
    "response = openai.Completion.create(engine='text-davinci-003',\n",
    "                                   prompt=prompt,\n",
    "                                   max_tokens = 512,\n",
    "                                   temperature =1.0)\n",
    "print(\"Answer: \", response[\"choices\"][0]['text'])"
   ]
  },
  {
   "cell_type": "markdown",
   "metadata": {},
   "source": [
    "### Gaussian Distribution"
   ]
  },
  {
   "cell_type": "code",
   "execution_count": 18,
   "metadata": {},
   "outputs": [
    {
     "name": "stdout",
     "output_type": "stream",
     "text": [
      "Samples: [[0.84921195 0.08353019]], Shape: (1, 2)\n"
     ]
    }
   ],
   "source": [
    "a = gauss_2d([0.82, 0.19], 0.01)\n",
    "print(a)"
   ]
  },
  {
   "cell_type": "code",
   "execution_count": 19,
   "metadata": {},
   "outputs": [
    {
     "name": "stdout",
     "output_type": "stream",
     "text": [
      "Answer:  \n",
      "The typical method for positioning a plate on a dish rack is to slide the plate along the slots, paying careful attention to ensure that the plate is level and centered in the slot. Depending on the size of the plate, it is usually best practice to ensure that at least two edges of the plate are resting within the slot for stability. Some dish racks may also have adjustable slots which allow for fine-tuning the fit and placement of the plate.\n"
     ]
    }
   ],
   "source": [
    "engine = \"text-davinci-003\"\n",
    "prompt = '''\n",
    "The goal is to place a plate in the kitchen. \n",
    "In terms of the symbolic spatial relationship between objects, \n",
    "a plate is suitable for placement on a dish rack. \n",
    "The rack has slots aligned along the y-axis, \n",
    "with an interval of 0.06m between each slot. \n",
    "What is the typical method for positioning a plate on a dish rack?\n",
    "'''\n",
    "response = openai.Completion.create(engine='text-davinci-003',\n",
    "                                   prompt=prompt,\n",
    "                                   max_tokens = 512,\n",
    "                                   temperature =1.0)\n",
    "print(\"Answer: \", response[\"choices\"][0]['text'])"
   ]
  },
  {
   "cell_type": "markdown",
   "metadata": {},
   "source": [
    "### 1. Position & Rotation Rand"
   ]
  },
  {
   "cell_type": "code",
   "execution_count": 8,
   "metadata": {},
   "outputs": [
    {
     "name": "stdout",
     "output_type": "stream",
     "text": [
      "Answer:  \n",
      "The first step is to determine the size of the plate relative to the available slots. Since the slots have an interval of 0.06m and the plate is 0.14m, it is necessary to place the plate in two adjacent slots.\n",
      "\n",
      "Next, consider the spatial orientation of the plate in relation to the other plates. Since we are given the quaternion for the plate, this refers to its orientation in a 3-dimensional space. The plate should be aligned with the other plates, keeping in mind the positioning of the slots. \n",
      "\n",
      "Finally, it is necessary to find the position in the slots between the other plates for the plate to be placed. The coordinates given {x: 0.8, y:0.1, z:0.82}m can be used to calculate the exact slot positioning for the plate. The final position of the plate in the slots should be determined according to the calculation from the quaternion and the coordinates.\n"
     ]
    }
   ],
   "source": [
    "engine = \"text-davinci-003\"\n",
    "prompt = '''\n",
    "The goal is to place a plate in the kitchen. \n",
    "In terms of the symbolic spatial relationship between objects, \n",
    "a plate is suitable for placement on a dish rack. \n",
    "The rack has slots aligned along the y-axis, \n",
    "with an interval of 0.06m between each slot. \n",
    "\n",
    "The plate size is {x:0.14, y:0.14, z:0.02}m.\n",
    "Some plates are placed in a rack where the coordinate is {x: 0.8, y:0.1, z:0.82}m, and quaternion {w: 1, x:0, y:0, z:0}.\n",
    "Where a plate should be placed in a slot considering other plates?\n",
    "'''\n",
    "\n",
    "response = openai.Completion.create(engine='text-davinci-003',\n",
    "                                   prompt=prompt,\n",
    "                                   max_tokens = 512,\n",
    "                                   temperature =1.0)\n",
    "print(\"Answer: \", response[\"choices\"][0]['text'])"
   ]
  },
  {
   "cell_type": "markdown",
   "metadata": {},
   "source": [
    "### 2. Position & Rotation (90deg) Rand"
   ]
  },
  {
   "cell_type": "code",
   "execution_count": 11,
   "metadata": {},
   "outputs": [
    {
     "name": "stdout",
     "output_type": "stream",
     "text": [
      "Answer:  \n",
      "To place the plate in the dish rack, the coordinates should be {x: 0.8, y: 0.06, z: 0.82}m and the quaternion should be {w: 0.71, x: 0, y: 0, z: 0.71}degree. This will ensure that the plate is properly aligned and spaced with the other plates.\n"
     ]
    }
   ],
   "source": [
    "engine = \"text-davinci-003\"\n",
    "prompt = '''\n",
    "The goal is to place a plate in the kitchen. \n",
    "In terms of the symbolic spatial relationship between objects, \n",
    "a plate is suitable for placement on a dish rack. \n",
    "The rack has slots aligned along the y-axis, \n",
    "with an interval of 0.06m between each slot. \n",
    "\n",
    "The plate size is {x:0.14, y:0.14, z:0.02}m. \n",
    "The dish rack size is {x:0.17, y:0.07, z:0.22}m at quaternion {w: 1, x:0, y:0, z:0}.\n",
    "Some plates are placed in a rack where the coordinate is {x: 0.8, y:0., z:0.82}m, and quaternion {w: 0.71, x:0, y:0, z:0.71}degree.\n",
    "Where a plate should be placed in a slot considering other plates?\n",
    "'''\n",
    "\n",
    "response = openai.Completion.create(engine='text-davinci-003',\n",
    "                                   prompt=prompt,\n",
    "                                   max_tokens = 512,\n",
    "                                   temperature =1.0)\n",
    "print(\"Answer: \", response[\"choices\"][0]['text'])"
   ]
  },
  {
   "cell_type": "markdown",
   "metadata": {},
   "source": [
    "### 3. Position & Rotation (60deg) Rand"
   ]
  },
  {
   "cell_type": "code",
   "execution_count": 12,
   "metadata": {},
   "outputs": [
    {
     "name": "stdout",
     "output_type": "stream",
     "text": [
      "Answer:  \n",
      "The plate should be placed in the slot at position {x: 0.76, y: 0.12, z: 0.82}m, and quaternion {w: 0.87, x:0, y:0, z:0.5}degree. This is the slot that is two intervals (0.06m) above the slot where the other plates are located.\n"
     ]
    }
   ],
   "source": [
    "engine = \"text-davinci-003\"\n",
    "prompt = '''\n",
    "The goal is to place a plate in the kitchen. \n",
    "In terms of the symbolic spatial relationship between objects, \n",
    "a plate is suitable for placement on a dish rack. \n",
    "The rack has slots aligned along the y-axis, \n",
    "with an interval of 0.06m between each slot. \n",
    "\n",
    "The plate size is {x:0.14, y:0.14, z:0.02}m. \n",
    "The dish rack size is {x:0.17, y:0.07, z:0.22}m at quaternion {w: 1, x:0, y:0, z:0}.\n",
    "Some plates are placed in a rack where the coordinate is {x: 0.76, y:0.06, z:0.82}m,and quaternion {w: 0.87, x:0, y:0, z:0.5}degree. \n",
    "Where a plate should be placed in a slot considering other plates?\n",
    "'''\n",
    "\n",
    "response = openai.Completion.create(engine='text-davinci-003',\n",
    "                                   prompt=prompt,\n",
    "                                   max_tokens = 512,\n",
    "                                   temperature =1.0)\n",
    "print(\"Answer: \", response[\"choices\"][0]['text'])"
   ]
  },
  {
   "cell_type": "markdown",
   "metadata": {},
   "source": [
    "### 4. Position & Rotation (45deg) Rand"
   ]
  },
  {
   "cell_type": "code",
   "execution_count": 30,
   "metadata": {},
   "outputs": [
    {
     "name": "stdout",
     "output_type": "stream",
     "text": [
      "Answer:  \n",
      "Considering the size and orientation of the plate, it should be placed in the slot at {x: 0.76, y: -0.04, z: 0.82}m (the 4th slot down from the top). This slot should be able to accommodate the plate, and will fit in between the other plates that are already placed.\n"
     ]
    }
   ],
   "source": [
    "engine = \"text-davinci-003\"\n",
    "prompt = '''\n",
    "The goal is to place a plate in the kitchen. \n",
    "In terms of the symbolic spatial relationship between objects, \n",
    "a plate is suitable for placement on a dish rack. \n",
    "The rack has slots aligned along the y-axis, \n",
    "with an interval of 0.06m between each slot. \n",
    "\n",
    "The plate size is {x:0.14, y:0.14, z:0.02}m. \n",
    "The dish rack size is {x:0.17, y:0.07, z:0.22}m at quaternion {w: 1, x:0, y:0, z:0}.\n",
    "Some plates are placed in a rack where the coordinate is {x: 0.76, y:-0.1, z:0.82}m, and quaternion {w: 0.92, x:0, y:0, z:0.38}degree. \n",
    "Where a plate should be placed in a slot considering other plates?\n",
    "'''\n",
    "\n",
    "response = openai.Completion.create(engine='text-davinci-003',\n",
    "                                   prompt=prompt,\n",
    "                                   max_tokens = 512,\n",
    "                                   temperature =1.0)\n",
    "print(\"Answer: \", response[\"choices\"][0]['text'])"
   ]
  },
  {
   "cell_type": "markdown",
   "metadata": {},
   "source": [
    "### 5. Position & Rotation (30deg) Rand"
   ]
  },
  {
   "cell_type": "code",
   "execution_count": 13,
   "metadata": {},
   "outputs": [
    {
     "name": "stdout",
     "output_type": "stream",
     "text": [
      "Answer:  \n",
      "The plate should be placed at a point with coordinates {x: 0.85, y:0.12, z:0.82}m, and a quaternion {w: 0.97, x:0, y:0, z:0.26}degree. This point is 0.06 m above the coordinates of the other plates in the rack. This should ensure that the plate is placed in its own slot without overlapping with other plates.\n"
     ]
    }
   ],
   "source": [
    "engine = \"text-davinci-003\"\n",
    "prompt = '''\n",
    "The goal is to place a plate in the kitchen. \n",
    "In terms of the symbolic spatial relationship between objects, \n",
    "a plate is suitable for placement on a dish rack. \n",
    "The rack has slots aligned along the y-axis, \n",
    "with an interval of 0.06m between each slot. \n",
    "\n",
    "The plate size is {x:0.14, y:0.14, z:0.02}m. \n",
    "The dish rack size is {x:0.17, y:0.07, z:0.22}m at quaternion {w: 1, x:0, y:0, z:0}.\n",
    "Some plates are placed in a rack where the coordinate is {x: 0.85, y:0.06, z:0.82}m, and quaternion {w: 0.97, x:0, y:0, z:0.26}degree. \n",
    "Where a plate should be placed in a slot considering other plates?\n",
    "'''\n",
    "\n",
    "response = openai.Completion.create(engine='text-davinci-003',\n",
    "                                   prompt=prompt,\n",
    "                                   max_tokens = 512,\n",
    "                                   temperature =1.0)\n",
    "print(\"Answer: \", response[\"choices\"][0]['text'])"
   ]
  },
  {
   "cell_type": "markdown",
   "metadata": {},
   "source": [
    "### 6. Position & Rotation (-30)deg Rand"
   ]
  },
  {
   "cell_type": "code",
   "execution_count": 14,
   "metadata": {},
   "outputs": [
    {
     "name": "stdout",
     "output_type": "stream",
     "text": [
      "Answer:  The plate can be placed in the slot which has the coordinates of {x: 0.8, y:0.2, z:0.82}m, and quaternion {w: 0.97, x:0, y:0, z:-0.26}degree. This position will removed the plane free from adjacent plate and y offset will align slot gap.\n"
     ]
    }
   ],
   "source": [
    "engine = \"text-davinci-003\"\n",
    "prompt = '''\n",
    "The goal is to place a plate in the kitchen. \n",
    "In terms of the symbolic spatial relationship between objects, \n",
    "a plate is suitable for placement on a dish rack. \n",
    "The rack has slots aligned along the y-axis, \n",
    "with an interval of 0.06m between each slot. \n",
    "\n",
    "The plate size is {x:0.14, y:0.14, z:0.02}m. \n",
    "The dish rack size is {x:0.17, y:0.07, z:0.22}m at quaternion {w: 1, x:0, y:0, z:0}.\n",
    "\n",
    "Some plates are placed in a rack where the coordinate is {x: 0.8, y:0.14, z:0.82}m, and quaternion {w: 0.97, x:0, y:0, z:-0.26}degree. \n",
    "Where a plate should be placed in a slot considering other plates?\n",
    "'''\n",
    "\n",
    "response = openai.Completion.create(engine='text-davinci-003',\n",
    "                                   prompt=prompt,\n",
    "                                   max_tokens = 512,\n",
    "                                   temperature =1.0)\n",
    "print(\"Answer: \", response[\"choices\"][0]['text'])"
   ]
  },
  {
   "cell_type": "markdown",
   "metadata": {},
   "source": [
    "### 7. Position & Rotation (-45)deg Rand"
   ]
  },
  {
   "cell_type": "code",
   "execution_count": 15,
   "metadata": {},
   "outputs": [
    {
     "name": "stdout",
     "output_type": "stream",
     "text": [
      "Answer:  \n",
      "The plate should be placed with its coordinate of {x: 1.0, y: -0.08, z: 0.82}m, and quaternion {w: 0.92, x:0, y:0, z:-0.38}degree. This will place the plate in the slot between the other plates, ensuring that it will fit snugly into the dish rack.\n"
     ]
    }
   ],
   "source": [
    "engine = \"text-davinci-003\"\n",
    "prompt = '''\n",
    "The goal is to place a plate in the kitchen. \n",
    "In terms of the symbolic spatial relationship between objects, \n",
    "a plate is suitable for placement on a dish rack. \n",
    "The rack has slots aligned along the y-axis, \n",
    "with an interval of 0.06m between each slot. \n",
    "The plate size is {x:0.14, y:0.14, z:0.02}m. \n",
    "The dish rack size is {x:0.17, y:0.07, z:0.22}m at quaternion {w: 1, x:0, y:0, z:0}.\n",
    "\n",
    "Some plates are placed in a rack where the coordinate is {x: 0.8, y:-0.14, z:0.82}m, and quaternion {w: 0.92, x:0, y:0, z:-0.38}degree. \n",
    "Where a plate should be placed in a slot considering other plates?\n",
    "'''\n",
    "\n",
    "response = openai.Completion.create(engine='text-davinci-003',\n",
    "                                   prompt=prompt,\n",
    "                                   max_tokens = 512,\n",
    "                                   temperature =1.0)\n",
    "print(\"Answer: \", response[\"choices\"][0]['text'])"
   ]
  },
  {
   "cell_type": "markdown",
   "metadata": {},
   "source": [
    "### 8. Position & Rotation (-60)deg Rand"
   ]
  },
  {
   "cell_type": "code",
   "execution_count": 16,
   "metadata": {},
   "outputs": [
    {
     "name": "stdout",
     "output_type": "stream",
     "text": [
      "Answer:  \n",
      "The plate should be placed in the slot at coordinates {x: 0.85, y: 0.20, z: 0.82}m and quaternion {w: 0.87, x:0, y:0, z:-0.5} degree, taking into account the size and orientation of the other plates in the dish rack. This coordinate should be adjusted to account for the plate's size and orientation with respect to the slots in the rack.\n"
     ]
    }
   ],
   "source": [
    "engine = \"text-davinci-003\"\n",
    "prompt = '''\n",
    "The goal is to place a plate in the kitchen. \n",
    "In terms of the symbolic spatial relationship between objects, \n",
    "a plate is suitable for placement on a dish rack. \n",
    "The rack has slots aligned along the y-axis, \n",
    "with an interval of 0.06m between each slot. \n",
    "The plate size is {x:0.14, y:0.14, z:0.02}m. \n",
    "The dish rack size is {x:0.17, y:0.07, z:0.22}m at quaternion {w: 1, x:0, y:0, z:0}.\n",
    "\n",
    "Some plates are placed in a rack where the coordinate is {x: 0.85, y:-0.04, z:0.82}m, and quaternion {w: 0.87, x:0, y:0, z:-0.5}degree.\n",
    "Where a plate should be placed in a slot considering other plates?\n",
    "'''\n",
    "\n",
    "response = openai.Completion.create(engine='text-davinci-003',\n",
    "                                   prompt=prompt,\n",
    "                                   max_tokens = 512,\n",
    "                                   temperature =1.0)\n",
    "print(\"Answer: \", response[\"choices\"][0]['text'])"
   ]
  },
  {
   "cell_type": "markdown",
   "metadata": {},
   "source": [
    "### 9. Position & Rotation (-90)deg Rand"
   ]
  },
  {
   "cell_type": "code",
   "execution_count": 17,
   "metadata": {},
   "outputs": [
    {
     "name": "stdout",
     "output_type": "stream",
     "text": [
      "Answer:  \n",
      "The plate should be placed in the slot at the coordinates {x: 0.8, y: 0.11, z: 0.82}m, and quaternion {w: 0.71, x: 0, y: 0, z: -0.71}degree. This is the second slot from the left.\n"
     ]
    }
   ],
   "source": [
    "engine = \"text-davinci-003\"\n",
    "prompt = '''\n",
    "The goal is to place a plate in the kitchen. \n",
    "In terms of the symbolic spatial relationship between objects, \n",
    "a plate is suitable for placement on a dish rack. \n",
    "The rack has slots aligned along the y-axis, \n",
    "with an interval of 0.06m between each slot. \n",
    "The plate size is {x:0.14, y:0.14, z:0.02}m. \n",
    "The dish rack size is {x:0.17, y:0.07, z:0.22}m at quaternion {w: 1, x:0, y:0, z:0}.\n",
    "\n",
    "The plate size is {x:0.14, y:0.14, z:0.02}m. and the rotation is {x:90, y:0, z:0}degree.\n",
    "Some plates are placed in a rack where the coordinate is {x: 0.8, y:0.05, z:0.82}m, and quaternion {w: 0.71, x:0, y:0, z:-0.71}degree.\n",
    "Where a plate should be placed in a slot considering other plates?\n",
    "'''\n",
    "\n",
    "response = openai.Completion.create(engine='text-davinci-003',\n",
    "                                   prompt=prompt,\n",
    "                                   max_tokens = 512,\n",
    "                                   temperature =1.0)\n",
    "print(\"Answer: \", response[\"choices\"][0]['text'])"
   ]
  },
  {
   "cell_type": "markdown",
   "metadata": {},
   "source": [
    "### 10. Position & Rotation (20)deg Rand"
   ]
  },
  {
   "cell_type": "code",
   "execution_count": 18,
   "metadata": {},
   "outputs": [
    {
     "name": "stdout",
     "output_type": "stream",
     "text": [
      "Answer:  \n",
      "The optimal placement for the plate would be to place it in the fourth slot of the rack, with the coordinate of {x: 0.82, y: 0.19, z: 0.82}m and quaternion of {w: 0.98, x: 0, y: 0, z: 0.17}degree. This placement would maintain the 0.06m interval between the slots and ensure that the plate is properly aligned within the rack.\n"
     ]
    }
   ],
   "source": [
    "engine = \"text-davinci-003\"\n",
    "prompt = '''\n",
    "The goal is to place a plate in the kitchen. \n",
    "In terms of the symbolic spatial relationship between objects, \n",
    "a plate is suitable for placement on a dish rack. \n",
    "The rack has slots aligned along the y-axis, \n",
    "with an interval of 0.06m between each slot. \n",
    "The plate size is {x:0.14, y:0.14, z:0.02}m. \n",
    "The dish rack size is {x:0.17, y:0.07, z:0.22}m at quaternion {w: 1, x:0, y:0, z:0}.\n",
    "\n",
    "The plate size is {x:0.14, y:0.14, z:0.02}m. and the rotation is {x:90, y:0, z:0}degree.\n",
    "Some plates are placed in a rack where the coordinate is {x: 0.82, y:0.13, z:0.82}m, and quaternion {w: 0.98, x:0, y:0, z: 0.17}degree. \n",
    "Where a plate should be placed in a slot considering other plates?\n",
    "'''\n",
    "\n",
    "response = openai.Completion.create(engine='text-davinci-003',\n",
    "                                   prompt=prompt,\n",
    "                                   max_tokens = 512,\n",
    "                                   temperature =1.0)\n",
    "print(\"Answer: \", response[\"choices\"][0]['text'])"
   ]
  },
  {
   "cell_type": "code",
   "execution_count": 22,
   "metadata": {},
   "outputs": [
    {
     "name": "stdout",
     "output_type": "stream",
     "text": [
      "(0.833787488987735, 0.17198643001064723)\n"
     ]
    }
   ],
   "source": []
  },
  {
   "cell_type": "code",
   "execution_count": null,
   "metadata": {},
   "outputs": [],
   "source": []
  }
 ],
 "metadata": {
  "kernelspec": {
   "display_name": "Python 3",
   "language": "python",
   "name": "python3"
  },
  "language_info": {
   "codemirror_mode": {
    "name": "ipython",
    "version": 3
   },
   "file_extension": ".py",
   "mimetype": "text/x-python",
   "name": "python",
   "nbconvert_exporter": "python",
   "pygments_lexer": "ipython3",
   "version": "3.11.5"
  },
  "orig_nbformat": 4
 },
 "nbformat": 4,
 "nbformat_minor": 2
}
