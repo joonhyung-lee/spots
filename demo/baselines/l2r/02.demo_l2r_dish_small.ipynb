{
 "cells": [
  {
   "cell_type": "code",
   "execution_count": 4,
   "metadata": {},
   "outputs": [
    {
     "name": "stdout",
     "output_type": "stream",
     "text": [
      "Done.\n"
     ]
    }
   ],
   "source": [
    "import openai \n",
    "import os \n",
    "openai.api_key = 'your key'  \n",
    "\n",
    "class ChatGPT():\n",
    "    def __init__ (self, model_engine='text-davinci-003'):\n",
    "        self.model_engine = model_engine\n",
    "        self.msg_history_turbo = []\n",
    "        self.msg_history_davinci = \"\"\n",
    "        self.role = 'user'\n",
    "        \n",
    "    def get_answer(self, prompt=None):\n",
    "        if self.model_engine == 'gpt-3.5-turbo':\n",
    "            self.msg_history_turbo.append({\"role\": self.role, \"content\":prompt})\n",
    "            response   = openai.ChatCompletion.create(\n",
    "            model      = self.model_engine,\n",
    "            messages   = self.msg_history_turbo)\n",
    "            reply_text = response['choices'][0]['message']['content']\n",
    "            self.msg_history_turbo.append({\"role\":\"assistant\", \"content\":reply_text})\n",
    "\n",
    "        elif self.model_engine == 'text-davinci-003': \n",
    "            self.msg_history_davinci += \"You: \"+prompt \n",
    "            response   = openai.Completion.create(\n",
    "            engine     = self.model_engine,\n",
    "            prompt     = self.msg_history_davinci,\n",
    "            max_tokens = 512,\n",
    "            temperature= 1.0,\n",
    "            n          = 1,\n",
    "            #stop       = [\"You:\", \"AI:\"]\n",
    "            )\n",
    "            reply_text = response.choices[0].text.strip().replace('Answer: ', '')\n",
    "            self.msg_history_davinci+=\"\\n\"+\"AI: \"+reply_text+\"\\n\"\n",
    "        # print(\"ChatGPT: {}\".format(reply_text))\n",
    "        print(len(self.msg_history_turbo))\n",
    "        return reply_text\n",
    "\n",
    "print(\"Done.\")"
   ]
  },
  {
   "cell_type": "markdown",
   "metadata": {},
   "source": [
    "## Language to Rewards \n",
    "This method translates natural langauge instrucitons to rewards to provide parameters for reward functions.\n",
    "\n",
    "\n",
    "\n",
    "## Reward Translator \n",
    "The reward translator is compromised of two part, motion descriptors and reward corders \n",
    "\n",
    "### Motion descriptor \n",
    "1. Place an object stably on the workspace.\n",
    "2. We provide also the description of the objects in a given scenario.\n",
    "\n",
    "\n",
    "### Example \n",
    "Describe the motion of a dog robot using the following form:\n",
    "* The torso of the robot should pitch upward at [NUM: 0.0] degrees.\n",
    "* The height of the robot's CoM or torso center should be at [NUM: 0.3] m. ...\n",
    "Remember:\n",
    "1. If you see phrases like [NUM: default_value], replace the entire phrase with a numerical value.\n",
    "2. If you see phrases like {CHOICE: choice1, choice2, ...}, it means you should replace the entire phrase with one of the choices listed.\n",
    "\n",
    "### Reward Corder \n",
    "We have a description of a robot's motion and we want you to turn that into the corresponding program with following functions: \n",
    "\n",
    "set_torso_rewards(height, pitch)\n",
    "height: height target for the robot torso\n",
    "pitch: pitch angle of the torso ...\n",
    "\n",
    "\n",
    "Example answer code:\n",
    "import numpy as np set_torso_targets(0.1, np.deg2rad(5)) \n",
    "\n",
    "...\n",
    "\n",
    "Remember:\n",
    "1. Always format the code in code blocks"
   ]
  },
  {
   "cell_type": "code",
   "execution_count": 6,
   "metadata": {},
   "outputs": [
    {
     "name": "stdout",
     "output_type": "stream",
     "text": [
      "2\n",
      "Answer:  Yes.\n"
     ]
    }
   ],
   "source": [
    "engine = \"gpt-3.5-turbo\"\n",
    "llm = ChatGPT(model_engine=engine)\n",
    "\n",
    "prompt = '''\n",
    "We have a manipulator and we want you to help plan how it should move to perform tasks using the following template:\n",
    "The rack has slots aligned along the y-axis\n",
    "\n",
    "The plate size is {x:0.14, y:0.02, z:0.14}m.\n",
    "The dish rack size is {x:0.12, y:0.225, z:0.085}m.\n",
    "The rack has slots aligned along the y-axis.\n",
    "\n",
    "Place a dish plate into a dish rack, and tell me the range.\n",
    "\n",
    "[start of plan]\n",
    "[optional] To perform this task, the manipulator's gripper should move close to dish plate\n",
    "[optional] dish plate should be close to dish rack.\n",
    "[optional] dish rack is placed on the position {x: 0.8, y: 0.0, z:0.82}m in the table.\n",
    "[optional] The range of the dish plate is able to be placed in the dish rack {MINIMUM RANGE: 0.0, 0.0, 0.0}m and {MAXIMUM RANGE: 0.0, 0.0, 0.0}.\n",
    "[end of plan]\n",
    "\n",
    "Rules:\n",
    "1. If you see phrases like {MINIMUM RANGE: default x value, default y value, default z value}, {MAXIMUM RANGE: default x value, default y value, default z value}\n",
    "   replace the entire phrase with a numerical value.\n",
    "2. If you see [optional], it means you only add that line if necessary for the task, otherwise remove that line.\n",
    "3. Do not invent new objects not listed here.\n",
    "4. I will tell you a behavior/skill/task that I want the manipulator to perform and you will provide the full plan,\n",
    "   even if you may only need to change a few lines. Always start the description with [start of plan] and end it with [end of plan].\n",
    "5. You can assume that the robot is capable of doing anything, even for the most challenging task.\n",
    "6. Your plan should be as close to the provided template as possible. Do not include additional details.\n",
    "7. The robot is facing towards positive x-axis, positive y-axis is to the left of the robot, positive z-axis is upward.\n",
    "8. Objects are free to move around unless a command is given.\n",
    "9. Answer the range {MINIMUM RANGE: 0.0, 0.0, 0.0}m and {MAXIMUM RANGE: 0.0, 0.0, 0.0} where a dish is able to be placed in the dish rack.\n",
    "If you understand, say Yes.\n",
    "'''\n",
    "\n",
    "response = llm.get_answer(prompt)\n",
    "print(\"Answer: \", response)"
   ]
  },
  {
   "cell_type": "code",
   "execution_count": 7,
   "metadata": {},
   "outputs": [
    {
     "name": "stdout",
     "output_type": "stream",
     "text": [
      "4\n",
      "Answer:  Yes.\n"
     ]
    }
   ],
   "source": [
    "\n",
    "# llm = ChatGPT(model_engine=engine)\n",
    "prompt = '''\n",
    "We have a plan of a robot arm with gripper to place objects and we want you to turn that into the corresponding reward specifying program with following functions:\n",
    "\n",
    "```\n",
    "def set_l2_distance_reward(name_obj_A, name_obj_B)\n",
    "```\n",
    "where name_obj_A and name_obj_B are selected from ['dish rack', 'dish plate'].\n",
    "This term sets a reward for minimizing l2_distance between name_obj_A and name_obj_B so they get closer to each other.\n",
    "\n",
    "```\n",
    "def set_obj_orientation_reward(name_obj, x_axis_rotation_radians, z_axis_rotation_radians)\n",
    "```\n",
    "this term encourages the orientation of name_obj to be close to the target.\n",
    "\n",
    "```\n",
    "def execute_plan(duration=2)\n",
    "```\n",
    "This function sends the parameters to the robot and execute the plan for `duration` seconds, default to be 2\n",
    "\n",
    "```\n",
    "def set_obj_position_reward(name_obj, x_offset, y_offset, z_height)\n",
    "```\n",
    "this term encourages the position of name_obj to be close to the specified target position.\n",
    "\n",
    "```\n",
    "def reset_reward()\n",
    "```\n",
    "This function resets the reward to default values.\n",
    "\n",
    "This is the first plan for a new task.\n",
    "\n",
    "Example answer code:\n",
    "```\n",
    "import numpy as np\n",
    "\n",
    "reset_reward() # This is a new task so reset reward; otherwise we don't need it\n",
    "set_l2_distance_reward(\"dish rack\", \"dish plate\")\n",
    "set_obj_orientation_reward(\"dish plate\", np.deg2rad(30), 0)\n",
    "set_obj_position_reward(\"dish plate\", 0, 0, 1.0)\n",
    "\n",
    "execute_plan(4)\n",
    "```\n",
    "\n",
    "Remember:\n",
    "1. Always format the code in code blocks. In your response execute_plan should be called exactly once at the end.\n",
    "2. Do not invent new functions or classes. The only allowed functions you can call are the ones listed above. Do not leave unimplemented code blocks in your response.\n",
    "3. The only allowed library is numpy. Do not import or use any other library.\n",
    "4. If you are not sure what value to use, just use your best judge. Do not use None for anything.\n",
    "5. Do not calculate the position or direction of any object (except for the ones provided above). Just use a number directly based on your best guess.\n",
    "6. You do not need to make the robot do extra things not mentioned in the plan such as stopping the robot.\n",
    "\n",
    "If you understand, say Yes.\n",
    "'''\n",
    "response = llm.get_answer(prompt)\n",
    "print(\"Answer: \", response)"
   ]
  },
  {
   "cell_type": "code",
   "execution_count": 8,
   "metadata": {},
   "outputs": [
    {
     "name": "stdout",
     "output_type": "stream",
     "text": [
      "6\n",
      "Answer:  import numpy as np\n",
      "\n",
      "reset_reward()\n",
      "set_l2_distance_reward(\"dish rack\", \"dish plate\")\n",
      "set_obj_orientation_reward(\"dish plate\", 0, 0)\n",
      "set_obj_position_reward(\"dish plate\", 0, -0.105, 0.83)\n",
      "\n",
      "execute_plan(2)\n"
     ]
    }
   ],
   "source": [
    "prompt = \"Put a dish plate into a dish rack\"\n",
    "response = llm.get_answer(prompt)\n",
    "print(\"Answer: \", response)"
   ]
  },
  {
   "cell_type": "code",
   "execution_count": null,
   "metadata": {},
   "outputs": [],
   "source": []
  }
 ],
 "metadata": {
  "kernelspec": {
   "display_name": "Python 3",
   "language": "python",
   "name": "python3"
  },
  "language_info": {
   "codemirror_mode": {
    "name": "ipython",
    "version": 3
   },
   "file_extension": ".py",
   "mimetype": "text/x-python",
   "name": "python",
   "nbconvert_exporter": "python",
   "pygments_lexer": "ipython3",
   "version": "3.11.5"
  },
  "orig_nbformat": 4
 },
 "nbformat": 4,
 "nbformat_minor": 2
}
